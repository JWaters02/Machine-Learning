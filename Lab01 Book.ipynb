{
 "cells": [
  {
   "cell_type": "code",
   "execution_count": null,
   "source": [
    "print(\"Hello, World!\")\r\n",
    "print(\"Goodbye, World!\")"
   ],
   "outputs": [],
   "metadata": {}
  },
  {
   "cell_type": "markdown",
   "source": [
    "The code above is very basic. Let's move onto something more... **advanced...**"
   ],
   "metadata": {}
  },
  {
   "cell_type": "code",
   "execution_count": null,
   "source": [
    "def myfunc(n):\r\n",
    "    return lambda a : a * n\r\n",
    "\r\n",
    "mytripler = myfunc(3)\r\n",
    "print(mytripler(11))"
   ],
   "outputs": [],
   "metadata": {}
  }
 ],
 "metadata": {
  "orig_nbformat": 4,
  "language_info": {
   "name": "python"
  }
 },
 "nbformat": 4,
 "nbformat_minor": 2
}