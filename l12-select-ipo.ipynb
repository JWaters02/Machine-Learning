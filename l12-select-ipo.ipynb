{
 "cells": [
  {
   "cell_type": "markdown",
   "metadata": {
    "papermill": {
     "duration": 0.06358,
     "end_time": "2022-01-15T11:27:56.753724",
     "exception": false,
     "start_time": "2022-01-15T11:27:56.690144",
     "status": "completed"
    },
    "tags": []
   },
   "source": [
    "# Case Study: Which IPO to Buy? \n",
    "Select using Logistic Regression\n",
    "[COMP20121 Machine Learning for Data Analytics](https://sites.google.com/site/hejunhomepage/Teaching/machine-learning-for-data-analytics)\n",
    "\n",
    "Author: Jun He \n",
    "\n",
    "|<img src =\"https://news.tradimo.com/wp-content/uploads/2020/01/GettyImages-1045262938-d6e77886128f4b05b3b4b4e3daef781a-1536x1024.jpg\" width =300>|\n",
    "|:--:|\n",
    "|[IPO](https://news.tradimo.com/wp-content/uploads/2020/01/GettyImages-1045262938-d6e77886128f4b05b3b4b4e3daef781a.jpg)|"
   ]
  },
  {
   "cell_type": "code",
   "execution_count": 4,
   "metadata": {
    "execution": {
     "iopub.execute_input": "2022-01-15T11:27:57.012955Z",
     "iopub.status.busy": "2022-01-15T11:27:57.012156Z",
     "iopub.status.idle": "2022-01-15T11:27:57.015387Z",
     "shell.execute_reply": "2022-01-15T11:27:57.014803Z",
     "shell.execute_reply.started": "2022-01-14T15:53:03.331847Z"
    },
    "papermill": {
     "duration": 0.072175,
     "end_time": "2022-01-15T11:27:57.015564",
     "exception": false,
     "start_time": "2022-01-15T11:27:56.943389",
     "status": "completed"
    },
    "tags": []
   },
   "outputs": [],
   "source": [
    "import numpy as np\n",
    "import pandas as pd \n",
    "import matplotlib.pyplot as plt  "
   ]
  },
  {
   "cell_type": "markdown",
   "metadata": {
    "papermill": {
     "duration": 0.061729,
     "end_time": "2022-01-15T11:27:57.141614",
     "exception": false,
     "start_time": "2022-01-15T11:27:57.079885",
     "status": "completed"
    },
    "tags": []
   },
   "source": [
    "### Learning Objectives\n",
    "1. Develop  an ML project for selecting IPO based on the real-world data by CRISP-DM\n",
    "1. Read Excel spreadsheet and convert float date to the normal format\n",
    "1. Add useful new project-specific features    \n",
    "1. Evaluate the model performance using a project-specific measurement"
   ]
  },
  {
   "cell_type": "markdown",
   "metadata": {
    "papermill": {
     "duration": 0.061923,
     "end_time": "2022-01-15T11:27:57.266019",
     "exception": false,
     "start_time": "2022-01-15T11:27:57.204096",
     "status": "completed"
    },
    "tags": []
   },
   "source": [
    "### Lecture materials  \n",
    "* The materials of this lecture is based on the book: Combs, A., & Roman, M. (2019). [Python Machine Learning Blueprints.](https://www.packtpub.com/gb/big-data-and-business-intelligence/python-machine-learning-blueprints-second-edition) Packt Publishing Ltd. Second edition. \n",
    "* The code of this project is available at Github via searching the book name \"Python Machine Learning Blueprints\""
   ]
  },
  {
   "cell_type": "markdown",
   "metadata": {
    "papermill": {
     "duration": 0.064402,
     "end_time": "2022-01-15T11:27:57.392623",
     "exception": false,
     "start_time": "2022-01-15T11:27:57.328221",
     "status": "completed"
    },
    "tags": []
   },
   "source": [
    "## Part 1 Business Understanding\n",
    "### What is IPO?\n",
    "* **Initial public offering (IPO)**  is the process that transfers a private company into a public one. \n",
    "* A company gets funding from public through purchasing its shares. \n",
    "* One or more investment banks help underwrite the offering \n",
    "* The banks make a guarantee to the company that they will purchase all of the shares being offered at the IPO price on the day of the IPO. \n",
    "* The underwriters do not intend to keep all of the shares themselves. So, the banks  takes a roadshow to attract interest from institutional clients \n",
    "* These clients put in a subscription for the shares, which indicates their interest in buying shares on the day of the IPO. \n",
    "* A non-binding contract, as the price of the offering is not finalized until the day of the IPO.  \n",
    "*  underwriter set the **offer price** based on the level of interest expressed "
   ]
  },
  {
   "cell_type": "markdown",
   "metadata": {
    "papermill": {
     "duration": 0.062057,
     "end_time": "2022-01-15T11:27:57.517323",
     "exception": false,
     "start_time": "2022-01-15T11:27:57.455266",
     "status": "completed"
    },
    "tags": []
   },
   "source": [
    "### Business goal of This project\n",
    "* For institution clients,  **their return**  is the difference between the  **offering price**  of shares and the first day's  **closing price** \n",
    "* For general public, their return is the difference between the   **opening price**  on the first day (typically higher than the  **offering price**  to institutional clients) and sales it at the end of the day.   \n",
    "* As public, we use ML to help decide \n",
    "    1. which IPOs are worth a closer look:  buy\n",
    "    1. which ones we may want to take a pass on: not buy\n",
    "* This is a binary classification problem\n",
    "\n",
    "* The price of some IPOs may rise over 100\\% on the first day of trading such as\n",
    "    * Seres Therapeutics up 185\\%, 06/26/15\n",
    "    * Audro Biotech up 147\\%, 4/15/15\n",
    "    * Shake Shack up 118\\%, 1/30/15"
   ]
  },
  {
   "cell_type": "markdown",
   "metadata": {
    "papermill": {
     "duration": 0.063496,
     "end_time": "2022-01-15T11:27:57.642765",
     "exception": false,
     "start_time": "2022-01-15T11:27:57.579269",
     "status": "completed"
    },
    "tags": []
   },
   "source": [
    "## Part 2 Data understanding  \n",
    "### IPO Data\n",
    "* IPO Data comes from IPOScoop.com, which  provides a service of ratings upcoming IPOs. \n",
    "* The IPO data from 2000 to present is downloaded from the website https://www.iposcoop.com/scoop-track-record-from-2000-to-present/. \n",
    "* The data file `SCOOP-Rating-Performance.xls` is an  **Excel spreadsheet** \n",
    "* Read the data (spread sheet) find the spreadsheet consists of both summary and data"
   ]
  },
  {
   "cell_type": "markdown",
   "metadata": {
    "papermill": {
     "duration": 0.063395,
     "end_time": "2022-01-15T11:27:57.769798",
     "exception": false,
     "start_time": "2022-01-15T11:27:57.706403",
     "status": "completed"
    },
    "tags": []
   },
   "source": [
    "###  Read Excel Data \n",
    "* Pandas function `read_csv()` cannot be used to read Excel data.\n",
    "* Use   `xlrd`  library  to read Excel files into Python lists "
   ]
  },
  {
   "cell_type": "code",
   "execution_count": 5,
   "metadata": {
    "execution": {
     "iopub.execute_input": "2022-01-15T11:27:57.903191Z",
     "iopub.status.busy": "2022-01-15T11:27:57.902087Z",
     "iopub.status.idle": "2022-01-15T11:27:57.926449Z",
     "shell.execute_reply": "2022-01-15T11:27:57.927261Z",
     "shell.execute_reply.started": "2022-01-14T15:53:03.346935Z"
    },
    "papermill": {
     "duration": 0.092997,
     "end_time": "2022-01-15T11:27:57.927446",
     "exception": false,
     "start_time": "2022-01-15T11:27:57.834449",
     "status": "completed"
    },
    "tags": []
   },
   "outputs": [],
   "source": [
    "#!pip install xlrd #install a library if it does not exist \n",
    "import xlrd "
   ]
  },
  {
   "cell_type": "markdown",
   "metadata": {
    "papermill": {
     "duration": 0.06145,
     "end_time": "2022-01-15T11:27:58.052842",
     "exception": false,
     "start_time": "2022-01-15T11:27:57.991392",
     "status": "completed"
    },
    "tags": []
   },
   "source": [
    "* Loaded the entire Excel workbook\n",
    "* `lrd.open_workbook` method: open a spreadsheet file for data extraction and return a `Book` objective."
   ]
  },
  {
   "cell_type": "code",
   "execution_count": 6,
   "metadata": {
    "execution": {
     "iopub.execute_input": "2022-01-15T11:27:58.181113Z",
     "iopub.status.busy": "2022-01-15T11:27:58.180440Z",
     "iopub.status.idle": "2022-01-15T11:28:00.480975Z",
     "shell.execute_reply": "2022-01-15T11:28:00.479915Z",
     "shell.execute_reply.started": "2022-01-14T15:53:03.363828Z"
    },
    "papermill": {
     "duration": 2.365502,
     "end_time": "2022-01-15T11:28:00.481151",
     "exception": false,
     "start_time": "2022-01-15T11:27:58.115649",
     "status": "completed"
    },
    "tags": []
   },
   "outputs": [
    {
     "name": "stdout",
     "output_type": "stream",
     "text": [
      "C:\\Users\\Bobby\\AppData\\Local\\Temp\\tmpht11vn3i\n",
      "<xlrd.book.Book object at 0x000002CC74F9E850>\n"
     ]
    }
   ],
   "source": [
    "import requests \n",
    "import urllib\n",
    "url = \"https://www.iposcoop.com/wp-content/uploads/2013/11/SCOOP-Rating-Performance.xls\"\n",
    "# in Kaggle settings, Internet option must be On for accessing this online data set  \n",
    "file_name, headers = urllib.request.urlretrieve(url)\n",
    "print (file_name)\n",
    "wb = xlrd.open_workbook(file_name)\n",
    "print (wb)"
   ]
  },
  {
   "cell_type": "markdown",
   "metadata": {
    "papermill": {
     "duration": 0.063194,
     "end_time": "2022-01-15T11:28:00.609177",
     "exception": false,
     "start_time": "2022-01-15T11:28:00.545983",
     "status": "completed"
    },
    "tags": []
   },
   "source": [
    "* In this project, we only need the spreadsheet by the first index\n",
    "* Function `sheet_by_index` return a Sheet by the assigned index.\n",
    "* Dsiplay first 40 rows"
   ]
  },
  {
   "cell_type": "code",
   "execution_count": 7,
   "metadata": {
    "execution": {
     "iopub.execute_input": "2022-01-15T11:28:00.754444Z",
     "iopub.status.busy": "2022-01-15T11:28:00.753357Z",
     "iopub.status.idle": "2022-01-15T11:28:00.842308Z",
     "shell.execute_reply": "2022-01-15T11:28:00.841110Z"
    },
    "papermill": {
     "duration": 0.167958,
     "end_time": "2022-01-15T11:28:00.842558",
     "exception": false,
     "start_time": "2022-01-15T11:28:00.674600",
     "status": "completed"
    },
    "tags": []
   },
   "outputs": [
    {
     "name": "stdout",
     "output_type": "stream",
     "text": [
      "0 [empty:'', empty:'', empty:'', text:'IPO SCOOP Rating Scorecard', empty:'', empty:'', empty:'', empty:'', empty:'', empty:'', empty:'', empty:'']\n",
      "1 [empty:'', empty:'', empty:'', text:'(First published online in May 2000)', empty:'', empty:'', empty:'', empty:'', empty:'', empty:'', empty:'', empty:'']\n",
      "2 [empty:'', empty:'', empty:'', empty:'', empty:'', empty:'', empty:'', empty:'', empty:'', empty:'', empty:'', empty:'']\n",
      "3 [text:'Year', text:'IPOs Priced', text:'Calls', text:'On Target', empty:'', text:'Batting Average', empty:'', empty:'', empty:'', empty:'', empty:'', empty:'']\n",
      "4 [number:2020.0, number:205.0, number:198.0, number:180.0, number:18.0, number:0.9090909090909091, empty:'', empty:'', empty:'', empty:'', empty:'', empty:'']\n",
      "5 [number:2019.0, number:231.0, number:207.0, number:186.0, number:21.0, number:0.8985507246376812, empty:'', empty:'', empty:'', empty:'', empty:'', empty:'']\n",
      "6 [number:2018.0, number:228.0, number:223.0, number:191.0, number:32.0, number:0.8565022421524664, empty:'', empty:'', empty:'', empty:'', empty:'', empty:'']\n",
      "7 [number:2017.0, number:186.0, number:182.0, number:157.0, number:25.0, number:0.8626373626373627, empty:'', empty:'', empty:'', empty:'', empty:'', empty:'']\n",
      "8 [number:2016.0, number:107.0, number:106.0, number:97.0, number:9.0, number:0.9150943396226415, empty:'', empty:'', empty:'', empty:'', empty:'', empty:'']\n",
      "9 [number:2015.0, number:173.0, number:173.0, number:157.0, number:16.0, number:0.9075144508670521, empty:'', empty:'', empty:'', empty:'', empty:'', empty:'']\n",
      "10 [number:2014.0, number:261.0, number:261.0, number:234.0, number:27.0, number:0.896551724137931, empty:'', empty:'', empty:'', empty:'', empty:'', empty:'']\n",
      "11 [number:2013.0, number:230.0, number:230.0, number:209.0, number:21.0, number:0.908695652173913, empty:'', empty:'', empty:'', empty:'', empty:'', empty:'']\n",
      "12 [number:2012.0, number:146.0, number:146.0, number:134.0, number:12.0, number:0.9178082191780822, empty:'', empty:'', empty:'', empty:'', empty:'', empty:'']\n",
      "13 [number:2011.0, number:143.0, number:143.0, number:130.0, number:13.0, number:0.9090909090909091, empty:'', empty:'', empty:'', empty:'', empty:'', empty:'']\n",
      "14 [number:2010.0, number:165.0, number:160.0, number:142.0, number:18.0, number:0.8875, empty:'', empty:'', empty:'', empty:'', empty:'', empty:'']\n",
      "15 [number:2009.0, number:63.0, number:61.0, number:50.0, number:11.0, number:0.819672131147541, empty:'', empty:'', empty:'', empty:'', empty:'', empty:'']\n",
      "16 [number:2008.0, number:50.0, number:47.0, number:43.0, number:4.0, number:0.9148936170212766, empty:'', empty:'', empty:'', empty:'', empty:'', empty:'']\n",
      "17 [number:2007.0, number:279.0, number:256.0, number:230.0, number:26.0, number:0.8984375, empty:'', empty:'', empty:'', empty:'', empty:'', empty:'']\n",
      "18 [number:2006.0, number:240.0, number:237.0, number:212.0, number:25.0, number:0.8945147679324894, empty:'', empty:'', empty:'', empty:'', empty:'', empty:'']\n",
      "19 [number:2005.0, number:236.0, number:226.0, number:198.0, number:28.0, number:0.8761061946902655, empty:'', empty:'', empty:'', empty:'', empty:'', empty:'']\n",
      "20 [number:2004.0, number:249.0, number:232.0, number:201.0, number:31.0, number:0.8663793103448276, empty:'', empty:'', empty:'', empty:'', empty:'', empty:'']\n",
      "21 [number:2003.0, number:84.0, number:80.0, number:70.0, number:10.0, number:0.875, empty:'', empty:'', empty:'', empty:'', empty:'', empty:'']\n",
      "22 [number:2002.0, number:85.0, number:83.0, number:70.0, number:13.0, number:0.8433734939759037, empty:'', empty:'', empty:'', empty:'', empty:'', empty:'']\n",
      "23 [number:2001.0, number:96.0, number:94.0, number:78.0, number:16.0, number:0.8297872340425532, empty:'', empty:'', empty:'', empty:'', empty:'', empty:'']\n",
      "24 [number:2000.0, number:256.0, number:237.0, number:210.0, number:27.0, number:0.8860759493670886, empty:'', empty:'', empty:'', empty:'', empty:'', empty:'']\n",
      "25 [text:'Totals:', number:3713.0, number:3582.0, number:3179.0, number:403.0, number:0.8874930206588498, empty:'', empty:'', empty:'', empty:'', empty:'', empty:'']\n",
      "26 [empty:'', empty:'', empty:'', empty:'', empty:'', empty:'', empty:'', empty:'', empty:'', empty:'', empty:'', empty:'']\n",
      "27 [empty:'', text:'Legend:', empty:'', empty:'', empty:'', empty:'', empty:'', empty:'', empty:'', empty:'', empty:'', empty:'']\n",
      "28 [empty:'', text:'IPOs Priced', text:'Number of IPOs priced during the year', empty:'', empty:'', empty:'', empty:'', empty:'', empty:'', empty:'', empty:'', empty:'']\n",
      "29 [empty:'', text:'Calls', text:'Number of SCOOP ratings issued', empty:'', empty:'', empty:'', empty:'', empty:'', empty:'', empty:'', empty:'', empty:'']\n",
      "30 [empty:'', text:'On Target', text:'Number of correct calls, including deals that traded better than the call, deals traded within the call and pre-trading adjustments due changes made in finial pricing terms. ', empty:'', empty:'', empty:'', empty:'', empty:'', empty:'', empty:'', empty:'', empty:'']\n",
      "31 [empty:'', text:'Missed', text:'Number of missed calls', empty:'', empty:'', empty:'', empty:'', empty:'', empty:'', empty:'', empty:'', empty:'']\n",
      "32 [empty:'', text:'N/C', text:'No Call - no SCOOP rating', empty:'', empty:'', empty:'', empty:'', empty:'', empty:'', empty:'', empty:'', empty:'']\n",
      "33 [empty:'', empty:'', empty:'', empty:'', empty:'', empty:'', empty:'', empty:'', empty:'', empty:'', empty:'', empty:'']\n",
      "34 [text:'Trade', empty:'', empty:'', text:'Lead/Joint-Lead', text:'Offer', text:'Opening', text:'1st Day', text:'1st Day', text:'$ Change', text:'$ Change', text:'Star', empty:'']\n",
      "35 [text:'Date', text:'Issuer', text:'Symbol', text:' Managers', text:'Price', text:'Price', text:'Close', text:'% Px Chng ', text:'Opening', text:'Close', text:'Ratings', text:'Performed']\n",
      "36 [empty:'', number:2020.0, empty:'', empty:'', empty:'', empty:'', empty:'', empty:'', empty:'', empty:'', empty:'', empty:'']\n",
      "37 [xldate:43847.0, text:'I-Mab ', text:'IMAB', text:'Jefferies/ CICC', number:14.0, number:14.75, number:12.75, number:-0.08928571428571429, number:0.75, number:-1.25, number:2.0, empty:'']\n",
      "38 [xldate:43847.0, text:'LIZHI ', text:'LIZI', text:'Credit Suisse/ Citigroup', number:11.0, number:11.03, number:11.63, number:0.05727272727272734, number:0.02999999999999936, number:0.6300000000000008, number:1.0, empty:'']\n",
      "39 [xldate:43847.0, text:'Phoenix Tree Holdings Ltd. ', text:'DNK', text:'Citigroup/ Credit Suisse/ J.P. Morgan', number:13.5, number:13.5, number:13.5, number:0.0, number:0.0, number:0.0, number:1.0, empty:'']\n"
     ]
    }
   ],
   "source": [
    "ws = wb.sheet_by_index(0)\n",
    "for i in range(40):\n",
    "    print(i, ws.row(i))"
   ]
  },
  {
   "cell_type": "markdown",
   "metadata": {
    "papermill": {
     "duration": 0.065146,
     "end_time": "2022-01-15T11:28:00.972527",
     "exception": false,
     "start_time": "2022-01-15T11:28:00.907381",
     "status": "completed"
    },
    "tags": []
   },
   "source": [
    "### Keep only related data\n",
    "* Skip over the summary data in the sheet     \n",
    "* Incorporate the data  only row by row  from line 37.\n",
    "* We are only interested in those rows in the sheet that start with a date. \n",
    "* If the first first column is in a float format, then the row is with a date. \n",
    "* Loop over each row in the spreadsheet, checking whether the first value is a float. If it is, then we add all the cells' values to the list `ipo_list`. \n",
    "* `isinstance` function: returns `True` if the specified object is of the specified type (`float` in the code), otherwise `False`"
   ]
  },
  {
   "cell_type": "code",
   "execution_count": 8,
   "metadata": {
    "execution": {
     "iopub.execute_input": "2022-01-15T11:28:01.121821Z",
     "iopub.status.busy": "2022-01-15T11:28:01.111365Z",
     "iopub.status.idle": "2022-01-15T11:28:01.233520Z",
     "shell.execute_reply": "2022-01-15T11:28:01.234398Z"
    },
    "papermill": {
     "duration": 0.197886,
     "end_time": "2022-01-15T11:28:01.234667",
     "exception": false,
     "start_time": "2022-01-15T11:28:01.036781",
     "status": "completed"
    },
    "scrolled": true,
    "tags": []
   },
   "outputs": [
    {
     "name": "stdout",
     "output_type": "stream",
     "text": [
      "242 [empty:'', empty:'', empty:'', empty:'', empty:'', empty:'', empty:'', empty:'', empty:'', empty:'', empty:'', empty:'']\n",
      "243 [empty:'', empty:'', empty:'', empty:'', empty:'', empty:'', empty:'', empty:'', empty:'', empty:'', empty:'', empty:'']\n",
      "244 [text:'Trade', empty:'', empty:'', text:'Lead/Joint-Lead', text:'Offer', text:'Opening', text:'1st Day', text:'1st Day', text:'$ Change', text:'$ Change', text:'Star', empty:'']\n",
      "245 [text:'Date', text:'Issuer', text:'Symbol', text:' Managers', text:'Price', text:'Price', text:'Close', text:'% Px Chng ', text:'Opening', text:'Close', text:'Ratings', text:'Performed']\n",
      "246 [empty:'', number:2019.0, empty:'', empty:'', empty:'', empty:'', empty:'', empty:'', empty:'', empty:'', empty:'', empty:'']\n",
      "468 [empty:'', empty:'', empty:'', empty:'', empty:'', empty:'', empty:'', empty:'', empty:'', empty:'', empty:'', empty:'']\n",
      "469 [empty:'', empty:'', empty:'', empty:'', empty:'', empty:'', empty:'', empty:'', empty:'', empty:'', empty:'', empty:'']\n",
      "470 [text:'Trade', empty:'', empty:'', text:'Lead/Joint-Lead', text:'Offer', text:'Opening', text:'1st Day', text:'1st Day', text:'$ Change', text:'$ Change', text:'Star', empty:'']\n",
      "471 [text:'Date', text:'Issuer', text:'Symbol', text:' Managers', text:'Price', text:'Price', text:'Close', text:'% Px Chng ', text:'Opening', text:'Close', text:'Ratings', text:'Performed']\n",
      "472 [empty:'', number:2018.0, empty:'', empty:'', empty:'', empty:'', empty:'', empty:'', empty:'', empty:'', empty:'', empty:'']\n",
      "643 [empty:'', empty:'', empty:'', empty:'', empty:'', empty:'', empty:'', empty:'', empty:'', empty:'', empty:'', empty:'']\n",
      "644 [empty:'', empty:'', empty:'', empty:'', empty:'', empty:'', empty:'', empty:'', empty:'', empty:'', empty:'', empty:'']\n",
      "702 [empty:'', empty:'', empty:'', empty:'', empty:'', empty:'', empty:'', empty:'', empty:'', empty:'', empty:'', empty:'']\n",
      "703 [empty:'', empty:'', empty:'', empty:'', empty:'', empty:'', empty:'', empty:'', empty:'', empty:'', empty:'', empty:'']\n",
      "704 [text:'Trade', empty:'', empty:'', text:'Lead/Joint-Lead', text:'Offer', text:'Opening', text:'1st Day', text:'1st Day', text:'$ Change', text:'$ Change', text:'Star', empty:'']\n",
      "705 [text:'Date', text:'Issuer', text:'Symbol', text:' Managers', text:'Price', text:'Price', text:'Close', text:'% Px Chng ', text:'Opening', text:'Close', text:'Ratings', text:'Performed']\n",
      "706 [empty:'', number:2017.0, empty:'', empty:'', empty:'', empty:'', empty:'', empty:'', empty:'', empty:'', empty:'', empty:'']\n",
      "888 [empty:'', empty:'', empty:'', empty:'', empty:'', empty:'', empty:'', empty:'', empty:'', empty:'', empty:'', empty:'']\n",
      "889 [empty:'', empty:'', empty:'', empty:'', empty:'', empty:'', empty:'', empty:'', empty:'', empty:'', empty:'', empty:'']\n",
      "890 [text:'Trade', empty:'', empty:'', text:'Lead/Joint-Lead', text:'Offer', text:'Opening', text:'1st Day', text:'1st Day', text:'$ Change', text:'$ Change', text:'Star', empty:'']\n",
      "891 [text:'Date', text:'Issuer', text:'Symbol', text:' Managers', text:'Price', text:'Price', text:'Close', text:'% Px Chng ', text:'Opening', text:'Close', text:'Ratings', text:'Performed']\n",
      "892 [empty:'', number:2016.0, empty:'', empty:'', empty:'', empty:'', empty:'', empty:'', empty:'', empty:'', empty:'', empty:'']\n",
      "999 [empty:'', empty:'', empty:'', empty:'', empty:'', empty:'', empty:'', empty:'', empty:'', empty:'', empty:'', empty:'']\n",
      "1000 [empty:'', empty:'', empty:'', empty:'', empty:'', empty:'', empty:'', empty:'', empty:'', empty:'', empty:'', empty:'']\n",
      "1001 [text:'Trade', empty:'', empty:'', text:'Lead/Joint-Lead', text:'Offer', text:'Opening', text:'1st Day', text:'1st Day', text:'$ Change', text:'$ Change', text:'Star', empty:'']\n",
      "1002 [text:'Date', text:'Issuer', text:'Symbol', text:' Managers', text:'Price', text:'Price', text:'Close', text:'% Px Chng ', text:'Opening', text:'Close', text:'Ratings', text:'Performed']\n",
      "1003 [empty:'', number:2015.0, empty:'', empty:'', empty:'', empty:'', empty:'', empty:'', empty:'', empty:'', empty:'', empty:'']\n",
      "1177 [empty:'', empty:'', empty:'', empty:'', empty:'', empty:'', empty:'', empty:'', empty:'', empty:'', empty:'', empty:'']\n",
      "1178 [empty:'', empty:'', empty:'', empty:'', empty:'', empty:'', empty:'', empty:'', empty:'', empty:'', empty:'', empty:'']\n",
      "1179 [text:'Trade', empty:'', empty:'', text:'Lead/Joint-Lead', text:'Offer', text:'Opening', text:'1st Day', text:'1st Day', text:'$ Change', text:'$ Change', text:'Star', empty:'']\n",
      "1180 [text:'Date', text:'Issuer', text:'Symbol', text:' Managers', text:'Price', text:'Price', text:'Close', text:'% Px Chng ', text:'Opening', text:'Close', text:'Ratings', text:'Performed']\n",
      "1181 [empty:'', number:2014.0, empty:'', empty:'', empty:'', empty:'', empty:'', empty:'', empty:'', empty:'', empty:'', empty:'']\n",
      "1470 [empty:'', empty:'', empty:'', empty:'', empty:'', empty:'', empty:'', empty:'', empty:'', empty:'', empty:'', empty:'']\n",
      "1471 [empty:'', empty:'', empty:'', empty:'', empty:'', empty:'', empty:'', empty:'', empty:'', empty:'', empty:'', empty:'']\n",
      "1472 [text:'Trade', empty:'', empty:'', text:'Lead/Joint-Lead', text:'Offer', text:'Opening', text:'1st Day', text:'1st Day', text:'$ Change', text:'$ Change', text:'Star', empty:'']\n",
      "1473 [text:'Date', text:'Issuer', text:'Symbol', text:' Managers', text:'Price', text:'Price', text:'Close', text:'% Px Chng ', text:'Opening', text:'Close', text:'Ratings', text:'Performed']\n",
      "1474 [empty:'', number:2013.0, empty:'', empty:'', empty:'', empty:'', empty:'', empty:'', empty:'', empty:'', empty:'', empty:'']\n",
      "1705 [empty:'', empty:'', empty:'', empty:'', empty:'', empty:'', empty:'', empty:'', empty:'', empty:'', empty:'', empty:'']\n",
      "1706 [empty:'', empty:'', empty:'', empty:'', empty:'', empty:'', empty:'', empty:'', empty:'', empty:'', empty:'', empty:'']\n",
      "1707 [text:'Trade', empty:'', empty:'', text:'Lead/Joint-Lead', text:'Offer', text:'Opening', text:'1st Day', text:'1st Day', text:'$ Change', text:'$ Change', text:'Star', empty:'']\n",
      "1708 [text:'Date', text:'Issuer', text:'Symbol', text:' Managers', text:'Price', text:'Price', text:'Close', text:'% Px Chng ', text:'Opening', text:'Close', text:'Ratings', text:'Performed']\n",
      "1709 [empty:'', number:2012.0, empty:'', empty:'', empty:'', empty:'', empty:'', empty:'', empty:'', empty:'', empty:'', empty:'']\n",
      "1846 [text:'11/120', text:'Alon USA Partners, LP ', text:'ALDW', text:'Goldman, Sachs/ Credit Suisse/ Citigroup', number:16.0, number:17.0, number:18.4, number:0.1499999999999999, number:1.0, number:2.3999999999999986, number:1.0, empty:'']\n",
      "1856 [empty:'', empty:'', empty:'', empty:'', empty:'', empty:'', empty:'', empty:'', empty:'', empty:'', empty:'', empty:'']\n",
      "1857 [empty:'', empty:'', empty:'', empty:'', empty:'', empty:'', empty:'', empty:'', empty:'', empty:'', empty:'', empty:'']\n",
      "1858 [empty:'', empty:'', empty:'', empty:'', empty:'', empty:'', empty:'', empty:'', empty:'', empty:'', empty:'', empty:'']\n",
      "1859 [text:'Trade', empty:'', empty:'', text:'Lead/Joint-Lead', text:'Offer', text:'Opening', text:'1st Day', text:'1st Day', text:'$ Change', text:'$ Change', text:'Star', empty:'']\n",
      "1860 [text:'Date', text:'Issuer', text:'Symbol', text:' Managers', text:'Price', text:'Price', text:'Close', text:'% Px Chng ', text:'Opening', text:'Close', text:'Ratings', text:'Performed']\n",
      "1861 [empty:'', number:2011.0, empty:'', empty:'', empty:'', empty:'', empty:'', empty:'', empty:'', empty:'', empty:'', empty:'']\n",
      "2005 [empty:'', empty:'', empty:'', empty:'', empty:'', empty:'', empty:'', empty:'', empty:'', empty:'', empty:'', empty:'']\n",
      "2006 [empty:'', empty:'', empty:'', empty:'', empty:'', empty:'', empty:'', empty:'', empty:'', empty:'', empty:'', empty:'']\n",
      "2007 [text:'Trade', empty:'', empty:'', text:'Lead/Joint-Lead', text:'Offer', text:'Opening', text:'1st Day', text:'1st Day', text:'$ Change', text:'$ Change', text:'Star', empty:'']\n",
      "2008 [text:'Date', text:'Issuer', text:'Symbol', text:' Managers', text:'Price', text:'Price', text:'Close', text:'% Px Chng ', text:'Opening', text:'Close', text:'Ratings', text:'Performed']\n",
      "2009 [empty:'', number:2010.0, empty:'', empty:'', empty:'', empty:'', empty:'', empty:'', empty:'', empty:'', empty:'', empty:'']\n",
      "2170 [empty:'', empty:'', empty:'', empty:'', empty:'', empty:'', empty:'', empty:'', empty:'', empty:'', empty:'', empty:'']\n",
      "2171 [empty:'', empty:'', empty:'', empty:'', empty:'', empty:'', empty:'', empty:'', empty:'', empty:'', empty:'', empty:'']\n",
      "2172 [text:'Trade', empty:'', empty:'', text:'Lead/Joint-Lead', text:'Offer', text:'Opening', text:'1st Day', text:'1st Day', text:'$ Change', text:'$ Change', text:'Star', empty:'']\n",
      "2173 [text:'Date', text:'Issuer', text:'Symbol', text:' Managers', text:'Price', text:'Price', text:'Close', text:'% Px Chng ', text:'Opening', text:'Close', text:'Ratings', text:'Performed']\n",
      "2174 [empty:'', number:2009.0, empty:'', empty:'', empty:'', empty:'', empty:'', empty:'', empty:'', empty:'', empty:'', empty:'']\n",
      "2236 [empty:'', empty:'', empty:'', empty:'', empty:'', empty:'', empty:'', empty:'', empty:'', empty:'', empty:'', empty:'']\n",
      "2237 [empty:'', empty:'', empty:'', empty:'', empty:'', empty:'', empty:'', empty:'', empty:'', empty:'', empty:'', empty:'']\n",
      "2238 [text:'Trade', empty:'', empty:'', text:'Lead/Joint-Lead', text:'Offer', text:'Opening', text:'1st Day', text:'1st Day', text:'$ Change', text:'$ Change', text:'Star', empty:'']\n",
      "2239 [text:'Date', text:'Issuer', text:'Symbol', text:' Managers', text:'Price', text:'Price', text:'Close', text:'% Px Chng ', text:'Opening', text:'Close', text:'Ratings', text:'Performed']\n",
      "2240 [empty:'', number:2008.0, empty:'', empty:'', empty:'', empty:'', empty:'', empty:'', empty:'', empty:'', empty:'', empty:'']\n",
      "2288 [empty:'', empty:'', empty:'', empty:'', empty:'', empty:'', empty:'', empty:'', empty:'', empty:'', empty:'', empty:'']\n",
      "2289 [empty:'', empty:'', empty:'', empty:'', empty:'', empty:'', empty:'', empty:'', empty:'', empty:'', empty:'', empty:'']\n",
      "2290 [text:'Trade', empty:'', empty:'', text:'Lead/Joint-Lead', text:'Offer', text:'Opening', text:'1st Day', text:'1st Day', text:'$ Change', text:'$ Change', text:'Star', empty:'']\n",
      "2291 [text:'Date', text:'Issuer', text:'Symbol', text:' Managers', text:'Price', text:'Price', text:'Close', text:'% Px Chng ', text:'Opening', text:'Close', text:'Ratings', text:'Performed']\n",
      "2292 [empty:'', number:2007.0, empty:'', empty:'', empty:'', empty:'', empty:'', empty:'', empty:'', empty:'', empty:'', empty:'']\n",
      "2549 [empty:'', empty:'', empty:'', empty:'', empty:'', empty:'', empty:'', empty:'', empty:'', empty:'', empty:'', empty:'']\n",
      "2550 [empty:'', empty:'', empty:'', empty:'', empty:'', empty:'', empty:'', empty:'', empty:'', empty:'', empty:'', empty:'']\n",
      "2551 [text:'Trade', empty:'', empty:'', text:'Lead/Joint-Lead', text:'Offer', text:'Opening', text:'1st Day', text:'1st Day', text:'$ Change', text:'$ Change', text:'Star', empty:'']\n",
      "2552 [text:'Date', text:'Issuer', text:'Symbol', text:' Managers', text:'Price', text:'Price', text:'Close', text:'% Px Chng ', text:'Opening', text:'Close', text:'Ratings', text:'Performed']\n",
      "2553 [empty:'', number:2006.0, empty:'', empty:'', empty:'', empty:'', empty:'', empty:'', empty:'', empty:'', empty:'', empty:'']\n",
      "2791 [empty:'', empty:'', empty:'', empty:'', empty:'', empty:'', empty:'', empty:'', empty:'', empty:'', empty:'', empty:'']\n",
      "2792 [empty:'', empty:'', empty:'', empty:'', empty:'', empty:'', empty:'', empty:'', empty:'', empty:'', empty:'', empty:'']\n",
      "2793 [text:'Trade', empty:'', empty:'', text:'Lead/Joint-Lead', text:'Offer', text:'Opening', text:'1st Day', text:'1st Day', text:'$ Change', text:'$ Change', text:'Star', empty:'']\n",
      "2794 [text:'Date', text:'Issuer', text:'Symbol', text:' Managers', text:'Price', text:'Price', text:'Close', text:'% Px Chng ', text:'Opening', text:'Close', text:'Ratings', text:'Performed']\n",
      "2795 [empty:'', number:2005.0, empty:'', empty:'', empty:'', empty:'', empty:'', empty:'', empty:'', empty:'', empty:'', empty:'']\n",
      "3022 [empty:'', empty:'', empty:'', empty:'', empty:'', empty:'', empty:'', empty:'', empty:'', empty:'', empty:'', empty:'']\n",
      "3023 [empty:'', empty:'', empty:'', empty:'', empty:'', empty:'', empty:'', empty:'', empty:'', empty:'', empty:'', empty:'']\n",
      "3024 [text:'Trade', empty:'', empty:'', text:'Lead/Joint-Lead', text:'Offer', text:'Opening', text:'1st Day', text:'1st Day', text:'$ Change', text:'$ Change', text:'Star', empty:'']\n",
      "3025 [text:'Date', text:'Issuer', text:'Symbol', text:' Managers', text:'Price', text:'Price', text:'Close', text:'% Px Chng ', text:'Opening', text:'Close', text:'Ratings', text:'Performed']\n",
      "3026 [empty:'', number:2004.0, empty:'', empty:'', empty:'', empty:'', empty:'', empty:'', empty:'', empty:'', empty:'', empty:'']\n",
      "3260 [empty:'', empty:'', empty:'', empty:'', empty:'', empty:'', empty:'', empty:'', empty:'', empty:'', empty:'', empty:'']\n",
      "3261 [empty:'', empty:'', empty:'', empty:'', empty:'', empty:'', empty:'', empty:'', empty:'', empty:'', empty:'', empty:'']\n",
      "3262 [text:'Trade', empty:'', empty:'', text:'Lead/Joint-Lead', text:'Offer', text:'Opening', text:'1st Day', text:'1st Day', text:'$ Change', text:'$ Change', text:'Star', empty:'']\n",
      "3263 [text:'Date', text:'Issuer', text:'Symbol', text:' Managers', text:'Price', text:'Price', text:'Close', text:'% Px Chng ', text:'Opening', text:'Close', text:'Ratings', text:'Performed']\n",
      "3264 [empty:'', number:2003.0, empty:'', empty:'', empty:'', empty:'', empty:'', empty:'', empty:'', empty:'', empty:'', empty:'']\n",
      "3345 [empty:'', empty:'', empty:'', empty:'', empty:'', empty:'', empty:'', empty:'', empty:'', empty:'', empty:'', empty:'']\n",
      "3346 [empty:'', empty:'', empty:'', empty:'', empty:'', empty:'', empty:'', empty:'', empty:'', empty:'', empty:'', empty:'']\n",
      "3347 [text:'Trade', empty:'', empty:'', text:'Lead/Joint-Lead', text:'Offer', text:'Opening', text:'1st Day', text:'1st Day', text:'$ Change', text:'$ Change', text:'Star', empty:'']\n",
      "3348 [text:'Date', text:'Issuer', text:'Symbol', text:' Managers', text:'Price', text:'Price', text:'Close', text:'% Px Chng ', text:'Opening', text:'Close', text:'Ratings', text:'Performed']\n",
      "3349 [empty:'', number:2002.0, empty:'', empty:'', empty:'', empty:'', empty:'', empty:'', empty:'', empty:'', empty:'', empty:'']\n",
      "3432 [empty:'', empty:'', empty:'', empty:'', empty:'', empty:'', empty:'', empty:'', empty:'', empty:'', empty:'', empty:'']\n",
      "3433 [empty:'', empty:'', empty:'', empty:'', empty:'', empty:'', empty:'', empty:'', empty:'', empty:'', empty:'', empty:'']\n",
      "3434 [text:'Trade', empty:'', empty:'', text:'Lead/Joint-Lead', text:'Offer', text:'Opening', text:'1st Day', text:'1st Day', text:'$ Change', text:'$ Change', text:'Star', empty:'']\n",
      "3435 [text:'Date', text:'Issuer', text:'Symbol', text:' Managers', text:'Price', text:'Price', text:'Close', text:'% Px Chng ', text:'Opening', text:'Close', text:'Ratings', text:'Performed']\n",
      "3436 [empty:'', number:2001.0, empty:'', empty:'', empty:'', empty:'', empty:'', empty:'', empty:'', empty:'', empty:'', empty:'']\n",
      "3531 [empty:'', empty:'', empty:'', empty:'', empty:'', empty:'', empty:'', empty:'', empty:'', empty:'', empty:'', empty:'']\n",
      "3532 [empty:'', empty:'', empty:'', empty:'', empty:'', empty:'', empty:'', empty:'', empty:'', empty:'', empty:'', empty:'']\n",
      "3533 [text:'Trade', empty:'', empty:'', text:'Lead/Joint-Lead', text:'Offer', text:'Opening', text:'1st Day', text:'1st Day', text:'$ Change', text:'$ Change', text:'Star', empty:'']\n",
      "3534 [text:'Date', text:'Issuer', text:'Symbol', text:' Managers', text:'Price', text:'Price', text:'Close', text:'% Px Chng ', text:'Opening', text:'Close', text:'Ratings', text:'Performed']\n",
      "3535 [empty:'', number:2000.0, empty:'', empty:'', empty:'', empty:'', empty:'', empty:'', empty:'', empty:'', empty:'', empty:'']\n"
     ]
    }
   ],
   "source": [
    "ipo_list = []\n",
    "for i in range(37,ws.nrows):\n",
    "    if isinstance(ws.row(i)[0].value, float):\n",
    "        ipo_list.append([x.value for x in ws.row(i)])\n",
    "    else:\n",
    "        print(i, ws.row(i))"
   ]
  },
  {
   "cell_type": "code",
   "execution_count": 9,
   "metadata": {
    "execution": {
     "iopub.execute_input": "2022-01-15T11:28:01.380195Z",
     "iopub.status.busy": "2022-01-15T11:28:01.379500Z",
     "iopub.status.idle": "2022-01-15T11:28:01.383186Z",
     "shell.execute_reply": "2022-01-15T11:28:01.382634Z"
    },
    "papermill": {
     "duration": 0.078821,
     "end_time": "2022-01-15T11:28:01.383308",
     "exception": false,
     "start_time": "2022-01-15T11:28:01.304487",
     "status": "completed"
    },
    "tags": []
   },
   "outputs": [
    {
     "data": {
      "text/plain": "3632"
     },
     "execution_count": 9,
     "metadata": {},
     "output_type": "execute_result"
    }
   ],
   "source": [
    "len(ipo_list)"
   ]
  },
  {
   "cell_type": "markdown",
   "metadata": {
    "papermill": {
     "duration": 0.064437,
     "end_time": "2022-01-15T11:28:01.513991",
     "exception": false,
     "start_time": "2022-01-15T11:28:01.449554",
     "status": "completed"
    },
    "tags": []
   },
   "source": [
    "### Working on the DataFrame\n",
    "* We use dataframes in data analysis\n",
    "* Generate a DataFrame from the list\n",
    "* Add column names. Column names come from orinignal data."
   ]
  },
  {
   "cell_type": "code",
   "execution_count": 10,
   "metadata": {
    "execution": {
     "iopub.execute_input": "2022-01-15T11:28:01.650447Z",
     "iopub.status.busy": "2022-01-15T11:28:01.649763Z",
     "iopub.status.idle": "2022-01-15T11:28:01.687914Z",
     "shell.execute_reply": "2022-01-15T11:28:01.687246Z"
    },
    "papermill": {
     "duration": 0.108514,
     "end_time": "2022-01-15T11:28:01.688044",
     "exception": false,
     "start_time": "2022-01-15T11:28:01.579530",
     "status": "completed"
    },
    "tags": []
   },
   "outputs": [
    {
     "data": {
      "text/plain": "        0                            1      2   \\\n0  43847.0                       I-Mab    IMAB   \n1  43847.0                       LIZHI    LIZI   \n2  43847.0  Phoenix Tree Holdings Ltd.     DNK   \n3  43847.0          Velocity Financial     VEL   \n4  43854.0           Gores Holdings IV   GHIVU   \n5  43854.0                  SCVX Corp.   SCVXU   \n6  43858.0   AnPac Bio-Medical Science    ANPC   \n7  43859.0                 Annovis Bio    ANVS   \n8  43859.0  Black Diamond Therapeutics    BDTX   \n9  43861.0            1Life Healthcare    OWEM   \n\n                                                  3     4      5      6   \\\n0                                    Jefferies/ CICC  14.0  14.75  12.75   \n1                           Credit Suisse/ Citigroup  11.0  11.03  11.63   \n2              Citigroup/ Credit Suisse/ J.P. Morgan  13.5  13.50  13.50   \n3  Wells Fargo Securities/ Citigroup/ JMP Securities  13.0  13.85  13.51   \n4                           Deutsche Bank Securities  10.0  10.52  10.45   \n5                                      Credit Suisse  10.0  10.30  10.32   \n6                                   WestPark Capital  12.0  12.00  11.25   \n7  ThinkEquity (a division of Fordham Financial M...   6.0   6.63   9.59   \n8                      J.P. Morgan/ Jefferies/ Cowen  19.0  33.00  39.48   \n9                        J.P. Morgan/ Morgan Stanley  14.0  18.00  22.07   \n\n         7      8      9    10      11  \n0 -0.089286   0.75  -1.25  2.0          \n1  0.057273   0.03   0.63  1.0          \n2       0.0   0.00   0.00  1.0          \n3  0.039231   0.85   0.51  1.0          \n4     0.045   0.52   0.45  1.0          \n5     0.032   0.30   0.32  1.0          \n6   -0.0625   0.00  -0.75  1.0          \n7  0.598333   0.63   3.59  1.0  Missed  \n8  1.077895  14.00  20.48  3.0          \n9  0.576429   4.00   8.07  2.0          ",
      "text/html": "<div>\n<style scoped>\n    .dataframe tbody tr th:only-of-type {\n        vertical-align: middle;\n    }\n\n    .dataframe tbody tr th {\n        vertical-align: top;\n    }\n\n    .dataframe thead th {\n        text-align: right;\n    }\n</style>\n<table border=\"1\" class=\"dataframe\">\n  <thead>\n    <tr style=\"text-align: right;\">\n      <th></th>\n      <th>0</th>\n      <th>1</th>\n      <th>2</th>\n      <th>3</th>\n      <th>4</th>\n      <th>5</th>\n      <th>6</th>\n      <th>7</th>\n      <th>8</th>\n      <th>9</th>\n      <th>10</th>\n      <th>11</th>\n    </tr>\n  </thead>\n  <tbody>\n    <tr>\n      <th>0</th>\n      <td>43847.0</td>\n      <td>I-Mab</td>\n      <td>IMAB</td>\n      <td>Jefferies/ CICC</td>\n      <td>14.0</td>\n      <td>14.75</td>\n      <td>12.75</td>\n      <td>-0.089286</td>\n      <td>0.75</td>\n      <td>-1.25</td>\n      <td>2.0</td>\n      <td></td>\n    </tr>\n    <tr>\n      <th>1</th>\n      <td>43847.0</td>\n      <td>LIZHI</td>\n      <td>LIZI</td>\n      <td>Credit Suisse/ Citigroup</td>\n      <td>11.0</td>\n      <td>11.03</td>\n      <td>11.63</td>\n      <td>0.057273</td>\n      <td>0.03</td>\n      <td>0.63</td>\n      <td>1.0</td>\n      <td></td>\n    </tr>\n    <tr>\n      <th>2</th>\n      <td>43847.0</td>\n      <td>Phoenix Tree Holdings Ltd.</td>\n      <td>DNK</td>\n      <td>Citigroup/ Credit Suisse/ J.P. Morgan</td>\n      <td>13.5</td>\n      <td>13.50</td>\n      <td>13.50</td>\n      <td>0.0</td>\n      <td>0.00</td>\n      <td>0.00</td>\n      <td>1.0</td>\n      <td></td>\n    </tr>\n    <tr>\n      <th>3</th>\n      <td>43847.0</td>\n      <td>Velocity Financial</td>\n      <td>VEL</td>\n      <td>Wells Fargo Securities/ Citigroup/ JMP Securities</td>\n      <td>13.0</td>\n      <td>13.85</td>\n      <td>13.51</td>\n      <td>0.039231</td>\n      <td>0.85</td>\n      <td>0.51</td>\n      <td>1.0</td>\n      <td></td>\n    </tr>\n    <tr>\n      <th>4</th>\n      <td>43854.0</td>\n      <td>Gores Holdings IV</td>\n      <td>GHIVU</td>\n      <td>Deutsche Bank Securities</td>\n      <td>10.0</td>\n      <td>10.52</td>\n      <td>10.45</td>\n      <td>0.045</td>\n      <td>0.52</td>\n      <td>0.45</td>\n      <td>1.0</td>\n      <td></td>\n    </tr>\n    <tr>\n      <th>5</th>\n      <td>43854.0</td>\n      <td>SCVX Corp.</td>\n      <td>SCVXU</td>\n      <td>Credit Suisse</td>\n      <td>10.0</td>\n      <td>10.30</td>\n      <td>10.32</td>\n      <td>0.032</td>\n      <td>0.30</td>\n      <td>0.32</td>\n      <td>1.0</td>\n      <td></td>\n    </tr>\n    <tr>\n      <th>6</th>\n      <td>43858.0</td>\n      <td>AnPac Bio-Medical Science</td>\n      <td>ANPC</td>\n      <td>WestPark Capital</td>\n      <td>12.0</td>\n      <td>12.00</td>\n      <td>11.25</td>\n      <td>-0.0625</td>\n      <td>0.00</td>\n      <td>-0.75</td>\n      <td>1.0</td>\n      <td></td>\n    </tr>\n    <tr>\n      <th>7</th>\n      <td>43859.0</td>\n      <td>Annovis Bio</td>\n      <td>ANVS</td>\n      <td>ThinkEquity (a division of Fordham Financial M...</td>\n      <td>6.0</td>\n      <td>6.63</td>\n      <td>9.59</td>\n      <td>0.598333</td>\n      <td>0.63</td>\n      <td>3.59</td>\n      <td>1.0</td>\n      <td>Missed</td>\n    </tr>\n    <tr>\n      <th>8</th>\n      <td>43859.0</td>\n      <td>Black Diamond Therapeutics</td>\n      <td>BDTX</td>\n      <td>J.P. Morgan/ Jefferies/ Cowen</td>\n      <td>19.0</td>\n      <td>33.00</td>\n      <td>39.48</td>\n      <td>1.077895</td>\n      <td>14.00</td>\n      <td>20.48</td>\n      <td>3.0</td>\n      <td></td>\n    </tr>\n    <tr>\n      <th>9</th>\n      <td>43861.0</td>\n      <td>1Life Healthcare</td>\n      <td>OWEM</td>\n      <td>J.P. Morgan/ Morgan Stanley</td>\n      <td>14.0</td>\n      <td>18.00</td>\n      <td>22.07</td>\n      <td>0.576429</td>\n      <td>4.00</td>\n      <td>8.07</td>\n      <td>2.0</td>\n      <td></td>\n    </tr>\n  </tbody>\n</table>\n</div>"
     },
     "execution_count": 10,
     "metadata": {},
     "output_type": "execute_result"
    }
   ],
   "source": [
    "df = pd.DataFrame(ipo_list)\n",
    "df.head(10)"
   ]
  },
  {
   "cell_type": "code",
   "execution_count": 11,
   "metadata": {
    "execution": {
     "iopub.execute_input": "2022-01-15T11:28:01.843721Z",
     "iopub.status.busy": "2022-01-15T11:28:01.829890Z",
     "iopub.status.idle": "2022-01-15T11:28:01.850175Z",
     "shell.execute_reply": "2022-01-15T11:28:01.849199Z"
    },
    "papermill": {
     "duration": 0.09731,
     "end_time": "2022-01-15T11:28:01.850364",
     "exception": false,
     "start_time": "2022-01-15T11:28:01.753054",
     "status": "completed"
    },
    "tags": []
   },
   "outputs": [
    {
     "data": {
      "text/plain": "      Date                      Company Ticker  \\\n0  43847.0                       I-Mab    IMAB   \n1  43847.0                       LIZHI    LIZI   \n2  43847.0  Phoenix Tree Holdings Ltd.     DNK   \n3  43847.0          Velocity Financial     VEL   \n4  43854.0           Gores Holdings IV   GHIVU   \n\n                                            Managers  Offer Price  \\\n0                                    Jefferies/ CICC         14.0   \n1                           Credit Suisse/ Citigroup         11.0   \n2              Citigroup/ Credit Suisse/ J.P. Morgan         13.5   \n3  Wells Fargo Securities/ Citigroup/ JMP Securities         13.0   \n4                           Deutsche Bank Securities         10.0   \n\n   Opening Price  1st Day Close 1st Day % Chg  $ Chg Open  $ Chg Close  \\\n0          14.75          12.75     -0.089286        0.75        -1.25   \n1          11.03          11.63      0.057273        0.03         0.63   \n2          13.50          13.50           0.0        0.00         0.00   \n3          13.85          13.51      0.039231        0.85         0.51   \n4          10.52          10.45         0.045        0.52         0.45   \n\n  Star Rating Performed  \n0         2.0            \n1         1.0            \n2         1.0            \n3         1.0            \n4         1.0            ",
      "text/html": "<div>\n<style scoped>\n    .dataframe tbody tr th:only-of-type {\n        vertical-align: middle;\n    }\n\n    .dataframe tbody tr th {\n        vertical-align: top;\n    }\n\n    .dataframe thead th {\n        text-align: right;\n    }\n</style>\n<table border=\"1\" class=\"dataframe\">\n  <thead>\n    <tr style=\"text-align: right;\">\n      <th></th>\n      <th>Date</th>\n      <th>Company</th>\n      <th>Ticker</th>\n      <th>Managers</th>\n      <th>Offer Price</th>\n      <th>Opening Price</th>\n      <th>1st Day Close</th>\n      <th>1st Day % Chg</th>\n      <th>$ Chg Open</th>\n      <th>$ Chg Close</th>\n      <th>Star Rating</th>\n      <th>Performed</th>\n    </tr>\n  </thead>\n  <tbody>\n    <tr>\n      <th>0</th>\n      <td>43847.0</td>\n      <td>I-Mab</td>\n      <td>IMAB</td>\n      <td>Jefferies/ CICC</td>\n      <td>14.0</td>\n      <td>14.75</td>\n      <td>12.75</td>\n      <td>-0.089286</td>\n      <td>0.75</td>\n      <td>-1.25</td>\n      <td>2.0</td>\n      <td></td>\n    </tr>\n    <tr>\n      <th>1</th>\n      <td>43847.0</td>\n      <td>LIZHI</td>\n      <td>LIZI</td>\n      <td>Credit Suisse/ Citigroup</td>\n      <td>11.0</td>\n      <td>11.03</td>\n      <td>11.63</td>\n      <td>0.057273</td>\n      <td>0.03</td>\n      <td>0.63</td>\n      <td>1.0</td>\n      <td></td>\n    </tr>\n    <tr>\n      <th>2</th>\n      <td>43847.0</td>\n      <td>Phoenix Tree Holdings Ltd.</td>\n      <td>DNK</td>\n      <td>Citigroup/ Credit Suisse/ J.P. Morgan</td>\n      <td>13.5</td>\n      <td>13.50</td>\n      <td>13.50</td>\n      <td>0.0</td>\n      <td>0.00</td>\n      <td>0.00</td>\n      <td>1.0</td>\n      <td></td>\n    </tr>\n    <tr>\n      <th>3</th>\n      <td>43847.0</td>\n      <td>Velocity Financial</td>\n      <td>VEL</td>\n      <td>Wells Fargo Securities/ Citigroup/ JMP Securities</td>\n      <td>13.0</td>\n      <td>13.85</td>\n      <td>13.51</td>\n      <td>0.039231</td>\n      <td>0.85</td>\n      <td>0.51</td>\n      <td>1.0</td>\n      <td></td>\n    </tr>\n    <tr>\n      <th>4</th>\n      <td>43854.0</td>\n      <td>Gores Holdings IV</td>\n      <td>GHIVU</td>\n      <td>Deutsche Bank Securities</td>\n      <td>10.0</td>\n      <td>10.52</td>\n      <td>10.45</td>\n      <td>0.045</td>\n      <td>0.52</td>\n      <td>0.45</td>\n      <td>1.0</td>\n      <td></td>\n    </tr>\n  </tbody>\n</table>\n</div>"
     },
     "execution_count": 11,
     "metadata": {},
     "output_type": "execute_result"
    }
   ],
   "source": [
    "df.columns = ['Date', 'Company', 'Ticker', 'Managers', \\\n",
    "              'Offer Price', 'Opening Price', '1st Day Close',\\\n",
    "              '1st Day % Chg', '$ Chg Open', '$ Chg Close',\\\n",
    "              'Star Rating', 'Performed']\n",
    "df.head(5)"
   ]
  },
  {
   "cell_type": "markdown",
   "metadata": {
    "papermill": {
     "duration": 0.070636,
     "end_time": "2022-01-15T11:28:02.004273",
     "exception": false,
     "start_time": "2022-01-15T11:28:01.933637",
     "status": "completed"
    },
    "tags": []
   },
   "source": [
    "### Handle date  \n",
    "* The date type in the spreadsheet is `float` which must be converted  to a proper date in the analysis. \n",
    "* Function `xlrd.xldate.xldate_as_datetime(xldate, datemode)`: convert an Excel date/time number into a datetime.datetime object.\n",
    "* `dataframe[column].apply`: Apply a function along an axis of the DataFrame and return Result of applying func along the given axis of the DataFrame. "
   ]
  },
  {
   "cell_type": "code",
   "execution_count": 12,
   "metadata": {
    "execution": {
     "iopub.execute_input": "2022-01-15T11:28:02.143964Z",
     "iopub.status.busy": "2022-01-15T11:28:02.143316Z",
     "iopub.status.idle": "2022-01-15T11:28:02.179644Z",
     "shell.execute_reply": "2022-01-15T11:28:02.179076Z"
    },
    "papermill": {
     "duration": 0.108014,
     "end_time": "2022-01-15T11:28:02.179779",
     "exception": false,
     "start_time": "2022-01-15T11:28:02.071765",
     "status": "completed"
    },
    "tags": []
   },
   "outputs": [
    {
     "data": {
      "text/plain": "        Date                      Company Ticker  \\\n0 2020-01-17                       I-Mab    IMAB   \n1 2020-01-17                       LIZHI    LIZI   \n2 2020-01-17  Phoenix Tree Holdings Ltd.     DNK   \n3 2020-01-17          Velocity Financial     VEL   \n4 2020-01-24           Gores Holdings IV   GHIVU   \n\n                                            Managers  Offer Price  \\\n0                                    Jefferies/ CICC         14.0   \n1                           Credit Suisse/ Citigroup         11.0   \n2              Citigroup/ Credit Suisse/ J.P. Morgan         13.5   \n3  Wells Fargo Securities/ Citigroup/ JMP Securities         13.0   \n4                           Deutsche Bank Securities         10.0   \n\n   Opening Price  1st Day Close 1st Day % Chg  $ Chg Open  $ Chg Close  \\\n0          14.75          12.75     -0.089286        0.75        -1.25   \n1          11.03          11.63      0.057273        0.03         0.63   \n2          13.50          13.50           0.0        0.00         0.00   \n3          13.85          13.51      0.039231        0.85         0.51   \n4          10.52          10.45         0.045        0.52         0.45   \n\n  Star Rating Performed  \n0         2.0            \n1         1.0            \n2         1.0            \n3         1.0            \n4         1.0            ",
      "text/html": "<div>\n<style scoped>\n    .dataframe tbody tr th:only-of-type {\n        vertical-align: middle;\n    }\n\n    .dataframe tbody tr th {\n        vertical-align: top;\n    }\n\n    .dataframe thead th {\n        text-align: right;\n    }\n</style>\n<table border=\"1\" class=\"dataframe\">\n  <thead>\n    <tr style=\"text-align: right;\">\n      <th></th>\n      <th>Date</th>\n      <th>Company</th>\n      <th>Ticker</th>\n      <th>Managers</th>\n      <th>Offer Price</th>\n      <th>Opening Price</th>\n      <th>1st Day Close</th>\n      <th>1st Day % Chg</th>\n      <th>$ Chg Open</th>\n      <th>$ Chg Close</th>\n      <th>Star Rating</th>\n      <th>Performed</th>\n    </tr>\n  </thead>\n  <tbody>\n    <tr>\n      <th>0</th>\n      <td>2020-01-17</td>\n      <td>I-Mab</td>\n      <td>IMAB</td>\n      <td>Jefferies/ CICC</td>\n      <td>14.0</td>\n      <td>14.75</td>\n      <td>12.75</td>\n      <td>-0.089286</td>\n      <td>0.75</td>\n      <td>-1.25</td>\n      <td>2.0</td>\n      <td></td>\n    </tr>\n    <tr>\n      <th>1</th>\n      <td>2020-01-17</td>\n      <td>LIZHI</td>\n      <td>LIZI</td>\n      <td>Credit Suisse/ Citigroup</td>\n      <td>11.0</td>\n      <td>11.03</td>\n      <td>11.63</td>\n      <td>0.057273</td>\n      <td>0.03</td>\n      <td>0.63</td>\n      <td>1.0</td>\n      <td></td>\n    </tr>\n    <tr>\n      <th>2</th>\n      <td>2020-01-17</td>\n      <td>Phoenix Tree Holdings Ltd.</td>\n      <td>DNK</td>\n      <td>Citigroup/ Credit Suisse/ J.P. Morgan</td>\n      <td>13.5</td>\n      <td>13.50</td>\n      <td>13.50</td>\n      <td>0.0</td>\n      <td>0.00</td>\n      <td>0.00</td>\n      <td>1.0</td>\n      <td></td>\n    </tr>\n    <tr>\n      <th>3</th>\n      <td>2020-01-17</td>\n      <td>Velocity Financial</td>\n      <td>VEL</td>\n      <td>Wells Fargo Securities/ Citigroup/ JMP Securities</td>\n      <td>13.0</td>\n      <td>13.85</td>\n      <td>13.51</td>\n      <td>0.039231</td>\n      <td>0.85</td>\n      <td>0.51</td>\n      <td>1.0</td>\n      <td></td>\n    </tr>\n    <tr>\n      <th>4</th>\n      <td>2020-01-24</td>\n      <td>Gores Holdings IV</td>\n      <td>GHIVU</td>\n      <td>Deutsche Bank Securities</td>\n      <td>10.0</td>\n      <td>10.52</td>\n      <td>10.45</td>\n      <td>0.045</td>\n      <td>0.52</td>\n      <td>0.45</td>\n      <td>1.0</td>\n      <td></td>\n    </tr>\n  </tbody>\n</table>\n</div>"
     },
     "execution_count": 12,
     "metadata": {},
     "output_type": "execute_result"
    }
   ],
   "source": [
    "def to_date(x):\n",
    "    return xlrd.xldate.xldate_as_datetime(x, wb.datemode)\n",
    "df['Date'] = df['Date'].apply(to_date)\n",
    "df.head(5)"
   ]
  },
  {
   "cell_type": "markdown",
   "metadata": {
    "papermill": {
     "duration": 0.067294,
     "end_time": "2022-01-15T11:28:02.313869",
     "exception": false,
     "start_time": "2022-01-15T11:28:02.246575",
     "status": "completed"
    },
    "tags": []
   },
   "source": [
    "* Add  additional date-related columns for the sake of analysis"
   ]
  },
  {
   "cell_type": "code",
   "execution_count": 13,
   "metadata": {
    "execution": {
     "iopub.execute_input": "2022-01-15T11:28:02.451203Z",
     "iopub.status.busy": "2022-01-15T11:28:02.450555Z",
     "iopub.status.idle": "2022-01-15T11:28:02.478898Z",
     "shell.execute_reply": "2022-01-15T11:28:02.479489Z"
    },
    "papermill": {
     "duration": 0.098306,
     "end_time": "2022-01-15T11:28:02.479645",
     "exception": false,
     "start_time": "2022-01-15T11:28:02.381339",
     "status": "completed"
    },
    "tags": []
   },
   "outputs": [
    {
     "data": {
      "text/plain": "        Date                      Company Ticker  \\\n0 2020-01-17                       I-Mab    IMAB   \n1 2020-01-17                       LIZHI    LIZI   \n2 2020-01-17  Phoenix Tree Holdings Ltd.     DNK   \n3 2020-01-17          Velocity Financial     VEL   \n4 2020-01-24           Gores Holdings IV   GHIVU   \n\n                                            Managers  Offer Price  \\\n0                                    Jefferies/ CICC         14.0   \n1                           Credit Suisse/ Citigroup         11.0   \n2              Citigroup/ Credit Suisse/ J.P. Morgan         13.5   \n3  Wells Fargo Securities/ Citigroup/ JMP Securities         13.0   \n4                           Deutsche Bank Securities         10.0   \n\n   Opening Price  1st Day Close 1st Day % Chg  $ Chg Open  $ Chg Close  \\\n0          14.75          12.75     -0.089286        0.75        -1.25   \n1          11.03          11.63      0.057273        0.03         0.63   \n2          13.50          13.50           0.0        0.00         0.00   \n3          13.85          13.51      0.039231        0.85         0.51   \n4          10.52          10.45         0.045        0.52         0.45   \n\n  Star Rating Performed  Year  Month  Day  Day of Week  \n0         2.0            2020      1   17            4  \n1         1.0            2020      1   17            4  \n2         1.0            2020      1   17            4  \n3         1.0            2020      1   17            4  \n4         1.0            2020      1   24            4  ",
      "text/html": "<div>\n<style scoped>\n    .dataframe tbody tr th:only-of-type {\n        vertical-align: middle;\n    }\n\n    .dataframe tbody tr th {\n        vertical-align: top;\n    }\n\n    .dataframe thead th {\n        text-align: right;\n    }\n</style>\n<table border=\"1\" class=\"dataframe\">\n  <thead>\n    <tr style=\"text-align: right;\">\n      <th></th>\n      <th>Date</th>\n      <th>Company</th>\n      <th>Ticker</th>\n      <th>Managers</th>\n      <th>Offer Price</th>\n      <th>Opening Price</th>\n      <th>1st Day Close</th>\n      <th>1st Day % Chg</th>\n      <th>$ Chg Open</th>\n      <th>$ Chg Close</th>\n      <th>Star Rating</th>\n      <th>Performed</th>\n      <th>Year</th>\n      <th>Month</th>\n      <th>Day</th>\n      <th>Day of Week</th>\n    </tr>\n  </thead>\n  <tbody>\n    <tr>\n      <th>0</th>\n      <td>2020-01-17</td>\n      <td>I-Mab</td>\n      <td>IMAB</td>\n      <td>Jefferies/ CICC</td>\n      <td>14.0</td>\n      <td>14.75</td>\n      <td>12.75</td>\n      <td>-0.089286</td>\n      <td>0.75</td>\n      <td>-1.25</td>\n      <td>2.0</td>\n      <td></td>\n      <td>2020</td>\n      <td>1</td>\n      <td>17</td>\n      <td>4</td>\n    </tr>\n    <tr>\n      <th>1</th>\n      <td>2020-01-17</td>\n      <td>LIZHI</td>\n      <td>LIZI</td>\n      <td>Credit Suisse/ Citigroup</td>\n      <td>11.0</td>\n      <td>11.03</td>\n      <td>11.63</td>\n      <td>0.057273</td>\n      <td>0.03</td>\n      <td>0.63</td>\n      <td>1.0</td>\n      <td></td>\n      <td>2020</td>\n      <td>1</td>\n      <td>17</td>\n      <td>4</td>\n    </tr>\n    <tr>\n      <th>2</th>\n      <td>2020-01-17</td>\n      <td>Phoenix Tree Holdings Ltd.</td>\n      <td>DNK</td>\n      <td>Citigroup/ Credit Suisse/ J.P. Morgan</td>\n      <td>13.5</td>\n      <td>13.50</td>\n      <td>13.50</td>\n      <td>0.0</td>\n      <td>0.00</td>\n      <td>0.00</td>\n      <td>1.0</td>\n      <td></td>\n      <td>2020</td>\n      <td>1</td>\n      <td>17</td>\n      <td>4</td>\n    </tr>\n    <tr>\n      <th>3</th>\n      <td>2020-01-17</td>\n      <td>Velocity Financial</td>\n      <td>VEL</td>\n      <td>Wells Fargo Securities/ Citigroup/ JMP Securities</td>\n      <td>13.0</td>\n      <td>13.85</td>\n      <td>13.51</td>\n      <td>0.039231</td>\n      <td>0.85</td>\n      <td>0.51</td>\n      <td>1.0</td>\n      <td></td>\n      <td>2020</td>\n      <td>1</td>\n      <td>17</td>\n      <td>4</td>\n    </tr>\n    <tr>\n      <th>4</th>\n      <td>2020-01-24</td>\n      <td>Gores Holdings IV</td>\n      <td>GHIVU</td>\n      <td>Deutsche Bank Securities</td>\n      <td>10.0</td>\n      <td>10.52</td>\n      <td>10.45</td>\n      <td>0.045</td>\n      <td>0.52</td>\n      <td>0.45</td>\n      <td>1.0</td>\n      <td></td>\n      <td>2020</td>\n      <td>1</td>\n      <td>24</td>\n      <td>4</td>\n    </tr>\n  </tbody>\n</table>\n</div>"
     },
     "execution_count": 13,
     "metadata": {},
     "output_type": "execute_result"
    }
   ],
   "source": [
    "df['Year'], df['Month'], df['Day'], df['Day of Week'] = \\\n",
    "df['Date'].dt.year, df['Date'].dt.month, df['Date'].dt.day, df['Date'].dt.weekday\n",
    "df.head(5)"
   ]
  },
  {
   "cell_type": "markdown",
   "metadata": {
    "papermill": {
     "duration": 0.067378,
     "end_time": "2022-01-15T11:28:02.614197",
     "exception": false,
     "start_time": "2022-01-15T11:28:02.546819",
     "status": "completed"
    },
    "tags": []
   },
   "source": [
    "### Drop unimportant data\n",
    "* We have no interest in penny stocks, or particularly low-priced stocks: `['Offer Price'] < 5`\n",
    "* Drop them and reset index of the Dataframe\n",
    "* `inplace=True` returns None, `inplace=False` returns a copy of the object with the operation performed "
   ]
  },
  {
   "cell_type": "code",
   "execution_count": 14,
   "metadata": {
    "execution": {
     "iopub.execute_input": "2022-01-15T11:28:02.752711Z",
     "iopub.status.busy": "2022-01-15T11:28:02.751987Z",
     "iopub.status.idle": "2022-01-15T11:28:02.777143Z",
     "shell.execute_reply": "2022-01-15T11:28:02.777783Z"
    },
    "papermill": {
     "duration": 0.096042,
     "end_time": "2022-01-15T11:28:02.777937",
     "exception": false,
     "start_time": "2022-01-15T11:28:02.681895",
     "status": "completed"
    },
    "scrolled": true,
    "tags": []
   },
   "outputs": [
    {
     "data": {
      "text/plain": "Int64Index([  30,  205,  245,  338,  398,  404,  455,  461,  464,  532,  561,\n             767,  855,  873, 1232, 1534, 1688, 1741, 1812, 1908, 1924, 1968,\n            1979, 2006, 2052, 2054, 2078, 2641, 3145, 3380],\n           dtype='int64')"
     },
     "execution_count": 14,
     "metadata": {},
     "output_type": "execute_result"
    }
   ],
   "source": [
    "df[df['Offer Price'] < 5].index"
   ]
  },
  {
   "cell_type": "code",
   "execution_count": 15,
   "metadata": {
    "execution": {
     "iopub.execute_input": "2022-01-15T11:28:02.919303Z",
     "iopub.status.busy": "2022-01-15T11:28:02.918658Z",
     "iopub.status.idle": "2022-01-15T11:28:02.926318Z",
     "shell.execute_reply": "2022-01-15T11:28:02.926875Z"
    },
    "papermill": {
     "duration": 0.080159,
     "end_time": "2022-01-15T11:28:02.927029",
     "exception": false,
     "start_time": "2022-01-15T11:28:02.846870",
     "status": "completed"
    },
    "tags": []
   },
   "outputs": [],
   "source": [
    "df.drop(df[df['Offer Price'] < 5].index, inplace=True)"
   ]
  },
  {
   "cell_type": "code",
   "execution_count": 16,
   "metadata": {
    "execution": {
     "iopub.execute_input": "2022-01-15T11:28:03.066614Z",
     "iopub.status.busy": "2022-01-15T11:28:03.065931Z",
     "iopub.status.idle": "2022-01-15T11:28:03.069627Z",
     "shell.execute_reply": "2022-01-15T11:28:03.070168Z"
    },
    "papermill": {
     "duration": 0.074807,
     "end_time": "2022-01-15T11:28:03.070442",
     "exception": false,
     "start_time": "2022-01-15T11:28:02.995635",
     "status": "completed"
    },
    "tags": []
   },
   "outputs": [],
   "source": [
    "df.reset_index(drop=True, inplace=True)"
   ]
  },
  {
   "cell_type": "markdown",
   "metadata": {
    "papermill": {
     "duration": 0.068857,
     "end_time": "2022-01-15T11:28:03.207188",
     "exception": false,
     "start_time": "2022-01-15T11:28:03.138331",
     "status": "completed"
    },
    "tags": []
   },
   "source": [
    "### Check data type\n",
    "* We check whether data types  are proper.    \n",
    "* For example, the column `1st Day %Chg` column represents the change  of IPO (numerical) on the first day but its data type is an object.  \n",
    "* Change its data type to a float\n",
    "* `astype function`: Cast a Pandas object to a specified dtype "
   ]
  },
  {
   "cell_type": "code",
   "execution_count": 17,
   "metadata": {
    "execution": {
     "iopub.execute_input": "2022-01-15T11:28:03.346700Z",
     "iopub.status.busy": "2022-01-15T11:28:03.346027Z",
     "iopub.status.idle": "2022-01-15T11:28:03.353051Z",
     "shell.execute_reply": "2022-01-15T11:28:03.353602Z"
    },
    "papermill": {
     "duration": 0.078966,
     "end_time": "2022-01-15T11:28:03.353756",
     "exception": false,
     "start_time": "2022-01-15T11:28:03.274790",
     "status": "completed"
    },
    "tags": []
   },
   "outputs": [
    {
     "data": {
      "text/plain": "Date             datetime64[ns]\nCompany                  object\nTicker                   object\nManagers                 object\nOffer Price             float64\nOpening Price           float64\n1st Day Close           float64\n1st Day % Chg            object\n$ Chg Open              float64\n$ Chg Close             float64\nStar Rating              object\nPerformed                object\nYear                      int64\nMonth                     int64\nDay                       int64\nDay of Week               int64\ndtype: object"
     },
     "execution_count": 17,
     "metadata": {},
     "output_type": "execute_result"
    }
   ],
   "source": [
    "df.dtypes\n",
    "#print(df.dtypes.to_latex())"
   ]
  },
  {
   "cell_type": "code",
   "execution_count": 18,
   "metadata": {
    "execution": {
     "iopub.execute_input": "2022-01-15T11:28:03.497726Z",
     "iopub.status.busy": "2022-01-15T11:28:03.497043Z",
     "iopub.status.idle": "2022-01-15T11:28:03.503285Z",
     "shell.execute_reply": "2022-01-15T11:28:03.503959Z"
    },
    "papermill": {
     "duration": 0.080738,
     "end_time": "2022-01-15T11:28:03.504115",
     "exception": false,
     "start_time": "2022-01-15T11:28:03.423377",
     "status": "completed"
    },
    "tags": []
   },
   "outputs": [],
   "source": [
    "df['1st Day % Chg'] = df['1st Day % Chg'].astype(float)"
   ]
  },
  {
   "cell_type": "code",
   "execution_count": 19,
   "metadata": {
    "execution": {
     "iopub.execute_input": "2022-01-15T11:28:03.645844Z",
     "iopub.status.busy": "2022-01-15T11:28:03.645158Z",
     "iopub.status.idle": "2022-01-15T11:28:03.653347Z",
     "shell.execute_reply": "2022-01-15T11:28:03.652695Z"
    },
    "papermill": {
     "duration": 0.080506,
     "end_time": "2022-01-15T11:28:03.653482",
     "exception": false,
     "start_time": "2022-01-15T11:28:03.572976",
     "status": "completed"
    },
    "tags": []
   },
   "outputs": [
    {
     "data": {
      "text/plain": "Date             datetime64[ns]\nCompany                  object\nTicker                   object\nManagers                 object\nOffer Price             float64\nOpening Price           float64\n1st Day Close           float64\n1st Day % Chg           float64\n$ Chg Open              float64\n$ Chg Close             float64\nStar Rating              object\nPerformed                object\nYear                      int64\nMonth                     int64\nDay                       int64\nDay of Week               int64\ndtype: object"
     },
     "execution_count": 19,
     "metadata": {},
     "output_type": "execute_result"
    }
   ],
   "source": [
    "df.dtypes"
   ]
  },
  {
   "cell_type": "markdown",
   "metadata": {
    "papermill": {
     "duration": 0.068297,
     "end_time": "2022-01-15T11:28:03.792297",
     "exception": false,
     "start_time": "2022-01-15T11:28:03.724000",
     "status": "completed"
    },
    "tags": []
   },
   "source": [
    "### Number of IPOs\n",
    "* Exploratory analysis by plotiing the number of IPOs since 2000\n",
    "* `by_year_cnt`: records the count of tickers via `groupby`\n",
    "* `dataframe.plot(kind=’bar’)` is a Pandas built-in plot method.\n"
   ]
  },
  {
   "cell_type": "code",
   "execution_count": 20,
   "metadata": {
    "execution": {
     "iopub.execute_input": "2022-01-15T11:28:03.939915Z",
     "iopub.status.busy": "2022-01-15T11:28:03.939230Z",
     "iopub.status.idle": "2022-01-15T11:28:04.270807Z",
     "shell.execute_reply": "2022-01-15T11:28:04.271285Z"
    },
    "papermill": {
     "duration": 0.409135,
     "end_time": "2022-01-15T11:28:04.271451",
     "exception": false,
     "start_time": "2022-01-15T11:28:03.862316",
     "status": "completed"
    },
    "tags": []
   },
   "outputs": [
    {
     "data": {
      "text/plain": "Text(0.5, 1.02, 'IPO Count by Year')"
     },
     "execution_count": 20,
     "metadata": {},
     "output_type": "execute_result"
    },
    {
     "data": {
      "text/plain": "<Figure size 1152x576 with 1 Axes>",
      "image/png": "[encoded data removed]"
     },
     "metadata": {
      "needs_background": "light"
     },
     "output_type": "display_data"
    }
   ],
   "source": [
    "by_year_cnt = df.groupby('Year')[['Ticker']].count()\n",
    "fig, ax = plt.subplots(figsize=(16,8))\n",
    "by_year_cnt.plot(kind='bar', ax=ax, color='crimson')\n",
    "ax.legend(['Ticker Count'])\n",
    "ax.set_title('IPO Count by Year', fontdict={'size': 18}, y=1.02)"
   ]
  },
  {
   "cell_type": "markdown",
   "metadata": {
    "papermill": {
     "duration": 0.070492,
     "end_time": "2022-01-15T11:28:04.412207",
     "exception": false,
     "start_time": "2022-01-15T11:28:04.341715",
     "status": "completed"
    },
    "tags": []
   },
   "source": [
    "### Summarize the performance of the the IPO in each year\n",
    "* Function `describe()`:   Generate descriptive statistics that summarize of the data\n",
    "* for example, in 2000\n",
    "    * count: 237 IPOs \n",
    "    * mean: the mean price of IPOs increase 35\\% in the first day\n",
    "    * min: the worst IPO with -26\\% price drop\n",
    "    * 50\\%: 50\\% IPOs with at least 16\\% price increase "
   ]
  },
  {
   "cell_type": "code",
   "execution_count": 21,
   "metadata": {
    "execution": {
     "iopub.execute_input": "2022-01-15T11:28:04.557242Z",
     "iopub.status.busy": "2022-01-15T11:28:04.556161Z",
     "iopub.status.idle": "2022-01-15T11:28:04.623228Z",
     "shell.execute_reply": "2022-01-15T11:28:04.623890Z"
    },
    "papermill": {
     "duration": 0.141378,
     "end_time": "2022-01-15T11:28:04.624037",
     "exception": false,
     "start_time": "2022-01-15T11:28:04.482659",
     "status": "completed"
    },
    "tags": []
   },
   "outputs": [
    {
     "data": {
      "text/plain": "      count      mean       std       min       25%       50%       75%  \\\nYear                                                                      \n2000  237.0  0.355621  0.557065 -0.269231  0.004464  0.162500  0.470052   \n2001   93.0  0.130180  0.160606 -0.140625  0.011538  0.088542  0.229167   \n2002   82.0  0.072315  0.141903 -0.330769  0.000000  0.045959  0.135866   \n2003   79.0  0.120958  0.164613 -0.155455  0.002857  0.074286  0.230264   \n2004  233.0  0.107347  0.165334 -0.142500  0.000000  0.052083  0.169231   \n2005  226.0  0.099110  0.274405 -0.164000  0.000000  0.025357  0.143803   \n2006  236.0  0.099694  0.176282 -0.295455  0.000000  0.041652  0.150852   \n2007  256.0  0.115215  0.206049 -0.269091  0.000000  0.033571  0.179853   \n2008   47.0  0.023182  0.134953 -0.199200 -0.034857  0.000000  0.028873   \n2009   61.0  0.071752  0.155818 -0.167500 -0.017600  0.009000  0.131579   \n2010  153.0  0.091201  0.215307 -0.260769 -0.016667  0.023529  0.136667   \n2011  141.0  0.090664  0.218208 -0.215000 -0.006842  0.009167  0.152857   \n2012  143.0  0.120579  0.215977 -0.187500  0.000000  0.053077  0.177124   \n2013  229.0  0.163482  0.277182 -0.352222  0.000000  0.068718  0.245238   \n2014  287.0  0.123636  0.269714 -0.348800 -0.007611  0.042857  0.191127   \n2015  173.0  0.139472  0.299854 -0.274000  0.000000  0.048333  0.205714   \n2016  104.0  0.113253  0.234423 -0.200000 -0.001013  0.038357  0.205474   \n2017  180.0  0.103135  0.203852 -0.410833  0.000000  0.045000  0.159318   \n2018  222.0  0.129370  0.244419 -0.289333  0.000000  0.013333  0.260000   \n2019  216.0  0.140393  0.311115 -0.372000  0.000000  0.011500  0.266079   \n2020  204.0  0.206967  0.417993 -0.228000  0.000000  0.021000  0.265500   \n\n           max  \nYear            \n2000  2.775000  \n2001  0.766667  \n2002  0.666667  \n2003  0.885556  \n2004  1.036364  \n2005  3.538519  \n2006  1.254068  \n2007  0.972222  \n2008  0.575000  \n2009  0.594500  \n2010  1.109375  \n2011  1.344828  \n2012  1.087059  \n2013  1.228333  \n2014  2.066667  \n2015  1.855556  \n2016  1.312500  \n2017  1.114000  \n2018  1.281429  \n2019  2.312500  \n2020  2.493750  ",
      "text/html": "<div>\n<style scoped>\n    .dataframe tbody tr th:only-of-type {\n        vertical-align: middle;\n    }\n\n    .dataframe tbody tr th {\n        vertical-align: top;\n    }\n\n    .dataframe thead th {\n        text-align: right;\n    }\n</style>\n<table border=\"1\" class=\"dataframe\">\n  <thead>\n    <tr style=\"text-align: right;\">\n      <th></th>\n      <th>count</th>\n      <th>mean</th>\n      <th>std</th>\n      <th>min</th>\n      <th>25%</th>\n      <th>50%</th>\n      <th>75%</th>\n      <th>max</th>\n    </tr>\n    <tr>\n      <th>Year</th>\n      <th></th>\n      <th></th>\n      <th></th>\n      <th></th>\n      <th></th>\n      <th></th>\n      <th></th>\n      <th></th>\n    </tr>\n  </thead>\n  <tbody>\n    <tr>\n      <th>2000</th>\n      <td>237.0</td>\n      <td>0.355621</td>\n      <td>0.557065</td>\n      <td>-0.269231</td>\n      <td>0.004464</td>\n      <td>0.162500</td>\n      <td>0.470052</td>\n      <td>2.775000</td>\n    </tr>\n    <tr>\n      <th>2001</th>\n      <td>93.0</td>\n      <td>0.130180</td>\n      <td>0.160606</td>\n      <td>-0.140625</td>\n      <td>0.011538</td>\n      <td>0.088542</td>\n      <td>0.229167</td>\n      <td>0.766667</td>\n    </tr>\n    <tr>\n      <th>2002</th>\n      <td>82.0</td>\n      <td>0.072315</td>\n      <td>0.141903</td>\n      <td>-0.330769</td>\n      <td>0.000000</td>\n      <td>0.045959</td>\n      <td>0.135866</td>\n      <td>0.666667</td>\n    </tr>\n    <tr>\n      <th>2003</th>\n      <td>79.0</td>\n      <td>0.120958</td>\n      <td>0.164613</td>\n      <td>-0.155455</td>\n      <td>0.002857</td>\n      <td>0.074286</td>\n      <td>0.230264</td>\n      <td>0.885556</td>\n    </tr>\n    <tr>\n      <th>2004</th>\n      <td>233.0</td>\n      <td>0.107347</td>\n      <td>0.165334</td>\n      <td>-0.142500</td>\n      <td>0.000000</td>\n      <td>0.052083</td>\n      <td>0.169231</td>\n      <td>1.036364</td>\n    </tr>\n    <tr>\n      <th>2005</th>\n      <td>226.0</td>\n      <td>0.099110</td>\n      <td>0.274405</td>\n      <td>-0.164000</td>\n      <td>0.000000</td>\n      <td>0.025357</td>\n      <td>0.143803</td>\n      <td>3.538519</td>\n    </tr>\n    <tr>\n      <th>2006</th>\n      <td>236.0</td>\n      <td>0.099694</td>\n      <td>0.176282</td>\n      <td>-0.295455</td>\n      <td>0.000000</td>\n      <td>0.041652</td>\n      <td>0.150852</td>\n      <td>1.254068</td>\n    </tr>\n    <tr>\n      <th>2007</th>\n      <td>256.0</td>\n      <td>0.115215</td>\n      <td>0.206049</td>\n      <td>-0.269091</td>\n      <td>0.000000</td>\n      <td>0.033571</td>\n      <td>0.179853</td>\n      <td>0.972222</td>\n    </tr>\n    <tr>\n      <th>2008</th>\n      <td>47.0</td>\n      <td>0.023182</td>\n      <td>0.134953</td>\n      <td>-0.199200</td>\n      <td>-0.034857</td>\n      <td>0.000000</td>\n      <td>0.028873</td>\n      <td>0.575000</td>\n    </tr>\n    <tr>\n      <th>2009</th>\n      <td>61.0</td>\n      <td>0.071752</td>\n      <td>0.155818</td>\n      <td>-0.167500</td>\n      <td>-0.017600</td>\n      <td>0.009000</td>\n      <td>0.131579</td>\n      <td>0.594500</td>\n    </tr>\n    <tr>\n      <th>2010</th>\n      <td>153.0</td>\n      <td>0.091201</td>\n      <td>0.215307</td>\n      <td>-0.260769</td>\n      <td>-0.016667</td>\n      <td>0.023529</td>\n      <td>0.136667</td>\n      <td>1.109375</td>\n    </tr>\n    <tr>\n      <th>2011</th>\n      <td>141.0</td>\n      <td>0.090664</td>\n      <td>0.218208</td>\n      <td>-0.215000</td>\n      <td>-0.006842</td>\n      <td>0.009167</td>\n      <td>0.152857</td>\n      <td>1.344828</td>\n    </tr>\n    <tr>\n      <th>2012</th>\n      <td>143.0</td>\n      <td>0.120579</td>\n      <td>0.215977</td>\n      <td>-0.187500</td>\n      <td>0.000000</td>\n      <td>0.053077</td>\n      <td>0.177124</td>\n      <td>1.087059</td>\n    </tr>\n    <tr>\n      <th>2013</th>\n      <td>229.0</td>\n      <td>0.163482</td>\n      <td>0.277182</td>\n      <td>-0.352222</td>\n      <td>0.000000</td>\n      <td>0.068718</td>\n      <td>0.245238</td>\n      <td>1.228333</td>\n    </tr>\n    <tr>\n      <th>2014</th>\n      <td>287.0</td>\n      <td>0.123636</td>\n      <td>0.269714</td>\n      <td>-0.348800</td>\n      <td>-0.007611</td>\n      <td>0.042857</td>\n      <td>0.191127</td>\n      <td>2.066667</td>\n    </tr>\n    <tr>\n      <th>2015</th>\n      <td>173.0</td>\n      <td>0.139472</td>\n      <td>0.299854</td>\n      <td>-0.274000</td>\n      <td>0.000000</td>\n      <td>0.048333</td>\n      <td>0.205714</td>\n      <td>1.855556</td>\n    </tr>\n    <tr>\n      <th>2016</th>\n      <td>104.0</td>\n      <td>0.113253</td>\n      <td>0.234423</td>\n      <td>-0.200000</td>\n      <td>-0.001013</td>\n      <td>0.038357</td>\n      <td>0.205474</td>\n      <td>1.312500</td>\n    </tr>\n    <tr>\n      <th>2017</th>\n      <td>180.0</td>\n      <td>0.103135</td>\n      <td>0.203852</td>\n      <td>-0.410833</td>\n      <td>0.000000</td>\n      <td>0.045000</td>\n      <td>0.159318</td>\n      <td>1.114000</td>\n    </tr>\n    <tr>\n      <th>2018</th>\n      <td>222.0</td>\n      <td>0.129370</td>\n      <td>0.244419</td>\n      <td>-0.289333</td>\n      <td>0.000000</td>\n      <td>0.013333</td>\n      <td>0.260000</td>\n      <td>1.281429</td>\n    </tr>\n    <tr>\n      <th>2019</th>\n      <td>216.0</td>\n      <td>0.140393</td>\n      <td>0.311115</td>\n      <td>-0.372000</td>\n      <td>0.000000</td>\n      <td>0.011500</td>\n      <td>0.266079</td>\n      <td>2.312500</td>\n    </tr>\n    <tr>\n      <th>2020</th>\n      <td>204.0</td>\n      <td>0.206967</td>\n      <td>0.417993</td>\n      <td>-0.228000</td>\n      <td>0.000000</td>\n      <td>0.021000</td>\n      <td>0.265500</td>\n      <td>2.493750</td>\n    </tr>\n  </tbody>\n</table>\n</div>"
     },
     "execution_count": 21,
     "metadata": {},
     "output_type": "execute_result"
    }
   ],
   "source": [
    "summary_by_year = df.groupby('Year')['1st Day % Chg'].describe()\n",
    "summary_by_year"
   ]
  },
  {
   "cell_type": "markdown",
   "metadata": {
    "papermill": {
     "duration": 0.070537,
     "end_time": "2022-01-15T11:28:04.765432",
     "exception": false,
     "start_time": "2022-01-15T11:28:04.694895",
     "status": "completed"
    },
    "tags": []
   },
   "source": [
    "### Understand the change of the IPO on the first day\n",
    "* Plot the mean  change of the IPO on the first day\n"
   ]
  },
  {
   "cell_type": "code",
   "execution_count": 22,
   "metadata": {
    "execution": {
     "iopub.execute_input": "2022-01-15T11:28:04.912501Z",
     "iopub.status.busy": "2022-01-15T11:28:04.911058Z",
     "iopub.status.idle": "2022-01-15T11:28:05.166501Z",
     "shell.execute_reply": "2022-01-15T11:28:05.166993Z"
    },
    "papermill": {
     "duration": 0.329997,
     "end_time": "2022-01-15T11:28:05.167151",
     "exception": false,
     "start_time": "2022-01-15T11:28:04.837154",
     "status": "completed"
    },
    "tags": []
   },
   "outputs": [
    {
     "data": {
      "text/plain": "Text(0.5, 1.02, 'Mean First Day Percentage Change by Year')"
     },
     "execution_count": 22,
     "metadata": {},
     "output_type": "execute_result"
    },
    {
     "data": {
      "text/plain": "<Figure size 1152x576 with 1 Axes>",
      "image/png": "[encoded data removed]"
     },
     "metadata": {
      "needs_background": "light"
     },
     "output_type": "display_data"
    }
   ],
   "source": [
    "fig, ax = plt.subplots(figsize=(16,8))\n",
    "summary_by_year['mean'].plot(kind='bar', ax=ax)\n",
    "ax.set_title('Mean First Day Percentage Change by Year', fontdict={'size': 18}, y=1.02)\n",
    "#fig.savefig('eda-ipochg.png')"
   ]
  },
  {
   "cell_type": "markdown",
   "metadata": {
    "papermill": {
     "duration": 0.072765,
     "end_time": "2022-01-15T11:28:05.311686",
     "exception": false,
     "start_time": "2022-01-15T11:28:05.238921",
     "status": "completed"
    },
    "tags": []
   },
   "source": [
    "### Part 3 Understand Features and Add New Features\n",
    "### Understand Features \n",
    "* What might impact the performance of an offering as it begins trading? \n",
    "    * Perhaps the performance of the market in general or the prestige of the underwriters could impact it? \n",
    "    * Perhaps the day of the week or the month that it trades is important?\n",
    "* Consideration and inclusion of these factors is as important as the data in building up a good model"
   ]
  },
  {
   "cell_type": "markdown",
   "metadata": {
    "papermill": {
     "duration": 0.071643,
     "end_time": "2022-01-15T11:28:05.455296",
     "exception": false,
     "start_time": "2022-01-15T11:28:05.383653",
     "status": "completed"
    },
    "tags": []
   },
   "source": [
    "### Add New Feature: First-day return to the public in percentage\n",
    "* Only investors get the offering price \n",
    "* Suppose that public bought one share of IPO at the exact opening tick and sold them at the precise closing price\n",
    "* What is the return at the end of the day?\n",
    "* The `first-day return` to the general public is the difference between the opening price and the closing price.\n",
    "* Add  a column for the change between the opening price and theclosing price"
   ]
  },
  {
   "cell_type": "code",
   "execution_count": 23,
   "metadata": {
    "execution": {
     "iopub.execute_input": "2022-01-15T11:28:05.607718Z",
     "iopub.status.busy": "2022-01-15T11:28:05.606446Z",
     "iopub.status.idle": "2022-01-15T11:28:05.630994Z",
     "shell.execute_reply": "2022-01-15T11:28:05.631482Z"
    },
    "papermill": {
     "duration": 0.103147,
     "end_time": "2022-01-15T11:28:05.631643",
     "exception": false,
     "start_time": "2022-01-15T11:28:05.528496",
     "status": "completed"
    },
    "tags": []
   },
   "outputs": [
    {
     "data": {
      "text/plain": "        Date                      Company Ticker  \\\n0 2020-01-17                       I-Mab    IMAB   \n1 2020-01-17                       LIZHI    LIZI   \n2 2020-01-17  Phoenix Tree Holdings Ltd.     DNK   \n3 2020-01-17          Velocity Financial     VEL   \n4 2020-01-24           Gores Holdings IV   GHIVU   \n\n                                            Managers  Offer Price  \\\n0                                    Jefferies/ CICC         14.0   \n1                           Credit Suisse/ Citigroup         11.0   \n2              Citigroup/ Credit Suisse/ J.P. Morgan         13.5   \n3  Wells Fargo Securities/ Citigroup/ JMP Securities         13.0   \n4                           Deutsche Bank Securities         10.0   \n\n   Opening Price  1st Day Close  1st Day % Chg  $ Chg Open  $ Chg Close  \\\n0          14.75          12.75      -0.089286        0.75        -1.25   \n1          11.03          11.63       0.057273        0.03         0.63   \n2          13.50          13.50       0.000000        0.00         0.00   \n3          13.85          13.51       0.039231        0.85         0.51   \n4          10.52          10.45       0.045000        0.52         0.45   \n\n  Star Rating Performed  Year  Month  Day  Day of Week  \\\n0         2.0            2020      1   17            4   \n1         1.0            2020      1   17            4   \n2         1.0            2020      1   17            4   \n3         1.0            2020      1   17            4   \n4         1.0            2020      1   24            4   \n\n   1st Day Open to Close % Chg  \n0                    -0.135593  \n1                     0.054397  \n2                     0.000000  \n3                    -0.024549  \n4                    -0.006654  ",
      "text/html": "<div>\n<style scoped>\n    .dataframe tbody tr th:only-of-type {\n        vertical-align: middle;\n    }\n\n    .dataframe tbody tr th {\n        vertical-align: top;\n    }\n\n    .dataframe thead th {\n        text-align: right;\n    }\n</style>\n<table border=\"1\" class=\"dataframe\">\n  <thead>\n    <tr style=\"text-align: right;\">\n      <th></th>\n      <th>Date</th>\n      <th>Company</th>\n      <th>Ticker</th>\n      <th>Managers</th>\n      <th>Offer Price</th>\n      <th>Opening Price</th>\n      <th>1st Day Close</th>\n      <th>1st Day % Chg</th>\n      <th>$ Chg Open</th>\n      <th>$ Chg Close</th>\n      <th>Star Rating</th>\n      <th>Performed</th>\n      <th>Year</th>\n      <th>Month</th>\n      <th>Day</th>\n      <th>Day of Week</th>\n      <th>1st Day Open to Close % Chg</th>\n    </tr>\n  </thead>\n  <tbody>\n    <tr>\n      <th>0</th>\n      <td>2020-01-17</td>\n      <td>I-Mab</td>\n      <td>IMAB</td>\n      <td>Jefferies/ CICC</td>\n      <td>14.0</td>\n      <td>14.75</td>\n      <td>12.75</td>\n      <td>-0.089286</td>\n      <td>0.75</td>\n      <td>-1.25</td>\n      <td>2.0</td>\n      <td></td>\n      <td>2020</td>\n      <td>1</td>\n      <td>17</td>\n      <td>4</td>\n      <td>-0.135593</td>\n    </tr>\n    <tr>\n      <th>1</th>\n      <td>2020-01-17</td>\n      <td>LIZHI</td>\n      <td>LIZI</td>\n      <td>Credit Suisse/ Citigroup</td>\n      <td>11.0</td>\n      <td>11.03</td>\n      <td>11.63</td>\n      <td>0.057273</td>\n      <td>0.03</td>\n      <td>0.63</td>\n      <td>1.0</td>\n      <td></td>\n      <td>2020</td>\n      <td>1</td>\n      <td>17</td>\n      <td>4</td>\n      <td>0.054397</td>\n    </tr>\n    <tr>\n      <th>2</th>\n      <td>2020-01-17</td>\n      <td>Phoenix Tree Holdings Ltd.</td>\n      <td>DNK</td>\n      <td>Citigroup/ Credit Suisse/ J.P. Morgan</td>\n      <td>13.5</td>\n      <td>13.50</td>\n      <td>13.50</td>\n      <td>0.000000</td>\n      <td>0.00</td>\n      <td>0.00</td>\n      <td>1.0</td>\n      <td></td>\n      <td>2020</td>\n      <td>1</td>\n      <td>17</td>\n      <td>4</td>\n      <td>0.000000</td>\n    </tr>\n    <tr>\n      <th>3</th>\n      <td>2020-01-17</td>\n      <td>Velocity Financial</td>\n      <td>VEL</td>\n      <td>Wells Fargo Securities/ Citigroup/ JMP Securities</td>\n      <td>13.0</td>\n      <td>13.85</td>\n      <td>13.51</td>\n      <td>0.039231</td>\n      <td>0.85</td>\n      <td>0.51</td>\n      <td>1.0</td>\n      <td></td>\n      <td>2020</td>\n      <td>1</td>\n      <td>17</td>\n      <td>4</td>\n      <td>-0.024549</td>\n    </tr>\n    <tr>\n      <th>4</th>\n      <td>2020-01-24</td>\n      <td>Gores Holdings IV</td>\n      <td>GHIVU</td>\n      <td>Deutsche Bank Securities</td>\n      <td>10.0</td>\n      <td>10.52</td>\n      <td>10.45</td>\n      <td>0.045000</td>\n      <td>0.52</td>\n      <td>0.45</td>\n      <td>1.0</td>\n      <td></td>\n      <td>2020</td>\n      <td>1</td>\n      <td>24</td>\n      <td>4</td>\n      <td>-0.006654</td>\n    </tr>\n  </tbody>\n</table>\n</div>"
     },
     "execution_count": 23,
     "metadata": {},
     "output_type": "execute_result"
    }
   ],
   "source": [
    "df['1st Day Open to Close % Chg'] = ((df['1st Day Close'] - df['Opening Price'])/df['Opening Price'])\n",
    "df.head(5)"
   ]
  },
  {
   "cell_type": "markdown",
   "metadata": {
    "papermill": {
     "duration": 0.072938,
     "end_time": "2022-01-15T11:28:05.778127",
     "exception": false,
     "start_time": "2022-01-15T11:28:05.705189",
     "status": "completed"
    },
    "tags": []
   },
   "source": [
    "* Describe the new feature"
   ]
  },
  {
   "cell_type": "code",
   "execution_count": 24,
   "metadata": {
    "execution": {
     "iopub.execute_input": "2022-01-15T11:28:05.931872Z",
     "iopub.status.busy": "2022-01-15T11:28:05.930810Z",
     "iopub.status.idle": "2022-01-15T11:28:05.938991Z",
     "shell.execute_reply": "2022-01-15T11:28:05.939475Z"
    },
    "papermill": {
     "duration": 0.087495,
     "end_time": "2022-01-15T11:28:05.939640",
     "exception": false,
     "start_time": "2022-01-15T11:28:05.852145",
     "status": "completed"
    },
    "tags": []
   },
   "outputs": [
    {
     "data": {
      "text/plain": "count    3602.000000\nmean        0.013316\nstd         0.115647\nmin        -0.492812\n25%        -0.028618\n50%         0.000000\n75%         0.038282\nmax         2.173653\nName: 1st Day Open to Close % Chg, dtype: float64"
     },
     "execution_count": 24,
     "metadata": {},
     "output_type": "execute_result"
    }
   ],
   "source": [
    "df['1st Day Open to Close % Chg'].describe()"
   ]
  },
  {
   "cell_type": "markdown",
   "metadata": {
    "papermill": {
     "duration": 0.074415,
     "end_time": "2022-01-15T11:28:06.088094",
     "exception": false,
     "start_time": "2022-01-15T11:28:06.013679",
     "status": "completed"
    },
    "tags": []
   },
   "source": [
    "### Plot the first-day return\n",
    "* Plot the first-day return that the general public by years"
   ]
  },
  {
   "cell_type": "code",
   "execution_count": 25,
   "metadata": {
    "execution": {
     "iopub.execute_input": "2022-01-15T11:28:06.239531Z",
     "iopub.status.busy": "2022-01-15T11:28:06.238442Z",
     "iopub.status.idle": "2022-01-15T11:28:06.588714Z",
     "shell.execute_reply": "2022-01-15T11:28:06.589196Z"
    },
    "papermill": {
     "duration": 0.427204,
     "end_time": "2022-01-15T11:28:06.589356",
     "exception": false,
     "start_time": "2022-01-15T11:28:06.162152",
     "status": "completed"
    },
    "tags": []
   },
   "outputs": [
    {
     "data": {
      "text/plain": "<Figure size 1152x576 with 1 Axes>",
      "image/png": "[encoded data removed]"
     },
     "metadata": {
      "needs_background": "light"
     },
     "output_type": "display_data"
    }
   ],
   "source": [
    "fig, ax = plt.subplots(figsize=(16,8))\n",
    "df.groupby('Year')['1st Day Open to Close % Chg'].mean().plot(kind='bar', ax=ax)\n",
    "ax.set_title('Mean First Day Open to Close % Change by Year', fontdict={'size': 18}, y=1.02)\n",
    "fig.savefig('eda-ipochg-public.pdf')"
   ]
  },
  {
   "cell_type": "markdown",
   "metadata": {
    "papermill": {
     "duration": 0.074102,
     "end_time": "2022-01-15T11:28:06.739751",
     "exception": false,
     "start_time": "2022-01-15T11:28:06.665649",
     "status": "completed"
    },
    "tags": []
   },
   "source": [
    "* This return is much lower than the difference between the offeringprice and closing price"
   ]
  },
  {
   "cell_type": "markdown",
   "metadata": {
    "papermill": {
     "duration": 0.075071,
     "end_time": "2022-01-15T11:28:06.889086",
     "exception": false,
     "start_time": "2022-01-15T11:28:06.814015",
     "status": "completed"
    },
    "tags": []
   },
   "source": [
    "### Calculate the first-day return (%)\n",
    "* calculate the first-day return that the general public by years\n",
    "* Sort them in the order from high to low `ascending=False`"
   ]
  },
  {
   "cell_type": "code",
   "execution_count": 26,
   "metadata": {
    "execution": {
     "iopub.execute_input": "2022-01-15T11:28:07.044895Z",
     "iopub.status.busy": "2022-01-15T11:28:07.043731Z",
     "iopub.status.idle": "2022-01-15T11:28:07.052347Z",
     "shell.execute_reply": "2022-01-15T11:28:07.052925Z"
    },
    "papermill": {
     "duration": 0.088599,
     "end_time": "2022-01-15T11:28:07.053136",
     "exception": false,
     "start_time": "2022-01-15T11:28:06.964537",
     "status": "completed"
    },
    "scrolled": true,
    "tags": []
   },
   "outputs": [],
   "source": [
    "mean_delta_by_year = df.groupby('Year')[['1st Day Open to Close % Chg']].mean()"
   ]
  },
  {
   "cell_type": "code",
   "execution_count": 27,
   "metadata": {
    "execution": {
     "iopub.execute_input": "2022-01-15T11:28:07.212674Z",
     "iopub.status.busy": "2022-01-15T11:28:07.211968Z",
     "iopub.status.idle": "2022-01-15T11:28:07.221190Z",
     "shell.execute_reply": "2022-01-15T11:28:07.220539Z"
    },
    "papermill": {
     "duration": 0.090959,
     "end_time": "2022-01-15T11:28:07.221318",
     "exception": false,
     "start_time": "2022-01-15T11:28:07.130359",
     "status": "completed"
    },
    "tags": []
   },
   "outputs": [
    {
     "data": {
      "text/plain": "      1st Day Open to Close % Chg\nYear                             \n2000                     0.057282\n2001                     0.030659\n2019                     0.024807\n2003                     0.020931\n2015                     0.017152\n2007                     0.016880\n2012                     0.014646\n2013                     0.012897\n2017                     0.011418\n2004                     0.011221\n2005                     0.010077\n2006                     0.007168\n2020                     0.006778\n2009                     0.005853\n2010                     0.004180\n2002                     0.003687\n2018                     0.003244\n2016                     0.001073\n2014                     0.000886\n2011                    -0.000530\n2008                    -0.003023",
      "text/html": "<div>\n<style scoped>\n    .dataframe tbody tr th:only-of-type {\n        vertical-align: middle;\n    }\n\n    .dataframe tbody tr th {\n        vertical-align: top;\n    }\n\n    .dataframe thead th {\n        text-align: right;\n    }\n</style>\n<table border=\"1\" class=\"dataframe\">\n  <thead>\n    <tr style=\"text-align: right;\">\n      <th></th>\n      <th>1st Day Open to Close % Chg</th>\n    </tr>\n    <tr>\n      <th>Year</th>\n      <th></th>\n    </tr>\n  </thead>\n  <tbody>\n    <tr>\n      <th>2000</th>\n      <td>0.057282</td>\n    </tr>\n    <tr>\n      <th>2001</th>\n      <td>0.030659</td>\n    </tr>\n    <tr>\n      <th>2019</th>\n      <td>0.024807</td>\n    </tr>\n    <tr>\n      <th>2003</th>\n      <td>0.020931</td>\n    </tr>\n    <tr>\n      <th>2015</th>\n      <td>0.017152</td>\n    </tr>\n    <tr>\n      <th>2007</th>\n      <td>0.016880</td>\n    </tr>\n    <tr>\n      <th>2012</th>\n      <td>0.014646</td>\n    </tr>\n    <tr>\n      <th>2013</th>\n      <td>0.012897</td>\n    </tr>\n    <tr>\n      <th>2017</th>\n      <td>0.011418</td>\n    </tr>\n    <tr>\n      <th>2004</th>\n      <td>0.011221</td>\n    </tr>\n    <tr>\n      <th>2005</th>\n      <td>0.010077</td>\n    </tr>\n    <tr>\n      <th>2006</th>\n      <td>0.007168</td>\n    </tr>\n    <tr>\n      <th>2020</th>\n      <td>0.006778</td>\n    </tr>\n    <tr>\n      <th>2009</th>\n      <td>0.005853</td>\n    </tr>\n    <tr>\n      <th>2010</th>\n      <td>0.004180</td>\n    </tr>\n    <tr>\n      <th>2002</th>\n      <td>0.003687</td>\n    </tr>\n    <tr>\n      <th>2018</th>\n      <td>0.003244</td>\n    </tr>\n    <tr>\n      <th>2016</th>\n      <td>0.001073</td>\n    </tr>\n    <tr>\n      <th>2014</th>\n      <td>0.000886</td>\n    </tr>\n    <tr>\n      <th>2011</th>\n      <td>-0.000530</td>\n    </tr>\n    <tr>\n      <th>2008</th>\n      <td>-0.003023</td>\n    </tr>\n  </tbody>\n</table>\n</div>"
     },
     "execution_count": 27,
     "metadata": {},
     "output_type": "execute_result"
    }
   ],
   "source": [
    "mean_delta_by_year.sort_values(ascending=False, by='1st Day Open to Close % Chg')"
   ]
  },
  {
   "cell_type": "markdown",
   "metadata": {
    "papermill": {
     "duration": 0.075247,
     "end_time": "2022-01-15T11:28:07.371669",
     "exception": false,
     "start_time": "2022-01-15T11:28:07.296422",
     "status": "completed"
    },
    "tags": []
   },
   "source": [
    "### Add New Feature:  `First-day return` to the public in dollar\n",
    "* Add another column:  `1st Day Open to Close $ Chg` = 1st day close price - opening price\n",
    "* Add one column for  the actual dollar price change from open to close \n",
    "* Let's look at Year 2010 statistics "
   ]
  },
  {
   "cell_type": "code",
   "execution_count": 28,
   "metadata": {
    "execution": {
     "iopub.execute_input": "2022-01-15T11:28:07.525260Z",
     "iopub.status.busy": "2022-01-15T11:28:07.524551Z",
     "iopub.status.idle": "2022-01-15T11:28:07.537649Z",
     "shell.execute_reply": "2022-01-15T11:28:07.538272Z"
    },
    "papermill": {
     "duration": 0.091865,
     "end_time": "2022-01-15T11:28:07.538445",
     "exception": false,
     "start_time": "2022-01-15T11:28:07.446580",
     "status": "completed"
    },
    "tags": []
   },
   "outputs": [
    {
     "data": {
      "text/plain": "count    237.000000\nmean       1.160931\nstd        4.153788\nmin      -15.875000\n25%       -0.359375\n50%        0.312500\n75%        1.875000\nmax       20.609375\nName: 1st Day Open to Close $ Chg, dtype: float64"
     },
     "execution_count": 28,
     "metadata": {},
     "output_type": "execute_result"
    }
   ],
   "source": [
    "df['1st Day Open to Close $ Chg'] = (df['1st Day Close'] - df['Opening Price'])\n",
    "df[df['Year']==2000]['1st Day Open to Close $ Chg'].describe()"
   ]
  },
  {
   "cell_type": "markdown",
   "metadata": {
    "papermill": {
     "duration": 0.075431,
     "end_time": "2022-01-15T11:28:07.691694",
     "exception": false,
     "start_time": "2022-01-15T11:28:07.616263",
     "status": "completed"
    },
    "tags": []
   },
   "source": [
    " "
   ]
  },
  {
   "cell_type": "markdown",
   "metadata": {
    "papermill": {
     "duration": 0.076028,
     "end_time": "2022-01-15T11:28:07.843272",
     "exception": false,
     "start_time": "2022-01-15T11:28:07.767244",
     "status": "completed"
    },
    "tags": []
   },
   "source": [
    "### Distribution of first day returns for IPOs in 2000\n",
    "*  Plot the distribution of return\n",
    "* `datafram.plot`: dataframe built-in method"
   ]
  },
  {
   "cell_type": "code",
   "execution_count": 29,
   "metadata": {
    "execution": {
     "iopub.execute_input": "2022-01-15T11:28:08.002545Z",
     "iopub.status.busy": "2022-01-15T11:28:08.001366Z",
     "iopub.status.idle": "2022-01-15T11:28:08.311381Z",
     "shell.execute_reply": "2022-01-15T11:28:08.312012Z"
    },
    "papermill": {
     "duration": 0.392221,
     "end_time": "2022-01-15T11:28:08.312168",
     "exception": false,
     "start_time": "2022-01-15T11:28:07.919947",
     "status": "completed"
    },
    "tags": []
   },
   "outputs": [
    {
     "data": {
      "text/plain": "<Figure size 1152x576 with 1 Axes>",
      "image/png": "[encoded data removed]"
     },
     "metadata": {
      "needs_background": "light"
     },
     "output_type": "display_data"
    }
   ],
   "source": [
    "fig, ax = plt.subplots(figsize=(16,8))\n",
    "df[df['Year']==2000]['1st Day Open to Close % Chg'].plot(kind='hist', bins=25, ax=ax)\n",
    "fig.savefig(\"eda-distribution.png\")"
   ]
  },
  {
   "cell_type": "markdown",
   "metadata": {
    "papermill": {
     "duration": 0.075917,
     "end_time": "2022-01-15T11:28:08.465306",
     "exception": false,
     "start_time": "2022-01-15T11:28:08.389389",
     "status": "completed"
    },
    "tags": []
   },
   "source": [
    "### IPO stratgegy\n",
    "* The returns are centered around zero, but some exceptional returns are on the right\n",
    "* Strategy: select   these exceptional IPOs for better returns \n",
    "* Show these exceptional IPOs: `'1st Day Open to Close % Chg']`>=20%"
   ]
  },
  {
   "cell_type": "code",
   "execution_count": 30,
   "metadata": {
    "execution": {
     "iopub.execute_input": "2022-01-15T11:28:08.621789Z",
     "iopub.status.busy": "2022-01-15T11:28:08.620733Z",
     "iopub.status.idle": "2022-01-15T11:28:08.667194Z",
     "shell.execute_reply": "2022-01-15T11:28:08.667729Z"
    },
    "papermill": {
     "duration": 0.126245,
     "end_time": "2022-01-15T11:28:08.667884",
     "exception": false,
     "start_time": "2022-01-15T11:28:08.541639",
     "status": "completed"
    },
    "tags": []
   },
   "outputs": [
    {
     "data": {
      "text/plain": "           Date                       Company Ticker  \\\n3368 2000-05-18           iBEAM Broadcasting    IBEM   \n3369 2000-05-18                    New Focus    NUFO   \n3377 2000-05-25               Sonus Networks    SONS   \n3393 2000-06-21                      Cepheid    CPHD   \n3397 2000-06-23         Accelerated Networks    ACCL   \n3401 2000-06-27               Click Commerce    CKCM   \n3407 2000-06-29             CapStone Turbine    CPST   \n3413 2000-06-30  Precise Software Soluntions    PRSE   \n3415 2000-07-07                 InfoVista SA    IVTA   \n3422 2000-07-13                       I-Many    IMNY   \n3424 2000-07-13              Sunrise Telecom    SRTI   \n3426 2000-07-14      OmniVision Technologies    OVTI   \n3427 2000-07-14            Pain Therapeutics    PTIE   \n3431 2000-07-19                  Support.com    SPRT   \n3435 2000-07-21                         SMTC    SMTX   \n3439 2000-07-25        Blue Martini Software    BLUE   \n3441 2000-07-26              Gemini Genomics    GMNI   \n3445 2000-07-27  Applied Molecular Evolution    AMEV   \n3454 2000-07-28                     Illumina    ILMN   \n3455 2000-07-28                       Lexent    LXNT   \n3456 2000-07-28                        WebEx    WEBX   \n3461 2000-08-01    SpeechWorks International    SPWX   \n3486 2000-08-08              Medicines (The)    MDCO   \n3489 2000-08-08                 Active Power    ACPW   \n3498 2000-08-09                      H Power    HPOW   \n3501 2000-08-10         Esperion Theraputics    ESPR   \n3504 2000-08-10              Evolve Software    EVLV   \n3513 2000-08-15                         Dyax    DYAX   \n3518 2000-08-18   Integrated Telecom Express    ITXI   \n3522 2000-08-23                     02 Micro    OIIM   \n3530 2000-09-22         INRANGE Technologies    INRG   \n3538 2000-09-28  University of Phoenix Online   UOPX   \n3546 2000-09-29                      Docent     DCNT   \n3561 2000-10-12                   Synplicity    SYNP   \n3572 2000-11-02              Evergreen Solar    ESLR   \n3595 2000-12-07            Harvard Biosceince   HBIO   \n3596 2000-12-08                       Garmin    GRMN   \n\n                                      Managers  Offer Price  Opening Price  \\\n3368                Morgan Stanley Dean Witter        10.00      11.500000   \n3369                Credit Suisse First Boston        20.00      40.000000   \n3377                            Goldman, Sachs        23.00      32.000000   \n3393                              UBS Warburg          6.00       6.250000   \n3397                Credit Suisse First Boston        15.00      33.000000   \n3401                Morgan Stanley Dean Witter        10.00      14.000000   \n3407                            Goldman, Sachs        16.00      27.375000   \n3413                             Merrill Lynch        16.00      18.750000   \n3415                           Lehman Brothers        12.23      15.500000   \n3422                        Robertson Stephens         9.00       9.031250   \n3424                                 Chase H&Q        15.00      31.000000   \n3426                        Robertson Stephens        13.00      27.000000   \n3427                             Thomas Weisel        12.00      14.500000   \n3431                Credit Suisse First Boston        14.00      25.500000   \n3435              Lehman Brothers/RBC Dominion        16.00      21.000000   \n3439                            Goldman, Sachs        20.00      43.000000   \n3441                                  SG Cowen        14.00      15.000000   \n3445                        CIBC World Markets        19.00      25.000000   \n3454                            Goldman, Sachs        16.00      29.875000   \n3455                Credit Suisse First Boston        15.00      20.000000   \n3456                            Goldman, Sachs        14.00      18.000000   \n3461                                 Chase H&Q        20.00      45.000000   \n3486                               J.P. Morgan        16.00      17.937500   \n3489                            Goldman, Sachs        17.00      40.000000   \n3498                           Lehman Brothers        16.00      18.000000   \n3501                        Robertson Stephens         9.00       9.562500   \n3504                Credit Suisse First Boston         9.00       9.000000   \n3513                               J.P. Morgan        15.00      19.000000   \n3518                           Lehman Brothers        18.00      18.250000   \n3522                        Roberston Stephens         9.00      16.000000   \n3530                      Salomon Smith Barney        16.00      36.000000   \n3538                Credit Suisse First Boston        14.00      14.000000   \n3546                 Deutsche Banc Alex. Brown        11.00      13.000000   \n3561                        Robertson Stephens         8.00       8.468750   \n3572                           Banc of America        14.00      15.750000   \n3595                    Thomas Weisel Partners         8.00       8.515625   \n3596  Credit Suisse First Boston/Merrill Lynch        14.00      15.812500   \n\n      1st Day Close  1st Day % Chg  $ Chg Open  $ Chg Close Star Rating  \\\n3368      14.000000       0.400000    1.500000     4.000000         2.0   \n3369      51.000000       1.550000   20.000000    31.000000         3.0   \n3377      50.500000       1.195652    9.000000    27.500000         4.0   \n3393       9.000000       0.500000    0.250000     3.000000         1.0   \n3397      47.875000       2.191667   18.000000    32.875000         2.0   \n3401      17.625000       0.762500    4.000000     7.625000         3.0   \n3407      47.984375       1.999023   11.375000    31.984375         2.0   \n3413      24.000000       0.500000    2.750000     8.000000         3.0   \n3415      30.500000       1.493868    3.270000    18.270000         3.0   \n3422      12.484375       0.387153    0.031250     3.484375         2.0   \n3424      40.312500       1.687500   16.000000    25.312500         4.0   \n3426      34.000000       1.615385   14.000000    21.000000         3.0   \n3427      21.875000       0.822917    2.500000     9.875000         3.0   \n3431      32.625000       1.330357   11.500000    18.625000         3.0   \n3435      25.375000       0.585938    5.000000     9.375000         2.0   \n3439      54.781250       1.739062   23.000000    34.781250         5.0   \n3441      20.000000       0.428571    1.000000     6.000000         3.0   \n3445      30.875000       0.625000    6.000000    11.875000         3.0   \n3454      39.171875       1.448242   13.875000    23.171875         4.0   \n3455      25.562500       0.704167    5.000000    10.562500         3.0   \n3456      33.062500       1.361607    4.000000    19.062500         4.0   \n3461      56.750000       1.837500   25.000000    36.750000         4.0   \n3486      21.687500       0.355469    1.937500     5.687500         3.0   \n3489      52.750000       2.102941   23.000000    35.750000         3.0   \n3498      27.000000       0.687500    2.000000    11.000000         3.0   \n3501      11.750000       0.305556    0.562500     2.750000         3.0   \n3504      18.000000       1.000000    0.000000     9.000000         3.0   \n3513      25.750000       0.716667    4.000000    10.750000         3.0   \n3518      24.875000       0.381944    0.250000     6.875000         3.0   \n3522      20.765625       1.307292    7.000000    11.765625         2.0   \n3530      46.250000       1.890625   20.000000    30.250000         4.0   \n3538      17.812500       0.272321    0.000000     3.812500         2.0   \n3546      18.312500       0.664773    2.000000     7.312500         3.0   \n3561      11.375000       0.421875    0.468750     3.375000         3.0   \n3572      19.000000       0.357143    1.750000     5.000000         3.0   \n3595      10.500000       0.312500    0.515625     2.500000         2.0   \n3596      20.000000       0.428571    1.812500     6.000000         1.0   \n\n     Performed  Year  Month  Day  Day of Week  1st Day Open to Close % Chg  \\\n3368            2000      5   18            3                     0.217391   \n3369            2000      5   18            3                     0.275000   \n3377            2000      5   25            3                     0.578125   \n3393            2000      6   21            2                     0.440000   \n3397            2000      6   23            4                     0.450758   \n3401            2000      6   27            1                     0.258929   \n3407            2000      6   29            3                     0.752854   \n3413            2000      6   30            4                     0.280000   \n3415            2000      7    7            4                     0.967742   \n3422            2000      7   13            3                     0.382353   \n3424            2000      7   13            3                     0.300403   \n3426            2000      7   14            4                     0.259259   \n3427            2000      7   14            4                     0.508621   \n3431            2000      7   19            2                     0.279412   \n3435            2000      7   21            4                     0.208333   \n3439            2000      7   25            1                     0.273983   \n3441            2000      7   26            2                     0.333333   \n3445            2000      7   27            3                     0.235000   \n3454            2000      7   28            4                     0.311192   \n3455            2000      7   28            4                     0.278125   \n3456            2000      7   28            4                     0.836806   \n3461            2000      8    1            1                     0.261111   \n3486            2000      8    8            1                     0.209059   \n3489            2000      8    8            1                     0.318750   \n3498            2000      8    9            2                     0.500000   \n3501            2000      8   10            3                     0.228758   \n3504            2000      8   10            3                     1.000000   \n3513            2000      8   15            1                     0.355263   \n3518            2000      8   18            4                     0.363014   \n3522            2000      8   23            2                     0.297852   \n3530            2000      9   22            4                     0.284722   \n3538            2000      9   28            3                     0.272321   \n3546            2000      9   29            4                     0.408654   \n3561            2000     10   12            3                     0.343173   \n3572            2000     11    2            3                     0.206349   \n3595            2000     12    7            3                     0.233028   \n3596            2000     12    8            4                     0.264822   \n\n      1st Day Open to Close $ Chg  \n3368                     2.500000  \n3369                    11.000000  \n3377                    18.500000  \n3393                     2.750000  \n3397                    14.875000  \n3401                     3.625000  \n3407                    20.609375  \n3413                     5.250000  \n3415                    15.000000  \n3422                     3.453125  \n3424                     9.312500  \n3426                     7.000000  \n3427                     7.375000  \n3431                     7.125000  \n3435                     4.375000  \n3439                    11.781250  \n3441                     5.000000  \n3445                     5.875000  \n3454                     9.296875  \n3455                     5.562500  \n3456                    15.062500  \n3461                    11.750000  \n3486                     3.750000  \n3489                    12.750000  \n3498                     9.000000  \n3501                     2.187500  \n3504                     9.000000  \n3513                     6.750000  \n3518                     6.625000  \n3522                     4.765625  \n3530                    10.250000  \n3538                     3.812500  \n3546                     5.312500  \n3561                     2.906250  \n3572                     3.250000  \n3595                     1.984375  \n3596                     4.187500  ",
      "text/html": "<div>\n<style scoped>\n    .dataframe tbody tr th:only-of-type {\n        vertical-align: middle;\n    }\n\n    .dataframe tbody tr th {\n        vertical-align: top;\n    }\n\n    .dataframe thead th {\n        text-align: right;\n    }\n</style>\n<table border=\"1\" class=\"dataframe\">\n  <thead>\n    <tr style=\"text-align: right;\">\n      <th></th>\n      <th>Date</th>\n      <th>Company</th>\n      <th>Ticker</th>\n      <th>Managers</th>\n      <th>Offer Price</th>\n      <th>Opening Price</th>\n      <th>1st Day Close</th>\n      <th>1st Day % Chg</th>\n      <th>$ Chg Open</th>\n      <th>$ Chg Close</th>\n      <th>Star Rating</th>\n      <th>Performed</th>\n      <th>Year</th>\n      <th>Month</th>\n      <th>Day</th>\n      <th>Day of Week</th>\n      <th>1st Day Open to Close % Chg</th>\n      <th>1st Day Open to Close $ Chg</th>\n    </tr>\n  </thead>\n  <tbody>\n    <tr>\n      <th>3368</th>\n      <td>2000-05-18</td>\n      <td>iBEAM Broadcasting</td>\n      <td>IBEM</td>\n      <td>Morgan Stanley Dean Witter</td>\n      <td>10.00</td>\n      <td>11.500000</td>\n      <td>14.000000</td>\n      <td>0.400000</td>\n      <td>1.500000</td>\n      <td>4.000000</td>\n      <td>2.0</td>\n      <td></td>\n      <td>2000</td>\n      <td>5</td>\n      <td>18</td>\n      <td>3</td>\n      <td>0.217391</td>\n      <td>2.500000</td>\n    </tr>\n    <tr>\n      <th>3369</th>\n      <td>2000-05-18</td>\n      <td>New Focus</td>\n      <td>NUFO</td>\n      <td>Credit Suisse First Boston</td>\n      <td>20.00</td>\n      <td>40.000000</td>\n      <td>51.000000</td>\n      <td>1.550000</td>\n      <td>20.000000</td>\n      <td>31.000000</td>\n      <td>3.0</td>\n      <td></td>\n      <td>2000</td>\n      <td>5</td>\n      <td>18</td>\n      <td>3</td>\n      <td>0.275000</td>\n      <td>11.000000</td>\n    </tr>\n    <tr>\n      <th>3377</th>\n      <td>2000-05-25</td>\n      <td>Sonus Networks</td>\n      <td>SONS</td>\n      <td>Goldman, Sachs</td>\n      <td>23.00</td>\n      <td>32.000000</td>\n      <td>50.500000</td>\n      <td>1.195652</td>\n      <td>9.000000</td>\n      <td>27.500000</td>\n      <td>4.0</td>\n      <td></td>\n      <td>2000</td>\n      <td>5</td>\n      <td>25</td>\n      <td>3</td>\n      <td>0.578125</td>\n      <td>18.500000</td>\n    </tr>\n    <tr>\n      <th>3393</th>\n      <td>2000-06-21</td>\n      <td>Cepheid</td>\n      <td>CPHD</td>\n      <td>UBS Warburg</td>\n      <td>6.00</td>\n      <td>6.250000</td>\n      <td>9.000000</td>\n      <td>0.500000</td>\n      <td>0.250000</td>\n      <td>3.000000</td>\n      <td>1.0</td>\n      <td></td>\n      <td>2000</td>\n      <td>6</td>\n      <td>21</td>\n      <td>2</td>\n      <td>0.440000</td>\n      <td>2.750000</td>\n    </tr>\n    <tr>\n      <th>3397</th>\n      <td>2000-06-23</td>\n      <td>Accelerated Networks</td>\n      <td>ACCL</td>\n      <td>Credit Suisse First Boston</td>\n      <td>15.00</td>\n      <td>33.000000</td>\n      <td>47.875000</td>\n      <td>2.191667</td>\n      <td>18.000000</td>\n      <td>32.875000</td>\n      <td>2.0</td>\n      <td></td>\n      <td>2000</td>\n      <td>6</td>\n      <td>23</td>\n      <td>4</td>\n      <td>0.450758</td>\n      <td>14.875000</td>\n    </tr>\n    <tr>\n      <th>3401</th>\n      <td>2000-06-27</td>\n      <td>Click Commerce</td>\n      <td>CKCM</td>\n      <td>Morgan Stanley Dean Witter</td>\n      <td>10.00</td>\n      <td>14.000000</td>\n      <td>17.625000</td>\n      <td>0.762500</td>\n      <td>4.000000</td>\n      <td>7.625000</td>\n      <td>3.0</td>\n      <td></td>\n      <td>2000</td>\n      <td>6</td>\n      <td>27</td>\n      <td>1</td>\n      <td>0.258929</td>\n      <td>3.625000</td>\n    </tr>\n    <tr>\n      <th>3407</th>\n      <td>2000-06-29</td>\n      <td>CapStone Turbine</td>\n      <td>CPST</td>\n      <td>Goldman, Sachs</td>\n      <td>16.00</td>\n      <td>27.375000</td>\n      <td>47.984375</td>\n      <td>1.999023</td>\n      <td>11.375000</td>\n      <td>31.984375</td>\n      <td>2.0</td>\n      <td></td>\n      <td>2000</td>\n      <td>6</td>\n      <td>29</td>\n      <td>3</td>\n      <td>0.752854</td>\n      <td>20.609375</td>\n    </tr>\n    <tr>\n      <th>3413</th>\n      <td>2000-06-30</td>\n      <td>Precise Software Soluntions</td>\n      <td>PRSE</td>\n      <td>Merrill Lynch</td>\n      <td>16.00</td>\n      <td>18.750000</td>\n      <td>24.000000</td>\n      <td>0.500000</td>\n      <td>2.750000</td>\n      <td>8.000000</td>\n      <td>3.0</td>\n      <td></td>\n      <td>2000</td>\n      <td>6</td>\n      <td>30</td>\n      <td>4</td>\n      <td>0.280000</td>\n      <td>5.250000</td>\n    </tr>\n    <tr>\n      <th>3415</th>\n      <td>2000-07-07</td>\n      <td>InfoVista SA</td>\n      <td>IVTA</td>\n      <td>Lehman Brothers</td>\n      <td>12.23</td>\n      <td>15.500000</td>\n      <td>30.500000</td>\n      <td>1.493868</td>\n      <td>3.270000</td>\n      <td>18.270000</td>\n      <td>3.0</td>\n      <td></td>\n      <td>2000</td>\n      <td>7</td>\n      <td>7</td>\n      <td>4</td>\n      <td>0.967742</td>\n      <td>15.000000</td>\n    </tr>\n    <tr>\n      <th>3422</th>\n      <td>2000-07-13</td>\n      <td>I-Many</td>\n      <td>IMNY</td>\n      <td>Robertson Stephens</td>\n      <td>9.00</td>\n      <td>9.031250</td>\n      <td>12.484375</td>\n      <td>0.387153</td>\n      <td>0.031250</td>\n      <td>3.484375</td>\n      <td>2.0</td>\n      <td></td>\n      <td>2000</td>\n      <td>7</td>\n      <td>13</td>\n      <td>3</td>\n      <td>0.382353</td>\n      <td>3.453125</td>\n    </tr>\n    <tr>\n      <th>3424</th>\n      <td>2000-07-13</td>\n      <td>Sunrise Telecom</td>\n      <td>SRTI</td>\n      <td>Chase H&amp;Q</td>\n      <td>15.00</td>\n      <td>31.000000</td>\n      <td>40.312500</td>\n      <td>1.687500</td>\n      <td>16.000000</td>\n      <td>25.312500</td>\n      <td>4.0</td>\n      <td></td>\n      <td>2000</td>\n      <td>7</td>\n      <td>13</td>\n      <td>3</td>\n      <td>0.300403</td>\n      <td>9.312500</td>\n    </tr>\n    <tr>\n      <th>3426</th>\n      <td>2000-07-14</td>\n      <td>OmniVision Technologies</td>\n      <td>OVTI</td>\n      <td>Robertson Stephens</td>\n      <td>13.00</td>\n      <td>27.000000</td>\n      <td>34.000000</td>\n      <td>1.615385</td>\n      <td>14.000000</td>\n      <td>21.000000</td>\n      <td>3.0</td>\n      <td></td>\n      <td>2000</td>\n      <td>7</td>\n      <td>14</td>\n      <td>4</td>\n      <td>0.259259</td>\n      <td>7.000000</td>\n    </tr>\n    <tr>\n      <th>3427</th>\n      <td>2000-07-14</td>\n      <td>Pain Therapeutics</td>\n      <td>PTIE</td>\n      <td>Thomas Weisel</td>\n      <td>12.00</td>\n      <td>14.500000</td>\n      <td>21.875000</td>\n      <td>0.822917</td>\n      <td>2.500000</td>\n      <td>9.875000</td>\n      <td>3.0</td>\n      <td></td>\n      <td>2000</td>\n      <td>7</td>\n      <td>14</td>\n      <td>4</td>\n      <td>0.508621</td>\n      <td>7.375000</td>\n    </tr>\n    <tr>\n      <th>3431</th>\n      <td>2000-07-19</td>\n      <td>Support.com</td>\n      <td>SPRT</td>\n      <td>Credit Suisse First Boston</td>\n      <td>14.00</td>\n      <td>25.500000</td>\n      <td>32.625000</td>\n      <td>1.330357</td>\n      <td>11.500000</td>\n      <td>18.625000</td>\n      <td>3.0</td>\n      <td></td>\n      <td>2000</td>\n      <td>7</td>\n      <td>19</td>\n      <td>2</td>\n      <td>0.279412</td>\n      <td>7.125000</td>\n    </tr>\n    <tr>\n      <th>3435</th>\n      <td>2000-07-21</td>\n      <td>SMTC</td>\n      <td>SMTX</td>\n      <td>Lehman Brothers/RBC Dominion</td>\n      <td>16.00</td>\n      <td>21.000000</td>\n      <td>25.375000</td>\n      <td>0.585938</td>\n      <td>5.000000</td>\n      <td>9.375000</td>\n      <td>2.0</td>\n      <td></td>\n      <td>2000</td>\n      <td>7</td>\n      <td>21</td>\n      <td>4</td>\n      <td>0.208333</td>\n      <td>4.375000</td>\n    </tr>\n    <tr>\n      <th>3439</th>\n      <td>2000-07-25</td>\n      <td>Blue Martini Software</td>\n      <td>BLUE</td>\n      <td>Goldman, Sachs</td>\n      <td>20.00</td>\n      <td>43.000000</td>\n      <td>54.781250</td>\n      <td>1.739062</td>\n      <td>23.000000</td>\n      <td>34.781250</td>\n      <td>5.0</td>\n      <td></td>\n      <td>2000</td>\n      <td>7</td>\n      <td>25</td>\n      <td>1</td>\n      <td>0.273983</td>\n      <td>11.781250</td>\n    </tr>\n    <tr>\n      <th>3441</th>\n      <td>2000-07-26</td>\n      <td>Gemini Genomics</td>\n      <td>GMNI</td>\n      <td>SG Cowen</td>\n      <td>14.00</td>\n      <td>15.000000</td>\n      <td>20.000000</td>\n      <td>0.428571</td>\n      <td>1.000000</td>\n      <td>6.000000</td>\n      <td>3.0</td>\n      <td></td>\n      <td>2000</td>\n      <td>7</td>\n      <td>26</td>\n      <td>2</td>\n      <td>0.333333</td>\n      <td>5.000000</td>\n    </tr>\n    <tr>\n      <th>3445</th>\n      <td>2000-07-27</td>\n      <td>Applied Molecular Evolution</td>\n      <td>AMEV</td>\n      <td>CIBC World Markets</td>\n      <td>19.00</td>\n      <td>25.000000</td>\n      <td>30.875000</td>\n      <td>0.625000</td>\n      <td>6.000000</td>\n      <td>11.875000</td>\n      <td>3.0</td>\n      <td></td>\n      <td>2000</td>\n      <td>7</td>\n      <td>27</td>\n      <td>3</td>\n      <td>0.235000</td>\n      <td>5.875000</td>\n    </tr>\n    <tr>\n      <th>3454</th>\n      <td>2000-07-28</td>\n      <td>Illumina</td>\n      <td>ILMN</td>\n      <td>Goldman, Sachs</td>\n      <td>16.00</td>\n      <td>29.875000</td>\n      <td>39.171875</td>\n      <td>1.448242</td>\n      <td>13.875000</td>\n      <td>23.171875</td>\n      <td>4.0</td>\n      <td></td>\n      <td>2000</td>\n      <td>7</td>\n      <td>28</td>\n      <td>4</td>\n      <td>0.311192</td>\n      <td>9.296875</td>\n    </tr>\n    <tr>\n      <th>3455</th>\n      <td>2000-07-28</td>\n      <td>Lexent</td>\n      <td>LXNT</td>\n      <td>Credit Suisse First Boston</td>\n      <td>15.00</td>\n      <td>20.000000</td>\n      <td>25.562500</td>\n      <td>0.704167</td>\n      <td>5.000000</td>\n      <td>10.562500</td>\n      <td>3.0</td>\n      <td></td>\n      <td>2000</td>\n      <td>7</td>\n      <td>28</td>\n      <td>4</td>\n      <td>0.278125</td>\n      <td>5.562500</td>\n    </tr>\n    <tr>\n      <th>3456</th>\n      <td>2000-07-28</td>\n      <td>WebEx</td>\n      <td>WEBX</td>\n      <td>Goldman, Sachs</td>\n      <td>14.00</td>\n      <td>18.000000</td>\n      <td>33.062500</td>\n      <td>1.361607</td>\n      <td>4.000000</td>\n      <td>19.062500</td>\n      <td>4.0</td>\n      <td></td>\n      <td>2000</td>\n      <td>7</td>\n      <td>28</td>\n      <td>4</td>\n      <td>0.836806</td>\n      <td>15.062500</td>\n    </tr>\n    <tr>\n      <th>3461</th>\n      <td>2000-08-01</td>\n      <td>SpeechWorks International</td>\n      <td>SPWX</td>\n      <td>Chase H&amp;Q</td>\n      <td>20.00</td>\n      <td>45.000000</td>\n      <td>56.750000</td>\n      <td>1.837500</td>\n      <td>25.000000</td>\n      <td>36.750000</td>\n      <td>4.0</td>\n      <td></td>\n      <td>2000</td>\n      <td>8</td>\n      <td>1</td>\n      <td>1</td>\n      <td>0.261111</td>\n      <td>11.750000</td>\n    </tr>\n    <tr>\n      <th>3486</th>\n      <td>2000-08-08</td>\n      <td>Medicines (The)</td>\n      <td>MDCO</td>\n      <td>J.P. Morgan</td>\n      <td>16.00</td>\n      <td>17.937500</td>\n      <td>21.687500</td>\n      <td>0.355469</td>\n      <td>1.937500</td>\n      <td>5.687500</td>\n      <td>3.0</td>\n      <td></td>\n      <td>2000</td>\n      <td>8</td>\n      <td>8</td>\n      <td>1</td>\n      <td>0.209059</td>\n      <td>3.750000</td>\n    </tr>\n    <tr>\n      <th>3489</th>\n      <td>2000-08-08</td>\n      <td>Active Power</td>\n      <td>ACPW</td>\n      <td>Goldman, Sachs</td>\n      <td>17.00</td>\n      <td>40.000000</td>\n      <td>52.750000</td>\n      <td>2.102941</td>\n      <td>23.000000</td>\n      <td>35.750000</td>\n      <td>3.0</td>\n      <td></td>\n      <td>2000</td>\n      <td>8</td>\n      <td>8</td>\n      <td>1</td>\n      <td>0.318750</td>\n      <td>12.750000</td>\n    </tr>\n    <tr>\n      <th>3498</th>\n      <td>2000-08-09</td>\n      <td>H Power</td>\n      <td>HPOW</td>\n      <td>Lehman Brothers</td>\n      <td>16.00</td>\n      <td>18.000000</td>\n      <td>27.000000</td>\n      <td>0.687500</td>\n      <td>2.000000</td>\n      <td>11.000000</td>\n      <td>3.0</td>\n      <td></td>\n      <td>2000</td>\n      <td>8</td>\n      <td>9</td>\n      <td>2</td>\n      <td>0.500000</td>\n      <td>9.000000</td>\n    </tr>\n    <tr>\n      <th>3501</th>\n      <td>2000-08-10</td>\n      <td>Esperion Theraputics</td>\n      <td>ESPR</td>\n      <td>Robertson Stephens</td>\n      <td>9.00</td>\n      <td>9.562500</td>\n      <td>11.750000</td>\n      <td>0.305556</td>\n      <td>0.562500</td>\n      <td>2.750000</td>\n      <td>3.0</td>\n      <td></td>\n      <td>2000</td>\n      <td>8</td>\n      <td>10</td>\n      <td>3</td>\n      <td>0.228758</td>\n      <td>2.187500</td>\n    </tr>\n    <tr>\n      <th>3504</th>\n      <td>2000-08-10</td>\n      <td>Evolve Software</td>\n      <td>EVLV</td>\n      <td>Credit Suisse First Boston</td>\n      <td>9.00</td>\n      <td>9.000000</td>\n      <td>18.000000</td>\n      <td>1.000000</td>\n      <td>0.000000</td>\n      <td>9.000000</td>\n      <td>3.0</td>\n      <td></td>\n      <td>2000</td>\n      <td>8</td>\n      <td>10</td>\n      <td>3</td>\n      <td>1.000000</td>\n      <td>9.000000</td>\n    </tr>\n    <tr>\n      <th>3513</th>\n      <td>2000-08-15</td>\n      <td>Dyax</td>\n      <td>DYAX</td>\n      <td>J.P. Morgan</td>\n      <td>15.00</td>\n      <td>19.000000</td>\n      <td>25.750000</td>\n      <td>0.716667</td>\n      <td>4.000000</td>\n      <td>10.750000</td>\n      <td>3.0</td>\n      <td></td>\n      <td>2000</td>\n      <td>8</td>\n      <td>15</td>\n      <td>1</td>\n      <td>0.355263</td>\n      <td>6.750000</td>\n    </tr>\n    <tr>\n      <th>3518</th>\n      <td>2000-08-18</td>\n      <td>Integrated Telecom Express</td>\n      <td>ITXI</td>\n      <td>Lehman Brothers</td>\n      <td>18.00</td>\n      <td>18.250000</td>\n      <td>24.875000</td>\n      <td>0.381944</td>\n      <td>0.250000</td>\n      <td>6.875000</td>\n      <td>3.0</td>\n      <td></td>\n      <td>2000</td>\n      <td>8</td>\n      <td>18</td>\n      <td>4</td>\n      <td>0.363014</td>\n      <td>6.625000</td>\n    </tr>\n    <tr>\n      <th>3522</th>\n      <td>2000-08-23</td>\n      <td>02 Micro</td>\n      <td>OIIM</td>\n      <td>Roberston Stephens</td>\n      <td>9.00</td>\n      <td>16.000000</td>\n      <td>20.765625</td>\n      <td>1.307292</td>\n      <td>7.000000</td>\n      <td>11.765625</td>\n      <td>2.0</td>\n      <td></td>\n      <td>2000</td>\n      <td>8</td>\n      <td>23</td>\n      <td>2</td>\n      <td>0.297852</td>\n      <td>4.765625</td>\n    </tr>\n    <tr>\n      <th>3530</th>\n      <td>2000-09-22</td>\n      <td>INRANGE Technologies</td>\n      <td>INRG</td>\n      <td>Salomon Smith Barney</td>\n      <td>16.00</td>\n      <td>36.000000</td>\n      <td>46.250000</td>\n      <td>1.890625</td>\n      <td>20.000000</td>\n      <td>30.250000</td>\n      <td>4.0</td>\n      <td></td>\n      <td>2000</td>\n      <td>9</td>\n      <td>22</td>\n      <td>4</td>\n      <td>0.284722</td>\n      <td>10.250000</td>\n    </tr>\n    <tr>\n      <th>3538</th>\n      <td>2000-09-28</td>\n      <td>University of Phoenix Online</td>\n      <td>UOPX</td>\n      <td>Credit Suisse First Boston</td>\n      <td>14.00</td>\n      <td>14.000000</td>\n      <td>17.812500</td>\n      <td>0.272321</td>\n      <td>0.000000</td>\n      <td>3.812500</td>\n      <td>2.0</td>\n      <td></td>\n      <td>2000</td>\n      <td>9</td>\n      <td>28</td>\n      <td>3</td>\n      <td>0.272321</td>\n      <td>3.812500</td>\n    </tr>\n    <tr>\n      <th>3546</th>\n      <td>2000-09-29</td>\n      <td>Docent</td>\n      <td>DCNT</td>\n      <td>Deutsche Banc Alex. Brown</td>\n      <td>11.00</td>\n      <td>13.000000</td>\n      <td>18.312500</td>\n      <td>0.664773</td>\n      <td>2.000000</td>\n      <td>7.312500</td>\n      <td>3.0</td>\n      <td></td>\n      <td>2000</td>\n      <td>9</td>\n      <td>29</td>\n      <td>4</td>\n      <td>0.408654</td>\n      <td>5.312500</td>\n    </tr>\n    <tr>\n      <th>3561</th>\n      <td>2000-10-12</td>\n      <td>Synplicity</td>\n      <td>SYNP</td>\n      <td>Robertson Stephens</td>\n      <td>8.00</td>\n      <td>8.468750</td>\n      <td>11.375000</td>\n      <td>0.421875</td>\n      <td>0.468750</td>\n      <td>3.375000</td>\n      <td>3.0</td>\n      <td></td>\n      <td>2000</td>\n      <td>10</td>\n      <td>12</td>\n      <td>3</td>\n      <td>0.343173</td>\n      <td>2.906250</td>\n    </tr>\n    <tr>\n      <th>3572</th>\n      <td>2000-11-02</td>\n      <td>Evergreen Solar</td>\n      <td>ESLR</td>\n      <td>Banc of America</td>\n      <td>14.00</td>\n      <td>15.750000</td>\n      <td>19.000000</td>\n      <td>0.357143</td>\n      <td>1.750000</td>\n      <td>5.000000</td>\n      <td>3.0</td>\n      <td></td>\n      <td>2000</td>\n      <td>11</td>\n      <td>2</td>\n      <td>3</td>\n      <td>0.206349</td>\n      <td>3.250000</td>\n    </tr>\n    <tr>\n      <th>3595</th>\n      <td>2000-12-07</td>\n      <td>Harvard Biosceince</td>\n      <td>HBIO</td>\n      <td>Thomas Weisel Partners</td>\n      <td>8.00</td>\n      <td>8.515625</td>\n      <td>10.500000</td>\n      <td>0.312500</td>\n      <td>0.515625</td>\n      <td>2.500000</td>\n      <td>2.0</td>\n      <td></td>\n      <td>2000</td>\n      <td>12</td>\n      <td>7</td>\n      <td>3</td>\n      <td>0.233028</td>\n      <td>1.984375</td>\n    </tr>\n    <tr>\n      <th>3596</th>\n      <td>2000-12-08</td>\n      <td>Garmin</td>\n      <td>GRMN</td>\n      <td>Credit Suisse First Boston/Merrill Lynch</td>\n      <td>14.00</td>\n      <td>15.812500</td>\n      <td>20.000000</td>\n      <td>0.428571</td>\n      <td>1.812500</td>\n      <td>6.000000</td>\n      <td>1.0</td>\n      <td></td>\n      <td>2000</td>\n      <td>12</td>\n      <td>8</td>\n      <td>4</td>\n      <td>0.264822</td>\n      <td>4.187500</td>\n    </tr>\n  </tbody>\n</table>\n</div>"
     },
     "execution_count": 30,
     "metadata": {},
     "output_type": "execute_result"
    }
   ],
   "source": [
    "df[(df['Year']==2000)&(df['1st Day Open to Close % Chg']>=.2)]"
   ]
  },
  {
   "cell_type": "markdown",
   "metadata": {
    "papermill": {
     "duration": 0.078527,
     "end_time": "2022-01-15T11:28:08.824078",
     "exception": false,
     "start_time": "2022-01-15T11:28:08.745551",
     "status": "completed"
    },
    "tags": []
   },
   "source": [
    "### Adding new features:  `'Opening Gap % Chg' and 'Opening Gap $ Chg'` \n",
    "* One  informative measure is the opening gap, which is the difference between the offer price and the opening price of the issue\n",
    "* Add   columns called  `'Opening Gap % Chg'` and `'Opening Gap $ Chg'`"
   ]
  },
  {
   "cell_type": "code",
   "execution_count": 31,
   "metadata": {
    "execution": {
     "iopub.execute_input": "2022-01-15T11:28:08.986319Z",
     "iopub.status.busy": "2022-01-15T11:28:08.985232Z",
     "iopub.status.idle": "2022-01-15T11:28:09.012251Z",
     "shell.execute_reply": "2022-01-15T11:28:09.011683Z"
    },
    "papermill": {
     "duration": 0.108002,
     "end_time": "2022-01-15T11:28:09.012381",
     "exception": false,
     "start_time": "2022-01-15T11:28:08.904379",
     "status": "completed"
    },
    "tags": []
   },
   "outputs": [
    {
     "data": {
      "text/plain": "        Date                      Company Ticker  \\\n0 2020-01-17                       I-Mab    IMAB   \n1 2020-01-17                       LIZHI    LIZI   \n2 2020-01-17  Phoenix Tree Holdings Ltd.     DNK   \n3 2020-01-17          Velocity Financial     VEL   \n4 2020-01-24           Gores Holdings IV   GHIVU   \n\n                                            Managers  Offer Price  \\\n0                                    Jefferies/ CICC         14.0   \n1                           Credit Suisse/ Citigroup         11.0   \n2              Citigroup/ Credit Suisse/ J.P. Morgan         13.5   \n3  Wells Fargo Securities/ Citigroup/ JMP Securities         13.0   \n4                           Deutsche Bank Securities         10.0   \n\n   Opening Price  1st Day Close  1st Day % Chg  $ Chg Open  $ Chg Close  \\\n0          14.75          12.75      -0.089286        0.75        -1.25   \n1          11.03          11.63       0.057273        0.03         0.63   \n2          13.50          13.50       0.000000        0.00         0.00   \n3          13.85          13.51       0.039231        0.85         0.51   \n4          10.52          10.45       0.045000        0.52         0.45   \n\n  Star Rating Performed  Year  Month  Day  Day of Week  \\\n0         2.0            2020      1   17            4   \n1         1.0            2020      1   17            4   \n2         1.0            2020      1   17            4   \n3         1.0            2020      1   17            4   \n4         1.0            2020      1   24            4   \n\n   1st Day Open to Close % Chg  1st Day Open to Close $ Chg  Opening Gap % Chg  \n0                    -0.135593                        -2.00           0.053571  \n1                     0.054397                         0.60           0.002727  \n2                     0.000000                         0.00           0.000000  \n3                    -0.024549                        -0.34           0.065385  \n4                    -0.006654                        -0.07           0.052000  ",
      "text/html": "<div>\n<style scoped>\n    .dataframe tbody tr th:only-of-type {\n        vertical-align: middle;\n    }\n\n    .dataframe tbody tr th {\n        vertical-align: top;\n    }\n\n    .dataframe thead th {\n        text-align: right;\n    }\n</style>\n<table border=\"1\" class=\"dataframe\">\n  <thead>\n    <tr style=\"text-align: right;\">\n      <th></th>\n      <th>Date</th>\n      <th>Company</th>\n      <th>Ticker</th>\n      <th>Managers</th>\n      <th>Offer Price</th>\n      <th>Opening Price</th>\n      <th>1st Day Close</th>\n      <th>1st Day % Chg</th>\n      <th>$ Chg Open</th>\n      <th>$ Chg Close</th>\n      <th>Star Rating</th>\n      <th>Performed</th>\n      <th>Year</th>\n      <th>Month</th>\n      <th>Day</th>\n      <th>Day of Week</th>\n      <th>1st Day Open to Close % Chg</th>\n      <th>1st Day Open to Close $ Chg</th>\n      <th>Opening Gap % Chg</th>\n    </tr>\n  </thead>\n  <tbody>\n    <tr>\n      <th>0</th>\n      <td>2020-01-17</td>\n      <td>I-Mab</td>\n      <td>IMAB</td>\n      <td>Jefferies/ CICC</td>\n      <td>14.0</td>\n      <td>14.75</td>\n      <td>12.75</td>\n      <td>-0.089286</td>\n      <td>0.75</td>\n      <td>-1.25</td>\n      <td>2.0</td>\n      <td></td>\n      <td>2020</td>\n      <td>1</td>\n      <td>17</td>\n      <td>4</td>\n      <td>-0.135593</td>\n      <td>-2.00</td>\n      <td>0.053571</td>\n    </tr>\n    <tr>\n      <th>1</th>\n      <td>2020-01-17</td>\n      <td>LIZHI</td>\n      <td>LIZI</td>\n      <td>Credit Suisse/ Citigroup</td>\n      <td>11.0</td>\n      <td>11.03</td>\n      <td>11.63</td>\n      <td>0.057273</td>\n      <td>0.03</td>\n      <td>0.63</td>\n      <td>1.0</td>\n      <td></td>\n      <td>2020</td>\n      <td>1</td>\n      <td>17</td>\n      <td>4</td>\n      <td>0.054397</td>\n      <td>0.60</td>\n      <td>0.002727</td>\n    </tr>\n    <tr>\n      <th>2</th>\n      <td>2020-01-17</td>\n      <td>Phoenix Tree Holdings Ltd.</td>\n      <td>DNK</td>\n      <td>Citigroup/ Credit Suisse/ J.P. Morgan</td>\n      <td>13.5</td>\n      <td>13.50</td>\n      <td>13.50</td>\n      <td>0.000000</td>\n      <td>0.00</td>\n      <td>0.00</td>\n      <td>1.0</td>\n      <td></td>\n      <td>2020</td>\n      <td>1</td>\n      <td>17</td>\n      <td>4</td>\n      <td>0.000000</td>\n      <td>0.00</td>\n      <td>0.000000</td>\n    </tr>\n    <tr>\n      <th>3</th>\n      <td>2020-01-17</td>\n      <td>Velocity Financial</td>\n      <td>VEL</td>\n      <td>Wells Fargo Securities/ Citigroup/ JMP Securities</td>\n      <td>13.0</td>\n      <td>13.85</td>\n      <td>13.51</td>\n      <td>0.039231</td>\n      <td>0.85</td>\n      <td>0.51</td>\n      <td>1.0</td>\n      <td></td>\n      <td>2020</td>\n      <td>1</td>\n      <td>17</td>\n      <td>4</td>\n      <td>-0.024549</td>\n      <td>-0.34</td>\n      <td>0.065385</td>\n    </tr>\n    <tr>\n      <th>4</th>\n      <td>2020-01-24</td>\n      <td>Gores Holdings IV</td>\n      <td>GHIVU</td>\n      <td>Deutsche Bank Securities</td>\n      <td>10.0</td>\n      <td>10.52</td>\n      <td>10.45</td>\n      <td>0.045000</td>\n      <td>0.52</td>\n      <td>0.45</td>\n      <td>1.0</td>\n      <td></td>\n      <td>2020</td>\n      <td>1</td>\n      <td>24</td>\n      <td>4</td>\n      <td>-0.006654</td>\n      <td>-0.07</td>\n      <td>0.052000</td>\n    </tr>\n  </tbody>\n</table>\n</div>"
     },
     "execution_count": 31,
     "metadata": {},
     "output_type": "execute_result"
    }
   ],
   "source": [
    "df['Opening Gap % Chg'] = (df['Opening Price'] - df['Offer Price'])/df['Offer Price']\n",
    "df.head(5)"
   ]
  },
  {
   "cell_type": "code",
   "execution_count": 32,
   "metadata": {
    "execution": {
     "iopub.execute_input": "2022-01-15T11:28:09.176883Z",
     "iopub.status.busy": "2022-01-15T11:28:09.176170Z",
     "iopub.status.idle": "2022-01-15T11:28:09.199718Z",
     "shell.execute_reply": "2022-01-15T11:28:09.200210Z"
    },
    "papermill": {
     "duration": 0.108289,
     "end_time": "2022-01-15T11:28:09.200382",
     "exception": false,
     "start_time": "2022-01-15T11:28:09.092093",
     "status": "completed"
    },
    "tags": []
   },
   "outputs": [
    {
     "data": {
      "text/plain": "        Date                      Company Ticker  \\\n0 2020-01-17                       I-Mab    IMAB   \n1 2020-01-17                       LIZHI    LIZI   \n2 2020-01-17  Phoenix Tree Holdings Ltd.     DNK   \n3 2020-01-17          Velocity Financial     VEL   \n4 2020-01-24           Gores Holdings IV   GHIVU   \n\n                                            Managers  Offer Price  \\\n0                                    Jefferies/ CICC         14.0   \n1                           Credit Suisse/ Citigroup         11.0   \n2              Citigroup/ Credit Suisse/ J.P. Morgan         13.5   \n3  Wells Fargo Securities/ Citigroup/ JMP Securities         13.0   \n4                           Deutsche Bank Securities         10.0   \n\n   Opening Price  1st Day Close  1st Day % Chg  $ Chg Open  $ Chg Close  \\\n0          14.75          12.75      -0.089286        0.75        -1.25   \n1          11.03          11.63       0.057273        0.03         0.63   \n2          13.50          13.50       0.000000        0.00         0.00   \n3          13.85          13.51       0.039231        0.85         0.51   \n4          10.52          10.45       0.045000        0.52         0.45   \n\n  Star Rating Performed  Year  Month  Day  Day of Week  \\\n0         2.0            2020      1   17            4   \n1         1.0            2020      1   17            4   \n2         1.0            2020      1   17            4   \n3         1.0            2020      1   17            4   \n4         1.0            2020      1   24            4   \n\n   1st Day Open to Close % Chg  1st Day Open to Close $ Chg  \\\n0                    -0.135593                        -2.00   \n1                     0.054397                         0.60   \n2                     0.000000                         0.00   \n3                    -0.024549                        -0.34   \n4                    -0.006654                        -0.07   \n\n   Opening Gap % Chg  Opening Gap $ Chg  \n0           0.053571               0.75  \n1           0.002727               0.03  \n2           0.000000               0.00  \n3           0.065385               0.85  \n4           0.052000               0.52  ",
      "text/html": "<div>\n<style scoped>\n    .dataframe tbody tr th:only-of-type {\n        vertical-align: middle;\n    }\n\n    .dataframe tbody tr th {\n        vertical-align: top;\n    }\n\n    .dataframe thead th {\n        text-align: right;\n    }\n</style>\n<table border=\"1\" class=\"dataframe\">\n  <thead>\n    <tr style=\"text-align: right;\">\n      <th></th>\n      <th>Date</th>\n      <th>Company</th>\n      <th>Ticker</th>\n      <th>Managers</th>\n      <th>Offer Price</th>\n      <th>Opening Price</th>\n      <th>1st Day Close</th>\n      <th>1st Day % Chg</th>\n      <th>$ Chg Open</th>\n      <th>$ Chg Close</th>\n      <th>Star Rating</th>\n      <th>Performed</th>\n      <th>Year</th>\n      <th>Month</th>\n      <th>Day</th>\n      <th>Day of Week</th>\n      <th>1st Day Open to Close % Chg</th>\n      <th>1st Day Open to Close $ Chg</th>\n      <th>Opening Gap % Chg</th>\n      <th>Opening Gap $ Chg</th>\n    </tr>\n  </thead>\n  <tbody>\n    <tr>\n      <th>0</th>\n      <td>2020-01-17</td>\n      <td>I-Mab</td>\n      <td>IMAB</td>\n      <td>Jefferies/ CICC</td>\n      <td>14.0</td>\n      <td>14.75</td>\n      <td>12.75</td>\n      <td>-0.089286</td>\n      <td>0.75</td>\n      <td>-1.25</td>\n      <td>2.0</td>\n      <td></td>\n      <td>2020</td>\n      <td>1</td>\n      <td>17</td>\n      <td>4</td>\n      <td>-0.135593</td>\n      <td>-2.00</td>\n      <td>0.053571</td>\n      <td>0.75</td>\n    </tr>\n    <tr>\n      <th>1</th>\n      <td>2020-01-17</td>\n      <td>LIZHI</td>\n      <td>LIZI</td>\n      <td>Credit Suisse/ Citigroup</td>\n      <td>11.0</td>\n      <td>11.03</td>\n      <td>11.63</td>\n      <td>0.057273</td>\n      <td>0.03</td>\n      <td>0.63</td>\n      <td>1.0</td>\n      <td></td>\n      <td>2020</td>\n      <td>1</td>\n      <td>17</td>\n      <td>4</td>\n      <td>0.054397</td>\n      <td>0.60</td>\n      <td>0.002727</td>\n      <td>0.03</td>\n    </tr>\n    <tr>\n      <th>2</th>\n      <td>2020-01-17</td>\n      <td>Phoenix Tree Holdings Ltd.</td>\n      <td>DNK</td>\n      <td>Citigroup/ Credit Suisse/ J.P. Morgan</td>\n      <td>13.5</td>\n      <td>13.50</td>\n      <td>13.50</td>\n      <td>0.000000</td>\n      <td>0.00</td>\n      <td>0.00</td>\n      <td>1.0</td>\n      <td></td>\n      <td>2020</td>\n      <td>1</td>\n      <td>17</td>\n      <td>4</td>\n      <td>0.000000</td>\n      <td>0.00</td>\n      <td>0.000000</td>\n      <td>0.00</td>\n    </tr>\n    <tr>\n      <th>3</th>\n      <td>2020-01-17</td>\n      <td>Velocity Financial</td>\n      <td>VEL</td>\n      <td>Wells Fargo Securities/ Citigroup/ JMP Securities</td>\n      <td>13.0</td>\n      <td>13.85</td>\n      <td>13.51</td>\n      <td>0.039231</td>\n      <td>0.85</td>\n      <td>0.51</td>\n      <td>1.0</td>\n      <td></td>\n      <td>2020</td>\n      <td>1</td>\n      <td>17</td>\n      <td>4</td>\n      <td>-0.024549</td>\n      <td>-0.34</td>\n      <td>0.065385</td>\n      <td>0.85</td>\n    </tr>\n    <tr>\n      <th>4</th>\n      <td>2020-01-24</td>\n      <td>Gores Holdings IV</td>\n      <td>GHIVU</td>\n      <td>Deutsche Bank Securities</td>\n      <td>10.0</td>\n      <td>10.52</td>\n      <td>10.45</td>\n      <td>0.045000</td>\n      <td>0.52</td>\n      <td>0.45</td>\n      <td>1.0</td>\n      <td></td>\n      <td>2020</td>\n      <td>1</td>\n      <td>24</td>\n      <td>4</td>\n      <td>-0.006654</td>\n      <td>-0.07</td>\n      <td>0.052000</td>\n      <td>0.52</td>\n    </tr>\n  </tbody>\n</table>\n</div>"
     },
     "execution_count": 32,
     "metadata": {},
     "output_type": "execute_result"
    }
   ],
   "source": [
    "df['Opening Gap $ Chg'] = (df['Opening Price'] - df['Offer Price'])\n",
    "df.head(5)"
   ]
  },
  {
   "cell_type": "markdown",
   "metadata": {
    "papermill": {
     "duration": 0.080528,
     "end_time": "2022-01-15T11:28:09.361937",
     "exception": false,
     "start_time": "2022-01-15T11:28:09.281409",
     "status": "completed"
    },
    "tags": []
   },
   "source": [
    "### Adding features to influence the performance of an IPO:  `'Mgr Count'` \n",
    "* Perhaps having more banks (managers) involved leads to better marketing of the issue?\n",
    "* Add one column called`'Mgr Count'`\n",
    "*  `apply` function:  Apply a function along an axis of the DataFrame, return Series or DataFrame"
   ]
  },
  {
   "cell_type": "code",
   "execution_count": 33,
   "metadata": {
    "execution": {
     "iopub.execute_input": "2022-01-15T11:28:09.526098Z",
     "iopub.status.busy": "2022-01-15T11:28:09.525301Z",
     "iopub.status.idle": "2022-01-15T11:28:09.530308Z",
     "shell.execute_reply": "2022-01-15T11:28:09.530907Z"
    },
    "papermill": {
     "duration": 0.088455,
     "end_time": "2022-01-15T11:28:09.531066",
     "exception": false,
     "start_time": "2022-01-15T11:28:09.442611",
     "status": "completed"
    },
    "tags": []
   },
   "outputs": [],
   "source": [
    "def get_mgr_count(x):\n",
    "    return len(x.split('/'))"
   ]
  },
  {
   "cell_type": "code",
   "execution_count": 34,
   "metadata": {
    "execution": {
     "iopub.execute_input": "2022-01-15T11:28:09.727776Z",
     "iopub.status.busy": "2022-01-15T11:28:09.726672Z",
     "iopub.status.idle": "2022-01-15T11:28:09.731125Z",
     "shell.execute_reply": "2022-01-15T11:28:09.731803Z"
    },
    "papermill": {
     "duration": 0.120781,
     "end_time": "2022-01-15T11:28:09.731966",
     "exception": false,
     "start_time": "2022-01-15T11:28:09.611185",
     "status": "completed"
    },
    "tags": []
   },
   "outputs": [
    {
     "data": {
      "text/plain": "        Date                      Company Ticker  \\\n0 2020-01-17                       I-Mab    IMAB   \n1 2020-01-17                       LIZHI    LIZI   \n2 2020-01-17  Phoenix Tree Holdings Ltd.     DNK   \n3 2020-01-17          Velocity Financial     VEL   \n4 2020-01-24           Gores Holdings IV   GHIVU   \n\n                                            Managers  Offer Price  \\\n0                                    Jefferies/ CICC         14.0   \n1                           Credit Suisse/ Citigroup         11.0   \n2              Citigroup/ Credit Suisse/ J.P. Morgan         13.5   \n3  Wells Fargo Securities/ Citigroup/ JMP Securities         13.0   \n4                           Deutsche Bank Securities         10.0   \n\n   Opening Price  1st Day Close  1st Day % Chg  $ Chg Open  $ Chg Close  ...  \\\n0          14.75          12.75      -0.089286        0.75        -1.25  ...   \n1          11.03          11.63       0.057273        0.03         0.63  ...   \n2          13.50          13.50       0.000000        0.00         0.00  ...   \n3          13.85          13.51       0.039231        0.85         0.51  ...   \n4          10.52          10.45       0.045000        0.52         0.45  ...   \n\n  Performed  Year  Month  Day  Day of Week  1st Day Open to Close % Chg  \\\n0            2020      1   17            4                    -0.135593   \n1            2020      1   17            4                     0.054397   \n2            2020      1   17            4                     0.000000   \n3            2020      1   17            4                    -0.024549   \n4            2020      1   24            4                    -0.006654   \n\n   1st Day Open to Close $ Chg  Opening Gap % Chg  Opening Gap $ Chg  \\\n0                        -2.00           0.053571               0.75   \n1                         0.60           0.002727               0.03   \n2                         0.00           0.000000               0.00   \n3                        -0.34           0.065385               0.85   \n4                        -0.07           0.052000               0.52   \n\n   Mgr Count  \n0          2  \n1          2  \n2          3  \n3          3  \n4          1  \n\n[5 rows x 21 columns]",
      "text/html": "<div>\n<style scoped>\n    .dataframe tbody tr th:only-of-type {\n        vertical-align: middle;\n    }\n\n    .dataframe tbody tr th {\n        vertical-align: top;\n    }\n\n    .dataframe thead th {\n        text-align: right;\n    }\n</style>\n<table border=\"1\" class=\"dataframe\">\n  <thead>\n    <tr style=\"text-align: right;\">\n      <th></th>\n      <th>Date</th>\n      <th>Company</th>\n      <th>Ticker</th>\n      <th>Managers</th>\n      <th>Offer Price</th>\n      <th>Opening Price</th>\n      <th>1st Day Close</th>\n      <th>1st Day % Chg</th>\n      <th>$ Chg Open</th>\n      <th>$ Chg Close</th>\n      <th>...</th>\n      <th>Performed</th>\n      <th>Year</th>\n      <th>Month</th>\n      <th>Day</th>\n      <th>Day of Week</th>\n      <th>1st Day Open to Close % Chg</th>\n      <th>1st Day Open to Close $ Chg</th>\n      <th>Opening Gap % Chg</th>\n      <th>Opening Gap $ Chg</th>\n      <th>Mgr Count</th>\n    </tr>\n  </thead>\n  <tbody>\n    <tr>\n      <th>0</th>\n      <td>2020-01-17</td>\n      <td>I-Mab</td>\n      <td>IMAB</td>\n      <td>Jefferies/ CICC</td>\n      <td>14.0</td>\n      <td>14.75</td>\n      <td>12.75</td>\n      <td>-0.089286</td>\n      <td>0.75</td>\n      <td>-1.25</td>\n      <td>...</td>\n      <td></td>\n      <td>2020</td>\n      <td>1</td>\n      <td>17</td>\n      <td>4</td>\n      <td>-0.135593</td>\n      <td>-2.00</td>\n      <td>0.053571</td>\n      <td>0.75</td>\n      <td>2</td>\n    </tr>\n    <tr>\n      <th>1</th>\n      <td>2020-01-17</td>\n      <td>LIZHI</td>\n      <td>LIZI</td>\n      <td>Credit Suisse/ Citigroup</td>\n      <td>11.0</td>\n      <td>11.03</td>\n      <td>11.63</td>\n      <td>0.057273</td>\n      <td>0.03</td>\n      <td>0.63</td>\n      <td>...</td>\n      <td></td>\n      <td>2020</td>\n      <td>1</td>\n      <td>17</td>\n      <td>4</td>\n      <td>0.054397</td>\n      <td>0.60</td>\n      <td>0.002727</td>\n      <td>0.03</td>\n      <td>2</td>\n    </tr>\n    <tr>\n      <th>2</th>\n      <td>2020-01-17</td>\n      <td>Phoenix Tree Holdings Ltd.</td>\n      <td>DNK</td>\n      <td>Citigroup/ Credit Suisse/ J.P. Morgan</td>\n      <td>13.5</td>\n      <td>13.50</td>\n      <td>13.50</td>\n      <td>0.000000</td>\n      <td>0.00</td>\n      <td>0.00</td>\n      <td>...</td>\n      <td></td>\n      <td>2020</td>\n      <td>1</td>\n      <td>17</td>\n      <td>4</td>\n      <td>0.000000</td>\n      <td>0.00</td>\n      <td>0.000000</td>\n      <td>0.00</td>\n      <td>3</td>\n    </tr>\n    <tr>\n      <th>3</th>\n      <td>2020-01-17</td>\n      <td>Velocity Financial</td>\n      <td>VEL</td>\n      <td>Wells Fargo Securities/ Citigroup/ JMP Securities</td>\n      <td>13.0</td>\n      <td>13.85</td>\n      <td>13.51</td>\n      <td>0.039231</td>\n      <td>0.85</td>\n      <td>0.51</td>\n      <td>...</td>\n      <td></td>\n      <td>2020</td>\n      <td>1</td>\n      <td>17</td>\n      <td>4</td>\n      <td>-0.024549</td>\n      <td>-0.34</td>\n      <td>0.065385</td>\n      <td>0.85</td>\n      <td>3</td>\n    </tr>\n    <tr>\n      <th>4</th>\n      <td>2020-01-24</td>\n      <td>Gores Holdings IV</td>\n      <td>GHIVU</td>\n      <td>Deutsche Bank Securities</td>\n      <td>10.0</td>\n      <td>10.52</td>\n      <td>10.45</td>\n      <td>0.045000</td>\n      <td>0.52</td>\n      <td>0.45</td>\n      <td>...</td>\n      <td></td>\n      <td>2020</td>\n      <td>1</td>\n      <td>24</td>\n      <td>4</td>\n      <td>-0.006654</td>\n      <td>-0.07</td>\n      <td>0.052000</td>\n      <td>0.52</td>\n      <td>1</td>\n    </tr>\n  </tbody>\n</table>\n<p>5 rows × 21 columns</p>\n</div>"
     },
     "execution_count": 34,
     "metadata": {},
     "output_type": "execute_result"
    }
   ],
   "source": [
    "df['Mgr Count'] = df['Managers'].apply(get_mgr_count)\n",
    "df.head(5)"
   ]
  },
  {
   "cell_type": "markdown",
   "metadata": {
    "papermill": {
     "duration": 0.084403,
     "end_time": "2022-01-15T11:28:09.897048",
     "exception": false,
     "start_time": "2022-01-15T11:28:09.812645",
     "status": "completed"
    },
    "tags": []
   },
   "source": [
    "### Count `'Mgr Count'`  \n",
    "* Group `'1st Day Open to Close % Chg'` by `'Mgr Count'`\n",
    "* `to_frame()`: Convert Series to DataFrame."
   ]
  },
  {
   "cell_type": "code",
   "execution_count": 35,
   "metadata": {
    "execution": {
     "iopub.execute_input": "2022-01-15T11:28:10.067763Z",
     "iopub.status.busy": "2022-01-15T11:28:10.067041Z",
     "iopub.status.idle": "2022-01-15T11:28:10.075765Z",
     "shell.execute_reply": "2022-01-15T11:28:10.076256Z"
    },
    "papermill": {
     "duration": 0.097264,
     "end_time": "2022-01-15T11:28:10.076414",
     "exception": false,
     "start_time": "2022-01-15T11:28:09.979150",
     "status": "completed"
    },
    "tags": []
   },
   "outputs": [
    {
     "data": {
      "text/plain": "           1st Day Open to Close % Chg\nMgr Count                             \n1                                 1117\n2                                 1418\n3                                  684\n4                                  234\n5                                   69\n6                                   36\n7                                   12\n8                                   11\n9                                    8\n10                                   6\n11                                   2\n12                                   1\n13                                   3\n15                                   1",
      "text/html": "<div>\n<style scoped>\n    .dataframe tbody tr th:only-of-type {\n        vertical-align: middle;\n    }\n\n    .dataframe tbody tr th {\n        vertical-align: top;\n    }\n\n    .dataframe thead th {\n        text-align: right;\n    }\n</style>\n<table border=\"1\" class=\"dataframe\">\n  <thead>\n    <tr style=\"text-align: right;\">\n      <th></th>\n      <th>1st Day Open to Close % Chg</th>\n    </tr>\n    <tr>\n      <th>Mgr Count</th>\n      <th></th>\n    </tr>\n  </thead>\n  <tbody>\n    <tr>\n      <th>1</th>\n      <td>1117</td>\n    </tr>\n    <tr>\n      <th>2</th>\n      <td>1418</td>\n    </tr>\n    <tr>\n      <th>3</th>\n      <td>684</td>\n    </tr>\n    <tr>\n      <th>4</th>\n      <td>234</td>\n    </tr>\n    <tr>\n      <th>5</th>\n      <td>69</td>\n    </tr>\n    <tr>\n      <th>6</th>\n      <td>36</td>\n    </tr>\n    <tr>\n      <th>7</th>\n      <td>12</td>\n    </tr>\n    <tr>\n      <th>8</th>\n      <td>11</td>\n    </tr>\n    <tr>\n      <th>9</th>\n      <td>8</td>\n    </tr>\n    <tr>\n      <th>10</th>\n      <td>6</td>\n    </tr>\n    <tr>\n      <th>11</th>\n      <td>2</td>\n    </tr>\n    <tr>\n      <th>12</th>\n      <td>1</td>\n    </tr>\n    <tr>\n      <th>13</th>\n      <td>3</td>\n    </tr>\n    <tr>\n      <th>15</th>\n      <td>1</td>\n    </tr>\n  </tbody>\n</table>\n</div>"
     },
     "execution_count": 35,
     "metadata": {},
     "output_type": "execute_result"
    }
   ],
   "source": [
    "df.groupby('Mgr Count')['1st Day Open to Close % Chg'].count().to_frame()"
   ]
  },
  {
   "cell_type": "markdown",
   "metadata": {
    "papermill": {
     "duration": 0.081458,
     "end_time": "2022-01-15T11:28:10.239189",
     "exception": false,
     "start_time": "2022-01-15T11:28:10.157731",
     "status": "completed"
    },
    "tags": []
   },
   "source": [
    "### Understand the relationship between `'1st Day Open to Close % Chg'` group by `'Mgr Count'`\n",
    "* Plot the mean of `'1st Day Open to Close % Chg'` group by `'Mgr Count'`\n",
    "* `DataFrame.style` method: for formatting and displaying DataFrames."
   ]
  },
  {
   "cell_type": "code",
   "execution_count": 36,
   "metadata": {
    "execution": {
     "iopub.execute_input": "2022-01-15T11:28:10.405302Z",
     "iopub.status.busy": "2022-01-15T11:28:10.404605Z",
     "iopub.status.idle": "2022-01-15T11:28:10.603381Z",
     "shell.execute_reply": "2022-01-15T11:28:10.603970Z"
    },
    "papermill": {
     "duration": 0.284447,
     "end_time": "2022-01-15T11:28:10.604127",
     "exception": false,
     "start_time": "2022-01-15T11:28:10.319680",
     "status": "completed"
    },
    "tags": []
   },
   "outputs": [
    {
     "data": {
      "text/plain": "<AxesSubplot:ylabel='Mgr Count'>"
     },
     "execution_count": 36,
     "metadata": {},
     "output_type": "execute_result"
    },
    {
     "data": {
      "text/plain": "<Figure size 432x288 with 1 Axes>",
      "image/png": "[encoded data removed]"
     },
     "metadata": {
      "needs_background": "light"
     },
     "output_type": "display_data"
    }
   ],
   "source": [
    "df.groupby('Mgr Count')['1st Day Open to Close % Chg'].mean().to_frame().plot.barh()"
   ]
  },
  {
   "cell_type": "markdown",
   "metadata": {
    "papermill": {
     "duration": 0.083608,
     "end_time": "2022-01-15T11:28:10.772450",
     "exception": false,
     "start_time": "2022-01-15T11:28:10.688842",
     "status": "completed"
    },
    "tags": []
   },
   "source": [
    "### Adding new feature: `'Lead Mgr'`\n",
    "* Perhaps the first underwriter (the lead) and the prestige of this bank is important to the first-day gains\n",
    "* Extract the lead from `Managers`\n",
    "    * [0] for the first, \"/\" splits names in the spreadsheet \n",
    "    * lambda function: (lambda arguments : expression) the expression is executed and the result is returned"
   ]
  },
  {
   "cell_type": "code",
   "execution_count": 37,
   "metadata": {
    "execution": {
     "iopub.execute_input": "2022-01-15T11:28:10.945027Z",
     "iopub.status.busy": "2022-01-15T11:28:10.944003Z",
     "iopub.status.idle": "2022-01-15T11:28:10.953041Z",
     "shell.execute_reply": "2022-01-15T11:28:10.953665Z"
    },
    "papermill": {
     "duration": 0.097242,
     "end_time": "2022-01-15T11:28:10.953823",
     "exception": false,
     "start_time": "2022-01-15T11:28:10.856581",
     "status": "completed"
    },
    "tags": []
   },
   "outputs": [],
   "source": [
    "df['Lead Mgr'] = df['Managers'].apply(lambda x: x.split('/')[0])"
   ]
  },
  {
   "cell_type": "markdown",
   "metadata": {
    "papermill": {
     "duration": 0.096262,
     "end_time": "2022-01-15T11:28:11.135857",
     "exception": false,
     "start_time": "2022-01-15T11:28:11.039595",
     "status": "completed"
    },
    "tags": []
   },
   "source": [
    "* Check each unique lead manager’ name\n",
    "* `unique()` function lists unique values in a dataframe column"
   ]
  },
  {
   "cell_type": "code",
   "execution_count": 38,
   "metadata": {
    "execution": {
     "iopub.execute_input": "2022-01-15T11:28:11.362400Z",
     "iopub.status.busy": "2022-01-15T11:28:11.361682Z",
     "iopub.status.idle": "2022-01-15T11:28:11.366564Z",
     "shell.execute_reply": "2022-01-15T11:28:11.367188Z"
    },
    "papermill": {
     "duration": 0.110671,
     "end_time": "2022-01-15T11:28:11.367343",
     "exception": false,
     "start_time": "2022-01-15T11:28:11.256672",
     "status": "completed"
    },
    "tags": []
   },
   "outputs": [
    {
     "data": {
      "text/plain": "array(['Jefferies', 'Credit Suisse', 'Citigroup',\n       'Wells Fargo Securities', 'Deutsche Bank Securities',\n       'WestPark Capital',\n       'ThinkEquity (a division of Fordham Financial Management )',\n       'J.P. Morgan', 'Goldman Sachs', 'EarlyBirdCapital',\n       'Morgan Stanley', 'Barclays', 'Raymond James', 'Stephens',\n       'Imperial Capital', 'Maxim Group LLC', 'Alexander Capital',\n       'Chardan', 'I-Bankers Securities', 'JPMorgan', 'Benchmark Company',\n       'Cantor', 'BofA Securities', 'Roth Capital Partners',\n       'Boustead Securities', 'Nomura', 'B. Riley FBR', 'Cowen',\n       'Goldman Sachs (Asia)',\n       'ThinkEquity (a division of Fordham Financial Management) ',\n       'Piper Sandler', 'AMTD', 'UBS Investment Bank', ' AMTD', 'BTIG',\n       'The Benchmark Company', 'Ladenburg Thalmann',\n       'ThinkEquity (a division of Fordham Financial Management)',\n       'Stifel', 'Credit Suisse. Citigroup', ' I-Bankers Securities',\n       'Maxim Group', 'Mizuho Securities',\n       'Network 1 Financial Securities,', 'SVB Leerink',\n       'BofA Merrill Lynch', 'Dawson James Securities',\n       'Laidlaw & Company (UK) Ltd.', 'Northland Capital', 'Credit Suiss',\n       'FIG Partners', 'Baird',\n       'Keefe, Bruyette & Woods (A Stifel Company)', 'Oppenheimer',\n       'J.P. Morgan Securities', 'DPO (Direct Public Offering)',\n       'BMO Capital Markets', 'AMTD Global Markets', '\\u200bBarclays',\n       '\\u200bJ.P. Morgan', 'Univest Securities', 'National Securities',\n       'I-Bankers Securities ', 'JonesTrading', 'Oppenheimer & Co.',\n       '\\u200bJefferies', 'Piper Jaffray', \"Sandler O'Neill & Partners\",\n       'Network 1 Financial Securities', 'Benchmark', 'Leerink Partners',\n       'Evercore ISI', 'Maxim Group ', '\\u200bCredit Suisse',\n       'Cowen and Company', 'Joseph Gunnar & Co.', 'CICC',\n       \"Sandler O'Neill + Partners\", 'Cantor Fitzgerald & Co.',\n       'Joseph Gunnar',\n       'Rodman & Renshaw (a Unit of H.C. Wainwright & Co.)',\n       'CIBC Capital Markets', 'Goldman, Sachs', 'UBS Securities',\n       'Dougherty & Company', 'Sandler O’Neill + Partners',\n       'Macquarie Capital', 'Wunderlich', 'D.A. Davidson',\n       'BofA Merrill Lync', 'Sandler O’Neill & Partners',\n       'WallachBeth Capital', 'Sandler O’Neill', 'FBR',\n       'ViewTrade Securities', 'Craig-Hallum Capital Group',\n       'National Securities Corporation', 'Cantor Fitzgerald',\n       'J.P Morgan',\n       \"Keefe, Bruyette & Woods (A Stifel Company) Sandler O'Neill + Partners\",\n       'Roth', 'Chardan Capital Markets', 'Northland Capital Markets',\n       'RBC Capital Markets', 'Keefe, Bruyette & Woods',\n       'Canaccord Genuity', 'Aegis Capital Corp', 'Cantor Fitzgerald ',\n       'Sandler ONeill + Partners', 'Axiom', 'D.A. Davidson & Co.',\n       'Axiom Capital Management', 'Morgan Stanle',\n       'Sandler O’Neill & Partners, L.P',\n       'J.P. Morgan Securities Merrill Lynch', 'Needham & Company',\n       'William Blair', 'EarlyBirdCapital, Inc.', 'Aegis Capital',\n       'Keefe, Bruyette & Woods (A Stifel Company )', 'JMP Securities',\n       'Sandler ONeill & Partners', 'Wunderlich Securities',\n       'MDB Capital Group, LLC', 'Broadband Capital Management LLC',\n       'Baird, BMO Capital Markets, Janney Montgomery Scott',\n       'Janney Montgomery Scott', 'Aegis Capital Corp.', 'Piper',\n       \"SANDLER O'NEILL + PARTNERS\",\n       'Keefe Bruyette & Woods (A Stifel Company )', 'Barclays Capital',\n       'Leerink Swann', 'Stifel Nicolaus Weisel', 'Aegis Capital ',\n       'Sandler O’Neill + Partners, L.P.', 'SANDLER O’NEILL + PARTNERS',\n       'Goldman, Sachs & Co.', '  Morgan Stanley', 'C&Co',\n       'Burnham Securities', 'Morgan Stanley, Goldman, Sachs',\n       ' Deutsche Bank Securities', 'BoA Merrill Lynch', 'Goldman, Sach',\n       'FBR Capital Markets', 'PrinceRidge', 'William Blair & Company',\n       'SunTrust Robinson Humphrey', 'Paulson Investment',\n       'Lazard Capital Markets', 'Deutsche Bank Securities ',\n       'J.P.Morgan', 'Rodman & Renshaw, LLC', 'Cowen ', 'Citi',\n       'EarlyBirdCapita', 'Goldman, Sachs & Co. ', ' Raymond James',\n       ' J.P. Morgan', 'Sunrise Securities',\n       'Cohen & Company Capital Markets, LLC   I-Bankers Securities',\n       'Morgan Keegan', 'Cit', 'Deutsche Bank',\n       'Broadband Capital Management', 'Johnson Rice & Company', 'BofA',\n       'Rodman Renshaw', 'Thomas Weisel Partners', 'Morgan Joseph',\n       'BofA Merrill Lych', 'BofA Merril Lynch', 'Rodman & Renshaw',\n       'Jefferies & Company', 'Goldman Sachs (Asia) L.L.C.',\n       'Morgan Stanley.Deutsche Bank', 'Merrill Lynch', 'Barclay Capital',\n       'Santander', 'J.P. Morghan', 'William Baird', 'Morgan Stanly',\n       'J.P.  Morgan', 'Cohen ', 'Jefferirs', 'Maxin Group',\n       'Lehman Brothers', 'Banc of America', 'Merrill Lynch\\xa0',\n       'Paulson Investment Company', 'ThinkPanmure', 'Wachovia',\n       'Friedman Billings Ramsey', 'Goldman Sachs,', 'Bear Stearns',\n       'CIBC World Markets', 'Merriman Curhan Ford',\n       'C.E. Unterberg, Towbin', 'Needham', 'Merrill Lymch',\n       'Ferris Baker Watts', 'JMP Securitites', 'WR Hambrecht+Co', 'HCFB',\n       'CRT Capital', 'Keefe Bruyette & Woods', 'Oppenhemier',\n       'KeyBanc Capital Markets', 'Piper Jafftay', 'Pali Capital', 'Pali',\n       'SunTrust Robinson', 'Craig-Hallum Capital', 'Taglich Brothers',\n       'ThinkEquity Partners', 'W.R. Hambrecht+Co.',\n       'W.R. Hambrecht + Co', 'A.G. Edwards',\n       'Credit Suisse First Boston', 'JP Morgan', 'BB&T Capital Markets',\n       'HCFP', 'CRT Capital Group', 'Feltl & Company',\n       'FTN Midwest Securities', 'EarlyBird Capital', 'Credit Suisse ',\n       'I-Bankers', 'Merril Lynch', \"Goldman Sachs In't\",\n       'Banc of America Securities', \"Sandler O'Neill\", 'AG Edwards',\n       'EarlyBirdCapital ', 'First Albany', 'Wedbush Morgan Securities',\n       'Newbridge Securities', 'Bear Streans', 'I-Baners',\n       'Capital Growth Financial', 'Robert W. Baird', 'AG Edwards & Sons',\n       'Anderson & Strudrick', 'EarlyBirdCaptial', 'W.R. Hambrecht',\n       'Gilford Securities', 'Wachovia Securities', 'SG Cowen',\n       'Wedbush Morgan', 'W.R. Hambrecht+Co', 'Gunn Allen',\n       'EarlyBridCapital', 'Johnson Rice', 'Ladenburg, Thalmann',\n       'W.R. Hambrecht + Co.', 'Feltl', 'Legg Mason Wood Walker',\n       'Casimir Capital', 'Sterne Agee & Leach', 'Scott & Stringfellow',\n       'Jefferies Broadview', 'AG Edwrads', 'Ryan Beck', 'WR Hambrecht',\n       'Sanders Morris Harris', 'Merrill', 'LG Investment & Securities',\n       'Punk Ziegel', 'Feltl and Company', 'The Shemano Group',\n       \"Sandler O'Niell & Partners\", 'Freidman Billing Ramsey',\n       'Goldman Sacha (Asia)', 'Maxium CapitalEarlybird Capital',\n       'China International', 'Advest', 'CS First Boston',\n       'Friedman, Billings', 'Friedman Billings', 'Ferris, Baker, Watts',\n       'WR Hambrecht+Co.', 'JP Turner', 'US Bancorp Piper Jaffray',\n       'CIBC Worldwide', \"China Inter'l\", 'Salomon Smith Barney',\n       'ING Barings', 'UBS Warburg', 'Keefe Bruyette', 'Adams Harkness',\n       'Schneider Securities', 'Ferris, Baker Watts', 'Keefe, Bruyette',\n       'GoldmanSachs', 'CSFirst Boston', 'A.G. Edwrads & Sons',\n       'W.R. Hambracht', 'Deutsche Banc Alex. Brown',\n       'Morgan Stanley Dean Witter', 'Somerset Financial', 'Paulson',\n       'Robertson Stephens', 'WR Hambrecht + Co.', 'CS First Boston ',\n       'CE Unterberg Towbin', 'A.G. Edwards & Sons',\n       'Dain Rauscher Wessels', 'BMN Nesbitt Burns',\n       'Deutsche Banc Alex Brown', 'GunnAllen Financial',\n       'Friedman, Billingd Ramsey', 'SG Cowen Securities',\n       'Donaldson Lufkin & Jenrette', 'Chase H&Q',\n       'Donaldson, Lufkin & Jenrette', 'Noble International Investments',\n       'Prudential Vector Healthcare',\n       'Morgan Stanley Dean Witter & China Intl.', 'UBS Warburg ',\n       'First Van Kasper', 'DBAB', 'Thomas Weisel', 'Bear, Stearns', 'GS',\n       'Roth Capital', 'Donald', 'DLJ', 'Roberston Stephens',\n       'Goldman Sachs, Salomon Smith Barney', 'CSFB', 'MSDW',\n       'Utendhal Capital Partners', 'BBVA'], dtype=object)"
     },
     "execution_count": 38,
     "metadata": {},
     "output_type": "execute_result"
    }
   ],
   "source": [
    "df['Lead Mgr'].unique()"
   ]
  },
  {
   "cell_type": "markdown",
   "metadata": {
    "papermill": {
     "duration": 0.109135,
     "end_time": "2022-01-15T11:28:11.572430",
     "exception": false,
     "start_time": "2022-01-15T11:28:11.463295",
     "status": "completed"
    },
    "tags": []
   },
   "source": [
    "* Many names are replicated with different spellings and punctuation. We will not handle this issue in this project"
   ]
  },
  {
   "cell_type": "markdown",
   "metadata": {
    "papermill": {
     "duration": 0.083901,
     "end_time": "2022-01-15T11:28:11.743922",
     "exception": false,
     "start_time": "2022-01-15T11:28:11.660021",
     "status": "completed"
    },
    "tags": []
   },
   "source": [
    "### Discover relationship between `Lead Mrg` and `'1st Day Open to Close % Chg'`"
   ]
  },
  {
   "cell_type": "code",
   "execution_count": 39,
   "metadata": {
    "execution": {
     "iopub.execute_input": "2022-01-15T11:28:11.920345Z",
     "iopub.status.busy": "2022-01-15T11:28:11.919235Z",
     "iopub.status.idle": "2022-01-15T11:28:11.943929Z",
     "shell.execute_reply": "2022-01-15T11:28:11.944492Z"
    },
    "papermill": {
     "duration": 0.117466,
     "end_time": "2022-01-15T11:28:11.944652",
     "exception": false,
     "start_time": "2022-01-15T11:28:11.827186",
     "status": "completed"
    },
    "scrolled": true,
    "tags": []
   },
   "outputs": [
    {
     "data": {
      "text/plain": "                    1st Day Open to Close % Chg     \n                                           mean  len\nLead Mgr                                            \n  Morgan Stanley                       0.002125    1\n​J.P. Morgan                          -0.076327    1\nJP Turner                             -0.022222    1\nJefferies & Company                    0.096552    1\nJefferies Broadview                   -0.002491    1\n...                                         ...  ...\nCitigroup                             -0.000159  196\nCredit Suisse                          0.003239  207\nJ.P. Morgan                            0.018309  208\nGoldman Sachs                          0.014620  299\nMorgan Stanley                         0.019325  375\n\n[334 rows x 2 columns]",
      "text/html": "<div>\n<style scoped>\n    .dataframe tbody tr th:only-of-type {\n        vertical-align: middle;\n    }\n\n    .dataframe tbody tr th {\n        vertical-align: top;\n    }\n\n    .dataframe thead tr th {\n        text-align: left;\n    }\n\n    .dataframe thead tr:last-of-type th {\n        text-align: right;\n    }\n</style>\n<table border=\"1\" class=\"dataframe\">\n  <thead>\n    <tr>\n      <th></th>\n      <th colspan=\"2\" halign=\"left\">1st Day Open to Close % Chg</th>\n    </tr>\n    <tr>\n      <th></th>\n      <th>mean</th>\n      <th>len</th>\n    </tr>\n    <tr>\n      <th>Lead Mgr</th>\n      <th></th>\n      <th></th>\n    </tr>\n  </thead>\n  <tbody>\n    <tr>\n      <th>Morgan Stanley</th>\n      <td>0.002125</td>\n      <td>1</td>\n    </tr>\n    <tr>\n      <th>​J.P. Morgan</th>\n      <td>-0.076327</td>\n      <td>1</td>\n    </tr>\n    <tr>\n      <th>JP Turner</th>\n      <td>-0.022222</td>\n      <td>1</td>\n    </tr>\n    <tr>\n      <th>Jefferies &amp; Company</th>\n      <td>0.096552</td>\n      <td>1</td>\n    </tr>\n    <tr>\n      <th>Jefferies Broadview</th>\n      <td>-0.002491</td>\n      <td>1</td>\n    </tr>\n    <tr>\n      <th>...</th>\n      <td>...</td>\n      <td>...</td>\n    </tr>\n    <tr>\n      <th>Citigroup</th>\n      <td>-0.000159</td>\n      <td>196</td>\n    </tr>\n    <tr>\n      <th>Credit Suisse</th>\n      <td>0.003239</td>\n      <td>207</td>\n    </tr>\n    <tr>\n      <th>J.P. Morgan</th>\n      <td>0.018309</td>\n      <td>208</td>\n    </tr>\n    <tr>\n      <th>Goldman Sachs</th>\n      <td>0.014620</td>\n      <td>299</td>\n    </tr>\n    <tr>\n      <th>Morgan Stanley</th>\n      <td>0.019325</td>\n      <td>375</td>\n    </tr>\n  </tbody>\n</table>\n<p>334 rows × 2 columns</p>\n</div>"
     },
     "execution_count": 39,
     "metadata": {},
     "output_type": "execute_result"
    }
   ],
   "source": [
    "df.groupby('Lead Mgr').agg({'1st Day Open to Close % Chg': ['mean', len]})\\\n",
    ".sort_values(by=('1st Day Open to Close % Chg', 'len'))"
   ]
  },
  {
   "cell_type": "code",
   "execution_count": 40,
   "metadata": {
    "execution": {
     "iopub.execute_input": "2022-01-15T11:28:12.123344Z",
     "iopub.status.busy": "2022-01-15T11:28:12.122669Z",
     "iopub.status.idle": "2022-01-15T11:28:12.132149Z",
     "shell.execute_reply": "2022-01-15T11:28:12.132873Z"
    },
    "papermill": {
     "duration": 0.101584,
     "end_time": "2022-01-15T11:28:12.133035",
     "exception": false,
     "start_time": "2022-01-15T11:28:12.031451",
     "status": "completed"
    },
    "scrolled": true,
    "tags": []
   },
   "outputs": [
    {
     "data": {
      "text/plain": "array(['Jefferies', 'Credit Suisse', 'Citigroup',\n       'Wells Fargo Securities', 'Deutsche Bank Securities',\n       'WestPark Capital',\n       'ThinkEquity (a division of Fordham Financial Management )',\n       'J.P. Morgan', 'Goldman Sachs', 'EarlyBirdCapital',\n       'Morgan Stanley', 'Barclays', 'Raymond James', 'Stephens',\n       'Imperial Capital', 'Maxim Group LLC', 'Alexander Capital',\n       'Chardan', 'I-Bankers Securities', 'JPMorgan', 'Benchmark Company',\n       'Cantor', 'BofA Securities', 'Roth Capital Partners',\n       'Boustead Securities', 'Nomura', 'B. Riley FBR', 'Cowen',\n       'Goldman Sachs (Asia)',\n       'ThinkEquity (a division of Fordham Financial Management) ',\n       'Piper Sandler', 'AMTD', 'UBS Investment Bank', ' AMTD', 'BTIG',\n       'The Benchmark Company', 'Ladenburg Thalmann',\n       'ThinkEquity (a division of Fordham Financial Management)',\n       'Stifel', 'Credit Suisse. Citigroup', ' I-Bankers Securities',\n       'Maxim Group', 'Mizuho Securities',\n       'Network 1 Financial Securities,', 'SVB Leerink',\n       'BofA Merrill Lynch', 'Dawson James Securities',\n       'Laidlaw & Company (UK) Ltd.', 'Northland Capital', 'Credit Suiss',\n       'FIG Partners', 'Baird',\n       'Keefe, Bruyette & Woods (A Stifel Company)', 'Oppenheimer',\n       'J.P. Morgan Securities', 'DPO (Direct Public Offering)',\n       'BMO Capital Markets', 'AMTD Global Markets', '\\u200bBarclays',\n       '\\u200bJ.P. Morgan', 'Univest Securities', 'National Securities',\n       'I-Bankers Securities ', 'JonesTrading', 'Oppenheimer & Co.',\n       '\\u200bJefferies', 'Piper Jaffray', \"Sandler O'Neill & Partners\",\n       'Network 1 Financial Securities', 'Benchmark', 'Leerink Partners',\n       'Evercore ISI', 'Maxim Group ', '\\u200bCredit Suisse',\n       'Cowen and Company', 'Joseph Gunnar & Co.', 'CICC',\n       \"Sandler O'Neill + Partners\", 'Cantor Fitzgerald & Co.',\n       'Joseph Gunnar',\n       'Rodman & Renshaw (a Unit of H.C. Wainwright & Co.)',\n       'CIBC Capital Markets', 'Goldman, Sachs', 'UBS Securities',\n       'Dougherty & Company', 'Sandler O’Neill + Partners',\n       'Macquarie Capital', 'Wunderlich', 'D.A. Davidson',\n       'BofA Merrill Lync', 'Sandler O’Neill & Partners',\n       'WallachBeth Capital', 'Sandler O’Neill', 'FBR',\n       'ViewTrade Securities', 'Craig-Hallum Capital Group',\n       'National Securities Corporation', 'Cantor Fitzgerald',\n       'J.P Morgan',\n       \"Keefe, Bruyette & Woods (A Stifel Company) Sandler O'Neill + Partners\",\n       'Roth', 'Chardan Capital Markets', 'Northland Capital Markets',\n       'RBC Capital Markets', 'Keefe, Bruyette & Woods',\n       'Canaccord Genuity', 'Aegis Capital Corp', 'Cantor Fitzgerald ',\n       'Sandler ONeill + Partners', 'Axiom', 'D.A. Davidson & Co.',\n       'Axiom Capital Management', 'Morgan Stanle',\n       'Sandler O’Neill & Partners, L.P',\n       'J.P. Morgan Securities Merrill Lynch', 'Needham & Company',\n       'William Blair', 'EarlyBirdCapital, Inc.', 'Aegis Capital',\n       'Keefe, Bruyette & Woods (A Stifel Company )', 'JMP Securities',\n       'Sandler ONeill & Partners', 'Wunderlich Securities',\n       'MDB Capital Group, LLC', 'Broadband Capital Management LLC',\n       'Baird, BMO Capital Markets, Janney Montgomery Scott',\n       'Janney Montgomery Scott', 'Aegis Capital Corp.', 'Piper',\n       \"SANDLER O'NEILL + PARTNERS\",\n       'Keefe Bruyette & Woods (A Stifel Company )', 'Barclays Capital',\n       'Leerink Swann', 'Stifel Nicolaus Weisel', 'Aegis Capital ',\n       'Sandler O’Neill + Partners, L.P.', 'SANDLER O’NEILL + PARTNERS',\n       'Goldman, Sachs & Co.', '  Morgan Stanley', 'C&Co',\n       'Burnham Securities', 'Morgan Stanley, Goldman, Sachs',\n       ' Deutsche Bank Securities', 'BoA Merrill Lynch', 'Goldman, Sach',\n       'FBR Capital Markets', 'PrinceRidge', 'William Blair & Company',\n       'SunTrust Robinson Humphrey', 'Paulson Investment',\n       'Lazard Capital Markets', 'Deutsche Bank Securities ',\n       'J.P.Morgan', 'Rodman & Renshaw, LLC', 'Cowen ', 'Citi',\n       'EarlyBirdCapita', 'Goldman, Sachs & Co. ', ' Raymond James',\n       ' J.P. Morgan', 'Sunrise Securities',\n       'Cohen & Company Capital Markets, LLC   I-Bankers Securities',\n       'Morgan Keegan', 'Cit', 'Deutsche Bank',\n       'Broadband Capital Management', 'Johnson Rice & Company', 'BofA',\n       'Rodman Renshaw', 'Thomas Weisel Partners', 'Morgan Joseph',\n       'BofA Merrill Lych', 'BofA Merril Lynch', 'Rodman & Renshaw',\n       'Jefferies & Company', 'Goldman Sachs (Asia) L.L.C.',\n       'Morgan Stanley.Deutsche Bank', 'Merrill Lynch', 'Barclay Capital',\n       'Santander', 'J.P. Morghan', 'William Baird', 'Morgan Stanly',\n       'J.P.  Morgan', 'Cohen ', 'Jefferirs', 'Maxin Group',\n       'Lehman Brothers', 'Banc of America', 'Merrill Lynch\\xa0',\n       'Paulson Investment Company', 'ThinkPanmure', 'Wachovia',\n       'Friedman Billings Ramsey', 'Goldman Sachs,', 'Bear Stearns',\n       'CIBC World Markets', 'Merriman Curhan Ford',\n       'C.E. Unterberg, Towbin', 'Needham', 'Merrill Lymch',\n       'Ferris Baker Watts', 'JMP Securitites', 'WR Hambrecht+Co', 'HCFB',\n       'CRT Capital', 'Keefe Bruyette & Woods', 'Oppenhemier',\n       'KeyBanc Capital Markets', 'Piper Jafftay', 'Pali Capital', 'Pali',\n       'SunTrust Robinson', 'Craig-Hallum Capital', 'Taglich Brothers',\n       'ThinkEquity Partners', 'W.R. Hambrecht+Co.',\n       'W.R. Hambrecht + Co', 'A.G. Edwards',\n       'Credit Suisse First Boston', 'JP Morgan', 'BB&T Capital Markets',\n       'HCFP', 'CRT Capital Group', 'Feltl & Company',\n       'FTN Midwest Securities', 'EarlyBird Capital', 'Credit Suisse ',\n       'I-Bankers', 'Merril Lynch', \"Goldman Sachs In't\",\n       'Banc of America Securities', \"Sandler O'Neill\", 'AG Edwards',\n       'EarlyBirdCapital ', 'First Albany', 'Wedbush Morgan Securities',\n       'Newbridge Securities', 'Bear Streans', 'I-Baners',\n       'Capital Growth Financial', 'Robert W. Baird', 'AG Edwards & Sons',\n       'Anderson & Strudrick', 'EarlyBirdCaptial', 'W.R. Hambrecht',\n       'Gilford Securities', 'Wachovia Securities', 'SG Cowen',\n       'Wedbush Morgan', 'W.R. Hambrecht+Co', 'Gunn Allen',\n       'EarlyBridCapital', 'Johnson Rice', 'Ladenburg, Thalmann',\n       'W.R. Hambrecht + Co.', 'Feltl', 'Legg Mason Wood Walker',\n       'Casimir Capital', 'Sterne Agee & Leach', 'Scott & Stringfellow',\n       'Jefferies Broadview', 'AG Edwrads', 'Ryan Beck', 'WR Hambrecht',\n       'Sanders Morris Harris', 'Merrill', 'LG Investment & Securities',\n       'Punk Ziegel', 'Feltl and Company', 'The Shemano Group',\n       \"Sandler O'Niell & Partners\", 'Freidman Billing Ramsey',\n       'Goldman Sacha (Asia)', 'Maxium CapitalEarlybird Capital',\n       'China International', 'Advest', 'CS First Boston',\n       'Friedman, Billings', 'Friedman Billings', 'Ferris, Baker, Watts',\n       'WR Hambrecht+Co.', 'JP Turner', 'US Bancorp Piper Jaffray',\n       'CIBC Worldwide', \"China Inter'l\", 'Salomon Smith Barney',\n       'ING Barings', 'UBS Warburg', 'Keefe Bruyette', 'Adams Harkness',\n       'Schneider Securities', 'Ferris, Baker Watts', 'Keefe, Bruyette',\n       'GoldmanSachs', 'CSFirst Boston', 'A.G. Edwrads & Sons',\n       'W.R. Hambracht', 'Deutsche Banc Alex. Brown',\n       'Morgan Stanley Dean Witter', 'Somerset Financial', 'Paulson',\n       'Robertson Stephens', 'WR Hambrecht + Co.', 'CS First Boston ',\n       'CE Unterberg Towbin', 'A.G. Edwards & Sons',\n       'Dain Rauscher Wessels', 'BMN Nesbitt Burns',\n       'Deutsche Banc Alex Brown', 'GunnAllen Financial',\n       'Friedman, Billingd Ramsey', 'SG Cowen Securities',\n       'Donaldson Lufkin & Jenrette', 'Chase H&Q',\n       'Donaldson, Lufkin & Jenrette', 'Noble International Investments',\n       'Prudential Vector Healthcare',\n       'Morgan Stanley Dean Witter & China Intl.', 'UBS Warburg ',\n       'First Van Kasper', 'DBAB', 'Thomas Weisel', 'Bear, Stearns', 'GS',\n       'Roth Capital', 'Donald', 'DLJ', 'Roberston Stephens',\n       'Goldman Sachs, Salomon Smith Barney', 'CSFB', 'MSDW',\n       'Utendhal Capital Partners', 'BBVA'], dtype=object)"
     },
     "execution_count": 40,
     "metadata": {},
     "output_type": "execute_result"
    }
   ],
   "source": [
    "df['Lead Mgr'].unique()"
   ]
  },
  {
   "cell_type": "markdown",
   "metadata": {
    "papermill": {
     "duration": 0.08519,
     "end_time": "2022-01-15T11:28:12.304631",
     "exception": false,
     "start_time": "2022-01-15T11:28:12.219441",
     "status": "completed"
    },
    "tags": []
   },
   "source": [
    "## Part 4 Model Building\n",
    "### Target: buy or not buy\n",
    "* Binary classification: buy or not buy an IPO?\n",
    "* Buy if investing in any IPO leads to a 2.5\\% or greater return on day\n",
    "one\n",
    "* Traget variable `y`: 2.5\\% is a threshold which is worthy of our attention"
   ]
  },
  {
   "cell_type": "code",
   "execution_count": 41,
   "metadata": {
    "execution": {
     "iopub.execute_input": "2022-01-15T11:28:12.483990Z",
     "iopub.status.busy": "2022-01-15T11:28:12.483191Z",
     "iopub.status.idle": "2022-01-15T11:28:12.495580Z",
     "shell.execute_reply": "2022-01-15T11:28:12.496777Z"
    },
    "papermill": {
     "duration": 0.104325,
     "end_time": "2022-01-15T11:28:12.497070",
     "exception": false,
     "start_time": "2022-01-15T11:28:12.392745",
     "status": "completed"
    },
    "tags": []
   },
   "outputs": [
    {
     "name": "stdout",
     "output_type": "stream",
     "text": [
      "0    0\n",
      "1    1\n",
      "2    0\n",
      "3    0\n",
      "4    0\n",
      "Name: 1st Day Open to Close % Chg, dtype: int64\n"
     ]
    }
   ],
   "source": [
    "y = df['1st Day Open to Close % Chg'].apply(lambda x: 1 if x > .025 else 0)\n",
    "print(y[0:5])"
   ]
  },
  {
   "cell_type": "markdown",
   "metadata": {
    "papermill": {
     "duration": 0.085509,
     "end_time": "2022-01-15T11:28:12.669727",
     "exception": false,
     "start_time": "2022-01-15T11:28:12.584218",
     "status": "completed"
    },
    "tags": []
   },
   "source": [
    "### Features: Predictors\n",
    "* We take variables `Opening Gap \\% Chg, Month, Day of Week, Mgr Count, Lead Mgr, Offer Price, Star Rating` as predictors"
   ]
  },
  {
   "cell_type": "code",
   "execution_count": 42,
   "metadata": {
    "execution": {
     "iopub.execute_input": "2022-01-15T11:28:12.856832Z",
     "iopub.status.busy": "2022-01-15T11:28:12.854767Z",
     "iopub.status.idle": "2022-01-15T11:28:12.863014Z",
     "shell.execute_reply": "2022-01-15T11:28:12.863822Z"
    },
    "papermill": {
     "duration": 0.106413,
     "end_time": "2022-01-15T11:28:12.864087",
     "exception": false,
     "start_time": "2022-01-15T11:28:12.757674",
     "status": "completed"
    },
    "tags": []
   },
   "outputs": [],
   "source": [
    "features = df[['Opening Gap % Chg','Month','Day of Week','Mgr Count','Lead Mgr','Offer Price', 'Star Rating']]\n",
    "#print(features.head(5).to_latex())"
   ]
  },
  {
   "cell_type": "markdown",
   "metadata": {
    "papermill": {
     "duration": 0.086895,
     "end_time": "2022-01-15T11:28:13.058017",
     "exception": false,
     "start_time": "2022-01-15T11:28:12.971122",
     "status": "completed"
    },
    "tags": []
   },
   "source": [
    "### Encoding: Check categorial data\n",
    "* Both `Month` and `Day of Week` are categorical, although they take numerical values such as 1,2,3\n",
    "* Both data type is `int`, and should be converted to categorical before encoding\n",
    "* `Star Rating` is categorical and its data type `object`. Here we make no change. But it might be converted to `int` if you handle its missing values first. "
   ]
  },
  {
   "cell_type": "code",
   "execution_count": 43,
   "metadata": {
    "execution": {
     "iopub.execute_input": "2022-01-15T11:28:13.238561Z",
     "iopub.status.busy": "2022-01-15T11:28:13.237520Z",
     "iopub.status.idle": "2022-01-15T11:28:13.242929Z",
     "shell.execute_reply": "2022-01-15T11:28:13.243542Z"
    },
    "papermill": {
     "duration": 0.098515,
     "end_time": "2022-01-15T11:28:13.243702",
     "exception": false,
     "start_time": "2022-01-15T11:28:13.145187",
     "status": "completed"
    },
    "tags": []
   },
   "outputs": [
    {
     "data": {
      "text/plain": "Opening Gap % Chg    float64\nMonth                  int64\nDay of Week            int64\nMgr Count              int64\nLead Mgr              object\nOffer Price          float64\nStar Rating           object\ndtype: object"
     },
     "execution_count": 43,
     "metadata": {},
     "output_type": "execute_result"
    }
   ],
   "source": [
    "features.dtypes \n",
    "#rint(features.dtypes.to_latex())"
   ]
  },
  {
   "cell_type": "code",
   "execution_count": 44,
   "metadata": {
    "execution": {
     "iopub.execute_input": "2022-01-15T11:28:13.424301Z",
     "iopub.status.busy": "2022-01-15T11:28:13.423181Z",
     "iopub.status.idle": "2022-01-15T11:28:13.436676Z",
     "shell.execute_reply": "2022-01-15T11:28:13.437681Z"
    },
    "papermill": {
     "duration": 0.105607,
     "end_time": "2022-01-15T11:28:13.437896",
     "exception": false,
     "start_time": "2022-01-15T11:28:13.332289",
     "status": "completed"
    },
    "tags": []
   },
   "outputs": [
    {
     "name": "stderr",
     "output_type": "stream",
     "text": [
      "C:\\Users\\Bobby\\AppData\\Local\\Temp/ipykernel_2400/3899479213.py:1: SettingWithCopyWarning: \n",
      "A value is trying to be set on a copy of a slice from a DataFrame.\n",
      "Try using .loc[row_indexer,col_indexer] = value instead\n",
      "\n",
      "See the caveats in the documentation: https://pandas.pydata.org/pandas-docs/stable/user_guide/indexing.html#returning-a-view-versus-a-copy\n",
      "  features['Month'] = features['Month'].astype('category')\n",
      "C:\\Users\\Bobby\\AppData\\Local\\Temp/ipykernel_2400/3899479213.py:2: SettingWithCopyWarning: \n",
      "A value is trying to be set on a copy of a slice from a DataFrame.\n",
      "Try using .loc[row_indexer,col_indexer] = value instead\n",
      "\n",
      "See the caveats in the documentation: https://pandas.pydata.org/pandas-docs/stable/user_guide/indexing.html#returning-a-view-versus-a-copy\n",
      "  features['Day of Week'] = features['Day of Week'].astype('category')\n"
     ]
    },
    {
     "data": {
      "text/plain": "Opening Gap % Chg     float64\nMonth                category\nDay of Week          category\nMgr Count               int64\nLead Mgr               object\nOffer Price           float64\nStar Rating            object\ndtype: object"
     },
     "execution_count": 44,
     "metadata": {},
     "output_type": "execute_result"
    }
   ],
   "source": [
    "features['Month'] = features['Month'].astype('category')\n",
    "features['Day of Week'] = features['Day of Week'].astype('category') \n",
    "features.dtypes"
   ]
  },
  {
   "cell_type": "markdown",
   "metadata": {
    "papermill": {
     "duration": 0.090835,
     "end_time": "2022-01-15T11:28:13.617018",
     "exception": false,
     "start_time": "2022-01-15T11:28:13.526183",
     "status": "completed"
    },
    "tags": []
   },
   "source": [
    "### Encoding\n",
    "* OneHot Encoder for All Categorical Data"
   ]
  },
  {
   "cell_type": "code",
   "execution_count": 45,
   "metadata": {
    "execution": {
     "iopub.execute_input": "2022-01-15T11:28:13.797169Z",
     "iopub.status.busy": "2022-01-15T11:28:13.796131Z",
     "iopub.status.idle": "2022-01-15T11:28:13.844415Z",
     "shell.execute_reply": "2022-01-15T11:28:13.845018Z"
    },
    "papermill": {
     "duration": 0.140916,
     "end_time": "2022-01-15T11:28:13.845175",
     "exception": false,
     "start_time": "2022-01-15T11:28:13.704259",
     "status": "completed"
    },
    "tags": []
   },
   "outputs": [
    {
     "data": {
      "text/plain": "      Opening Gap % Chg  Mgr Count  Offer Price  Month_1  Month_2  Month_3  \\\n0              0.053571          2        14.00        1        0        0   \n1              0.002727          2        11.00        1        0        0   \n2              0.000000          3        13.50        1        0        0   \n3              0.065385          3        13.00        1        0        0   \n4              0.052000          1        10.00        1        0        0   \n...                 ...        ...          ...      ...      ...      ...   \n3597           0.371094          1        16.00        0        0        0   \n3598           0.103125          2        20.00        0        0        0   \n3599           0.122544          1        10.69        0        0        0   \n3600           0.111842          1         9.50        0        0        0   \n3601           0.135417          1        12.00        0        0        0   \n\n      Month_4  Month_5  Month_6  Month_7  ...  Lead Mgr_​Credit Suisse  \\\n0           0        0        0        0  ...                        0   \n1           0        0        0        0  ...                        0   \n2           0        0        0        0  ...                        0   \n3           0        0        0        0  ...                        0   \n4           0        0        0        0  ...                        0   \n...       ...      ...      ...      ...  ...                      ...   \n3597        0        0        0        0  ...                        0   \n3598        0        0        0        0  ...                        0   \n3599        0        0        0        0  ...                        0   \n3600        0        0        0        0  ...                        0   \n3601        0        0        0        0  ...                        0   \n\n      Lead Mgr_​J.P. Morgan  Lead Mgr_​Jefferies  Star Rating_1.0  \\\n0                         0                    0                0   \n1                         0                    0                1   \n2                         0                    0                1   \n3                         0                    0                1   \n4                         0                    0                1   \n...                     ...                  ...              ...   \n3597                      0                    0                0   \n3598                      0                    0                0   \n3599                      0                    0                1   \n3600                      0                    0                0   \n3601                      0                    0                0   \n\n      Star Rating_2.0  Star Rating_3.0  Star Rating_4.0  Star Rating_5.0  \\\n0                   1                0                0                0   \n1                   0                0                0                0   \n2                   0                0                0                0   \n3                   0                0                0                0   \n4                   0                0                0                0   \n...               ...              ...              ...              ...   \n3597                0                1                0                0   \n3598                1                0                0                0   \n3599                0                0                0                0   \n3600                1                0                0                0   \n3601                1                0                0                0   \n\n      Star Rating_N/C  Star Rating_NC  \n0                   0               0  \n1                   0               0  \n2                   0               0  \n3                   0               0  \n4                   0               0  \n...               ...             ...  \n3597                0               0  \n3598                0               0  \n3599                0               0  \n3600                0               0  \n3601                0               0  \n\n[3602 rows x 363 columns]",
      "text/html": "<div>\n<style scoped>\n    .dataframe tbody tr th:only-of-type {\n        vertical-align: middle;\n    }\n\n    .dataframe tbody tr th {\n        vertical-align: top;\n    }\n\n    .dataframe thead th {\n        text-align: right;\n    }\n</style>\n<table border=\"1\" class=\"dataframe\">\n  <thead>\n    <tr style=\"text-align: right;\">\n      <th></th>\n      <th>Opening Gap % Chg</th>\n      <th>Mgr Count</th>\n      <th>Offer Price</th>\n      <th>Month_1</th>\n      <th>Month_2</th>\n      <th>Month_3</th>\n      <th>Month_4</th>\n      <th>Month_5</th>\n      <th>Month_6</th>\n      <th>Month_7</th>\n      <th>...</th>\n      <th>Lead Mgr_​Credit Suisse</th>\n      <th>Lead Mgr_​J.P. Morgan</th>\n      <th>Lead Mgr_​Jefferies</th>\n      <th>Star Rating_1.0</th>\n      <th>Star Rating_2.0</th>\n      <th>Star Rating_3.0</th>\n      <th>Star Rating_4.0</th>\n      <th>Star Rating_5.0</th>\n      <th>Star Rating_N/C</th>\n      <th>Star Rating_NC</th>\n    </tr>\n  </thead>\n  <tbody>\n    <tr>\n      <th>0</th>\n      <td>0.053571</td>\n      <td>2</td>\n      <td>14.00</td>\n      <td>1</td>\n      <td>0</td>\n      <td>0</td>\n      <td>0</td>\n      <td>0</td>\n      <td>0</td>\n      <td>0</td>\n      <td>...</td>\n      <td>0</td>\n      <td>0</td>\n      <td>0</td>\n      <td>0</td>\n      <td>1</td>\n      <td>0</td>\n      <td>0</td>\n      <td>0</td>\n      <td>0</td>\n      <td>0</td>\n    </tr>\n    <tr>\n      <th>1</th>\n      <td>0.002727</td>\n      <td>2</td>\n      <td>11.00</td>\n      <td>1</td>\n      <td>0</td>\n      <td>0</td>\n      <td>0</td>\n      <td>0</td>\n      <td>0</td>\n      <td>0</td>\n      <td>...</td>\n      <td>0</td>\n      <td>0</td>\n      <td>0</td>\n      <td>1</td>\n      <td>0</td>\n      <td>0</td>\n      <td>0</td>\n      <td>0</td>\n      <td>0</td>\n      <td>0</td>\n    </tr>\n    <tr>\n      <th>2</th>\n      <td>0.000000</td>\n      <td>3</td>\n      <td>13.50</td>\n      <td>1</td>\n      <td>0</td>\n      <td>0</td>\n      <td>0</td>\n      <td>0</td>\n      <td>0</td>\n      <td>0</td>\n      <td>...</td>\n      <td>0</td>\n      <td>0</td>\n      <td>0</td>\n      <td>1</td>\n      <td>0</td>\n      <td>0</td>\n      <td>0</td>\n      <td>0</td>\n      <td>0</td>\n      <td>0</td>\n    </tr>\n    <tr>\n      <th>3</th>\n      <td>0.065385</td>\n      <td>3</td>\n      <td>13.00</td>\n      <td>1</td>\n      <td>0</td>\n      <td>0</td>\n      <td>0</td>\n      <td>0</td>\n      <td>0</td>\n      <td>0</td>\n      <td>...</td>\n      <td>0</td>\n      <td>0</td>\n      <td>0</td>\n      <td>1</td>\n      <td>0</td>\n      <td>0</td>\n      <td>0</td>\n      <td>0</td>\n      <td>0</td>\n      <td>0</td>\n    </tr>\n    <tr>\n      <th>4</th>\n      <td>0.052000</td>\n      <td>1</td>\n      <td>10.00</td>\n      <td>1</td>\n      <td>0</td>\n      <td>0</td>\n      <td>0</td>\n      <td>0</td>\n      <td>0</td>\n      <td>0</td>\n      <td>...</td>\n      <td>0</td>\n      <td>0</td>\n      <td>0</td>\n      <td>1</td>\n      <td>0</td>\n      <td>0</td>\n      <td>0</td>\n      <td>0</td>\n      <td>0</td>\n      <td>0</td>\n    </tr>\n    <tr>\n      <th>...</th>\n      <td>...</td>\n      <td>...</td>\n      <td>...</td>\n      <td>...</td>\n      <td>...</td>\n      <td>...</td>\n      <td>...</td>\n      <td>...</td>\n      <td>...</td>\n      <td>...</td>\n      <td>...</td>\n      <td>...</td>\n      <td>...</td>\n      <td>...</td>\n      <td>...</td>\n      <td>...</td>\n      <td>...</td>\n      <td>...</td>\n      <td>...</td>\n      <td>...</td>\n      <td>...</td>\n    </tr>\n    <tr>\n      <th>3597</th>\n      <td>0.371094</td>\n      <td>1</td>\n      <td>16.00</td>\n      <td>0</td>\n      <td>0</td>\n      <td>0</td>\n      <td>0</td>\n      <td>0</td>\n      <td>0</td>\n      <td>0</td>\n      <td>...</td>\n      <td>0</td>\n      <td>0</td>\n      <td>0</td>\n      <td>0</td>\n      <td>0</td>\n      <td>1</td>\n      <td>0</td>\n      <td>0</td>\n      <td>0</td>\n      <td>0</td>\n    </tr>\n    <tr>\n      <th>3598</th>\n      <td>0.103125</td>\n      <td>2</td>\n      <td>20.00</td>\n      <td>0</td>\n      <td>0</td>\n      <td>0</td>\n      <td>0</td>\n      <td>0</td>\n      <td>0</td>\n      <td>0</td>\n      <td>...</td>\n      <td>0</td>\n      <td>0</td>\n      <td>0</td>\n      <td>0</td>\n      <td>1</td>\n      <td>0</td>\n      <td>0</td>\n      <td>0</td>\n      <td>0</td>\n      <td>0</td>\n    </tr>\n    <tr>\n      <th>3599</th>\n      <td>0.122544</td>\n      <td>1</td>\n      <td>10.69</td>\n      <td>0</td>\n      <td>0</td>\n      <td>0</td>\n      <td>0</td>\n      <td>0</td>\n      <td>0</td>\n      <td>0</td>\n      <td>...</td>\n      <td>0</td>\n      <td>0</td>\n      <td>0</td>\n      <td>1</td>\n      <td>0</td>\n      <td>0</td>\n      <td>0</td>\n      <td>0</td>\n      <td>0</td>\n      <td>0</td>\n    </tr>\n    <tr>\n      <th>3600</th>\n      <td>0.111842</td>\n      <td>1</td>\n      <td>9.50</td>\n      <td>0</td>\n      <td>0</td>\n      <td>0</td>\n      <td>0</td>\n      <td>0</td>\n      <td>0</td>\n      <td>0</td>\n      <td>...</td>\n      <td>0</td>\n      <td>0</td>\n      <td>0</td>\n      <td>0</td>\n      <td>1</td>\n      <td>0</td>\n      <td>0</td>\n      <td>0</td>\n      <td>0</td>\n      <td>0</td>\n    </tr>\n    <tr>\n      <th>3601</th>\n      <td>0.135417</td>\n      <td>1</td>\n      <td>12.00</td>\n      <td>0</td>\n      <td>0</td>\n      <td>0</td>\n      <td>0</td>\n      <td>0</td>\n      <td>0</td>\n      <td>0</td>\n      <td>...</td>\n      <td>0</td>\n      <td>0</td>\n      <td>0</td>\n      <td>0</td>\n      <td>1</td>\n      <td>0</td>\n      <td>0</td>\n      <td>0</td>\n      <td>0</td>\n      <td>0</td>\n    </tr>\n  </tbody>\n</table>\n<p>3602 rows × 363 columns</p>\n</div>"
     },
     "execution_count": 45,
     "metadata": {},
     "output_type": "execute_result"
    }
   ],
   "source": [
    "X = pd.get_dummies(features)\n",
    "X"
   ]
  },
  {
   "cell_type": "markdown",
   "metadata": {
    "papermill": {
     "duration": 0.08841,
     "end_time": "2022-01-15T11:28:14.021962",
     "exception": false,
     "start_time": "2022-01-15T11:28:13.933552",
     "status": "completed"
    },
    "tags": []
   },
   "source": [
    "### Training and test datasets\n",
    "* Use a basic train/test split and simply train our model on all but thelast 200 IPOs and test on the last IPOs"
   ]
  },
  {
   "cell_type": "code",
   "execution_count": 46,
   "metadata": {
    "execution": {
     "iopub.execute_input": "2022-01-15T11:28:14.201628Z",
     "iopub.status.busy": "2022-01-15T11:28:14.200565Z",
     "iopub.status.idle": "2022-01-15T11:28:14.207710Z",
     "shell.execute_reply": "2022-01-15T11:28:14.208236Z"
    },
    "papermill": {
     "duration": 0.098095,
     "end_time": "2022-01-15T11:28:14.208399",
     "exception": false,
     "start_time": "2022-01-15T11:28:14.110304",
     "status": "completed"
    },
    "tags": []
   },
   "outputs": [],
   "source": [
    "X_train = X[:-200]\n",
    "y_train = y[:-200]\n",
    "X_test = X[-200:]\n",
    "y_test = y[-200:]"
   ]
  },
  {
   "cell_type": "markdown",
   "metadata": {
    "papermill": {
     "duration": 0.134767,
     "end_time": "2022-01-15T11:28:14.430714",
     "exception": false,
     "start_time": "2022-01-15T11:28:14.295947",
     "status": "completed"
    },
    "tags": []
   },
   "source": [
    "### Build a model\n",
    "* Create a logistic regression model\n",
    "* Fit it on training dataset"
   ]
  },
  {
   "cell_type": "code",
   "execution_count": 47,
   "metadata": {
    "execution": {
     "iopub.execute_input": "2022-01-15T11:28:14.611950Z",
     "iopub.status.busy": "2022-01-15T11:28:14.611281Z",
     "iopub.status.idle": "2022-01-15T11:28:16.239949Z",
     "shell.execute_reply": "2022-01-15T11:28:16.239242Z"
    },
    "papermill": {
     "duration": 1.721257,
     "end_time": "2022-01-15T11:28:16.240079",
     "exception": false,
     "start_time": "2022-01-15T11:28:14.518822",
     "status": "completed"
    },
    "tags": []
   },
   "outputs": [
    {
     "data": {
      "text/plain": "LogisticRegression(max_iter=2000)"
     },
     "execution_count": 47,
     "metadata": {},
     "output_type": "execute_result"
    }
   ],
   "source": [
    "from sklearn.linear_model import LogisticRegression\n",
    "\n",
    "clf = LogisticRegression(max_iter=2000)\n",
    "clf.fit(X_train, y_train)"
   ]
  },
  {
   "cell_type": "markdown",
   "metadata": {
    "papermill": {
     "duration": 0.090799,
     "end_time": "2022-01-15T11:28:16.421585",
     "exception": false,
     "start_time": "2022-01-15T11:28:16.330786",
     "status": "completed"
    },
    "tags": []
   },
   "source": [
    "### Predict on test dataset"
   ]
  },
  {
   "cell_type": "code",
   "execution_count": 48,
   "metadata": {
    "execution": {
     "iopub.execute_input": "2022-01-15T11:28:16.611639Z",
     "iopub.status.busy": "2022-01-15T11:28:16.610450Z",
     "iopub.status.idle": "2022-01-15T11:28:16.614342Z",
     "shell.execute_reply": "2022-01-15T11:28:16.615034Z"
    },
    "papermill": {
     "duration": 0.105449,
     "end_time": "2022-01-15T11:28:16.615186",
     "exception": false,
     "start_time": "2022-01-15T11:28:16.509737",
     "status": "completed"
    },
    "tags": []
   },
   "outputs": [],
   "source": [
    "y_pred = clf.predict(X_test) "
   ]
  },
  {
   "cell_type": "markdown",
   "metadata": {
    "papermill": {
     "duration": 0.089535,
     "end_time": "2022-01-15T11:28:16.795330",
     "exception": false,
     "start_time": "2022-01-15T11:28:16.705795",
     "status": "completed"
    },
    "tags": []
   },
   "source": [
    "## Part 5 Model Evaluation\n",
    "* Evaluate the accuracy of this model on test dataset.\n",
    "* Better than flipping a coin"
   ]
  },
  {
   "cell_type": "code",
   "execution_count": 49,
   "metadata": {
    "execution": {
     "iopub.execute_input": "2022-01-15T11:28:16.978152Z",
     "iopub.status.busy": "2022-01-15T11:28:16.977111Z",
     "iopub.status.idle": "2022-01-15T11:28:16.984084Z",
     "shell.execute_reply": "2022-01-15T11:28:16.984776Z"
    },
    "papermill": {
     "duration": 0.102121,
     "end_time": "2022-01-15T11:28:16.984935",
     "exception": false,
     "start_time": "2022-01-15T11:28:16.882814",
     "status": "completed"
    },
    "tags": []
   },
   "outputs": [
    {
     "name": "stdout",
     "output_type": "stream",
     "text": [
      "Test Accuracy: 0.510\n"
     ]
    }
   ],
   "source": [
    "from sklearn.metrics import accuracy_score\n",
    "print('Test Accuracy: %.3f' % accuracy_score(y_test, y_pred))"
   ]
  },
  {
   "cell_type": "markdown",
   "metadata": {
    "papermill": {
     "duration": 0.089319,
     "end_time": "2022-01-15T11:28:17.163905",
     "exception": false,
     "start_time": "2022-01-15T11:28:17.074586",
     "status": "completed"
    },
    "tags": []
   },
   "source": [
    "### Confusion matrix\n",
    "* From the confusion matrix, we see that ML's strategy is\n",
    "    * TP (1, 1): low \n",
    "    * FN (1, 0):  high. Missing some buys  \n",
    "    * TN (0, 0): high. Avoid non-buys\n",
    "    * FP (0, 1): low \n",
    "    "
   ]
  },
  {
   "cell_type": "code",
   "execution_count": 50,
   "metadata": {
    "execution": {
     "iopub.execute_input": "2022-01-15T11:28:17.343629Z",
     "iopub.status.busy": "2022-01-15T11:28:17.342961Z",
     "iopub.status.idle": "2022-01-15T11:28:17.536025Z",
     "shell.execute_reply": "2022-01-15T11:28:17.535228Z"
    },
    "papermill": {
     "duration": 0.283178,
     "end_time": "2022-01-15T11:28:17.536163",
     "exception": false,
     "start_time": "2022-01-15T11:28:17.252985",
     "status": "completed"
    },
    "tags": []
   },
   "outputs": [
    {
     "name": "stderr",
     "output_type": "stream",
     "text": [
      "C:\\Users\\Bobby\\AppData\\Local\\Programs\\Python\\Python39\\lib\\site-packages\\sklearn\\utils\\deprecation.py:87: FutureWarning: Function plot_confusion_matrix is deprecated; Function `plot_confusion_matrix` is deprecated in 1.0 and will be removed in 1.2. Use one of the class methods: ConfusionMatrixDisplay.from_predictions or ConfusionMatrixDisplay.from_estimator.\n",
      "  warnings.warn(msg, category=FutureWarning)\n"
     ]
    },
    {
     "data": {
      "text/plain": "<sklearn.metrics._plot.confusion_matrix.ConfusionMatrixDisplay at 0x2cc184ed670>"
     },
     "execution_count": 50,
     "metadata": {},
     "output_type": "execute_result"
    },
    {
     "data": {
      "text/plain": "<Figure size 252x216 with 2 Axes>",
      "image/png": "[encoded data removed]"
     },
     "metadata": {
      "needs_background": "light"
     },
     "output_type": "display_data"
    }
   ],
   "source": [
    "from sklearn.metrics import plot_confusion_matrix\n",
    "fig, ax = plt.subplots(figsize=(3.5,3))\n",
    "plot_confusion_matrix(clf, X_test, y_test,normalize ='true', ax=ax)\n",
    "#fig.savefig(\"eda-confusion-map.pdf\",format='pdf', dpi=300)"
   ]
  },
  {
   "cell_type": "markdown",
   "metadata": {
    "papermill": {
     "duration": 0.090478,
     "end_time": "2022-01-15T11:28:17.715125",
     "exception": false,
     "start_time": "2022-01-15T11:28:17.624647",
     "status": "completed"
    },
    "tags": []
   },
   "source": [
    "### Expectancy beyond Accuracy\n",
    "* With investing, what is important is not the accuracy but the expectancy\n",
    "* If a person had a number of small losses, but a couple of huge wins, overall, the model could still be very profitable. \n",
    "* **Expectancy** is how much money, on average, you can expect to make or lose per dollar. \n",
    "* Let's examine whether this is our case"
   ]
  },
  {
   "cell_type": "markdown",
   "metadata": {
    "papermill": {
     "duration": 0.087921,
     "end_time": "2022-01-15T11:28:17.891997",
     "exception": false,
     "start_time": "2022-01-15T11:28:17.804076",
     "status": "completed"
    },
    "tags": []
   },
   "source": [
    "### Create a new dataframe with actual, prediction and correctness\n",
    "* dataframe `pdf` records the actual output , prediction output () and correctness.\n",
    "* Use a `lambda` function to calculate the correctness\n"
   ]
  },
  {
   "cell_type": "code",
   "execution_count": 51,
   "metadata": {
    "execution": {
     "iopub.execute_input": "2022-01-15T11:28:18.077197Z",
     "iopub.status.busy": "2022-01-15T11:28:18.076158Z",
     "iopub.status.idle": "2022-01-15T11:28:18.081872Z",
     "shell.execute_reply": "2022-01-15T11:28:18.082479Z"
    },
    "papermill": {
     "duration": 0.100594,
     "end_time": "2022-01-15T11:28:18.082638",
     "exception": false,
     "start_time": "2022-01-15T11:28:17.982044",
     "status": "completed"
    },
    "tags": []
   },
   "outputs": [],
   "source": [
    "df2 = pd.DataFrame({'y_true': y_test, 'y_pred': y_pred})"
   ]
  },
  {
   "cell_type": "code",
   "execution_count": 52,
   "metadata": {
    "execution": {
     "iopub.execute_input": "2022-01-15T11:28:18.266200Z",
     "iopub.status.busy": "2022-01-15T11:28:18.265108Z",
     "iopub.status.idle": "2022-01-15T11:28:18.279417Z",
     "shell.execute_reply": "2022-01-15T11:28:18.280027Z"
    },
    "papermill": {
     "duration": 0.107296,
     "end_time": "2022-01-15T11:28:18.280184",
     "exception": false,
     "start_time": "2022-01-15T11:28:18.172888",
     "status": "completed"
    },
    "tags": []
   },
   "outputs": [],
   "source": [
    "df2['correct'] = df2.apply(lambda x: 1 if x['y_true'] == x['y_pred'] else 0, axis=1)"
   ]
  },
  {
   "cell_type": "code",
   "execution_count": 53,
   "metadata": {
    "execution": {
     "iopub.execute_input": "2022-01-15T11:28:18.464770Z",
     "iopub.status.busy": "2022-01-15T11:28:18.463727Z",
     "iopub.status.idle": "2022-01-15T11:28:18.473645Z",
     "shell.execute_reply": "2022-01-15T11:28:18.474206Z"
    },
    "papermill": {
     "duration": 0.104077,
     "end_time": "2022-01-15T11:28:18.474350",
     "exception": false,
     "start_time": "2022-01-15T11:28:18.370273",
     "status": "completed"
    },
    "scrolled": true,
    "tags": []
   },
   "outputs": [
    {
     "data": {
      "text/plain": "      y_true  y_pred  correct\n3597       1       0        0\n3598       1       0        0\n3599       1       0        0\n3600       0       0        1\n3601       1       0        0",
      "text/html": "<div>\n<style scoped>\n    .dataframe tbody tr th:only-of-type {\n        vertical-align: middle;\n    }\n\n    .dataframe tbody tr th {\n        vertical-align: top;\n    }\n\n    .dataframe thead th {\n        text-align: right;\n    }\n</style>\n<table border=\"1\" class=\"dataframe\">\n  <thead>\n    <tr style=\"text-align: right;\">\n      <th></th>\n      <th>y_true</th>\n      <th>y_pred</th>\n      <th>correct</th>\n    </tr>\n  </thead>\n  <tbody>\n    <tr>\n      <th>3597</th>\n      <td>1</td>\n      <td>0</td>\n      <td>0</td>\n    </tr>\n    <tr>\n      <th>3598</th>\n      <td>1</td>\n      <td>0</td>\n      <td>0</td>\n    </tr>\n    <tr>\n      <th>3599</th>\n      <td>1</td>\n      <td>0</td>\n      <td>0</td>\n    </tr>\n    <tr>\n      <th>3600</th>\n      <td>0</td>\n      <td>0</td>\n      <td>1</td>\n    </tr>\n    <tr>\n      <th>3601</th>\n      <td>1</td>\n      <td>0</td>\n      <td>0</td>\n    </tr>\n  </tbody>\n</table>\n</div>"
     },
     "execution_count": 53,
     "metadata": {},
     "output_type": "execute_result"
    }
   ],
   "source": [
    "df2.tail(5)\n",
    "#print(df2.tail(5).to_latex()) "
   ]
  },
  {
   "cell_type": "markdown",
   "metadata": {
    "papermill": {
     "duration": 0.090979,
     "end_time": "2022-01-15T11:28:18.655086",
     "exception": false,
     "start_time": "2022-01-15T11:28:18.564107",
     "status": "completed"
    },
    "tags": []
   },
   "source": [
    "### Merge  the dataframe of  actual, prediction and correctness with the first-day change\n",
    "* First the results data is joined with the first-day change data\n",
    "* `merge` function:  implement all standard database join operations between DataFrame or named Series objects\n",
    "* `left_index = True`:  use the index (row labels) from the left DataFrame or Series as its join key(s)"
   ]
  },
  {
   "cell_type": "code",
   "execution_count": 54,
   "metadata": {
    "execution": {
     "iopub.execute_input": "2022-01-15T11:28:18.846931Z",
     "iopub.status.busy": "2022-01-15T11:28:18.845999Z",
     "iopub.status.idle": "2022-01-15T11:28:18.855160Z",
     "shell.execute_reply": "2022-01-15T11:28:18.855654Z"
    },
    "papermill": {
     "duration": 0.110318,
     "end_time": "2022-01-15T11:28:18.855817",
     "exception": false,
     "start_time": "2022-01-15T11:28:18.745499",
     "status": "completed"
    },
    "scrolled": true,
    "tags": []
   },
   "outputs": [
    {
     "data": {
      "text/plain": "      y_true  y_pred  correct  1st Day Open to Close $ Chg\n3597       1       0        0                       1.3750\n3598       1       0        0                       2.4375\n3599       1       0        0                       1.3750\n3600       0       0        1                      -0.6875\n3601       1       0        0                       2.3750",
      "text/html": "<div>\n<style scoped>\n    .dataframe tbody tr th:only-of-type {\n        vertical-align: middle;\n    }\n\n    .dataframe tbody tr th {\n        vertical-align: top;\n    }\n\n    .dataframe thead th {\n        text-align: right;\n    }\n</style>\n<table border=\"1\" class=\"dataframe\">\n  <thead>\n    <tr style=\"text-align: right;\">\n      <th></th>\n      <th>y_true</th>\n      <th>y_pred</th>\n      <th>correct</th>\n      <th>1st Day Open to Close $ Chg</th>\n    </tr>\n  </thead>\n  <tbody>\n    <tr>\n      <th>3597</th>\n      <td>1</td>\n      <td>0</td>\n      <td>0</td>\n      <td>1.3750</td>\n    </tr>\n    <tr>\n      <th>3598</th>\n      <td>1</td>\n      <td>0</td>\n      <td>0</td>\n      <td>2.4375</td>\n    </tr>\n    <tr>\n      <th>3599</th>\n      <td>1</td>\n      <td>0</td>\n      <td>0</td>\n      <td>1.3750</td>\n    </tr>\n    <tr>\n      <th>3600</th>\n      <td>0</td>\n      <td>0</td>\n      <td>1</td>\n      <td>-0.6875</td>\n    </tr>\n    <tr>\n      <th>3601</th>\n      <td>1</td>\n      <td>0</td>\n      <td>0</td>\n      <td>2.3750</td>\n    </tr>\n  </tbody>\n</table>\n</div>"
     },
     "execution_count": 54,
     "metadata": {},
     "output_type": "execute_result"
    }
   ],
   "source": [
    "results = pd.merge(df2, df[['1st Day Open to Close $ Chg']], left_index=True, right_index=True)\n",
    "results.tail(5)\n",
    "#print(results.tail(5).to_latex()) "
   ]
  },
  {
   "cell_type": "markdown",
   "metadata": {
    "papermill": {
     "duration": 0.089976,
     "end_time": "2022-01-15T11:28:19.037120",
     "exception": false,
     "start_time": "2022-01-15T11:28:18.947144",
     "status": "completed"
    },
    "tags": []
   },
   "source": [
    "### Expectancy on buying all 200 test IPOs\n",
    "* If we buy all IPO on the test data, what is the expectancy?\n",
    "* Calculate the mean of  `1st Day Open to Close $ Chg` of the 200 IPOs in the test data  "
   ]
  },
  {
   "cell_type": "code",
   "execution_count": 55,
   "metadata": {
    "execution": {
     "iopub.execute_input": "2022-01-15T11:28:19.224175Z",
     "iopub.status.busy": "2022-01-15T11:28:19.223429Z",
     "iopub.status.idle": "2022-01-15T11:28:19.230443Z",
     "shell.execute_reply": "2022-01-15T11:28:19.229902Z"
    },
    "papermill": {
     "duration": 0.100954,
     "end_time": "2022-01-15T11:28:19.230592",
     "exception": false,
     "start_time": "2022-01-15T11:28:19.129638",
     "status": "completed"
    },
    "tags": []
   },
   "outputs": [
    {
     "data": {
      "text/plain": "1.07859375"
     },
     "execution_count": 55,
     "metadata": {},
     "output_type": "execute_result"
    }
   ],
   "source": [
    "results['1st Day Open to Close $ Chg'].mean()"
   ]
  },
  {
   "cell_type": "markdown",
   "metadata": {
    "papermill": {
     "duration": 0.091994,
     "end_time": "2022-01-15T11:28:19.414181",
     "exception": false,
     "start_time": "2022-01-15T11:28:19.322187",
     "status": "completed"
    },
    "tags": []
   },
   "source": [
    "### Expectancy on buying IPOs recommended by ML\n",
    "* Only buy IPOs recommended by ML among 200 IPOs \n",
    "* Examine the mean gian on buying IPOs recommended by ML\n",
    "* The average gain is improved"
   ]
  },
  {
   "cell_type": "code",
   "execution_count": 56,
   "metadata": {
    "execution": {
     "iopub.execute_input": "2022-01-15T11:28:19.599007Z",
     "iopub.status.busy": "2022-01-15T11:28:19.597968Z",
     "iopub.status.idle": "2022-01-15T11:28:19.607822Z",
     "shell.execute_reply": "2022-01-15T11:28:19.608449Z"
    },
    "papermill": {
     "duration": 0.104218,
     "end_time": "2022-01-15T11:28:19.608646",
     "exception": false,
     "start_time": "2022-01-15T11:28:19.504428",
     "status": "completed"
    },
    "tags": []
   },
   "outputs": [
    {
     "data": {
      "text/plain": "1.690625"
     },
     "execution_count": 56,
     "metadata": {},
     "output_type": "execute_result"
    }
   ],
   "source": [
    "results[results['y_pred']==1]['1st Day Open to Close $ Chg'].mean()"
   ]
  },
  {
   "cell_type": "markdown",
   "metadata": {
    "papermill": {
     "duration": 0.091026,
     "end_time": "2022-01-15T11:28:19.791638",
     "exception": false,
     "start_time": "2022-01-15T11:28:19.700612",
     "status": "completed"
    },
    "tags": []
   },
   "source": [
    "### What factors has the largest impact on buying? \n",
    "* Logistic regression offers predictor coefficients as the relative importance of the predictor variables\n",
    "    * For categorical features, a positive sign on a feature's coefficient means this feature increases the probability of a positive outcome versus the baseline. \n",
    "    * For continuous features, a positive sign means  that an increase in the value of a feature corresponds to an increase in the probability of a positive outcome. \n",
    "    * The size of the coefficient tells us the magnitude of the increase in probability. "
   ]
  },
  {
   "cell_type": "code",
   "execution_count": 57,
   "metadata": {
    "execution": {
     "iopub.execute_input": "2022-01-15T11:28:19.987027Z",
     "iopub.status.busy": "2022-01-15T11:28:19.985990Z",
     "iopub.status.idle": "2022-01-15T11:28:20.001386Z",
     "shell.execute_reply": "2022-01-15T11:28:20.002026Z"
    },
    "papermill": {
     "duration": 0.115305,
     "end_time": "2022-01-15T11:28:20.002187",
     "exception": false,
     "start_time": "2022-01-15T11:28:19.886882",
     "status": "completed"
    },
    "scrolled": true,
    "tags": []
   },
   "outputs": [
    {
     "data": {
      "text/plain": "                               features  coefficient\n0          Lead Mgr_BMO Capital Markets     1.442054\n1       Lead Mgr_C.E. Unterberg, Towbin     1.336996\n2                 Lead Mgr_ J.P. Morgan     1.144883\n3                Lead Mgr_Joseph Gunnar     1.066812\n4  Lead Mgr_Laidlaw & Company (UK) Ltd.     1.054225\n5             Lead Mgr_EarlyBridCapital     1.010957\n6      Lead Mgr_Keefe, Bruyette & Woods     0.910935\n7    Lead Mgr_Sandler ONeill & Partners     0.910414\n8     Lead Mgr_Deutsche Banc Alex Brown     0.909036\n9    Lead Mgr_Deutsche Banc Alex. Brown     0.897878",
      "text/html": "<div>\n<style scoped>\n    .dataframe tbody tr th:only-of-type {\n        vertical-align: middle;\n    }\n\n    .dataframe tbody tr th {\n        vertical-align: top;\n    }\n\n    .dataframe thead th {\n        text-align: right;\n    }\n</style>\n<table border=\"1\" class=\"dataframe\">\n  <thead>\n    <tr style=\"text-align: right;\">\n      <th></th>\n      <th>features</th>\n      <th>coefficient</th>\n    </tr>\n  </thead>\n  <tbody>\n    <tr>\n      <th>0</th>\n      <td>Lead Mgr_BMO Capital Markets</td>\n      <td>1.442054</td>\n    </tr>\n    <tr>\n      <th>1</th>\n      <td>Lead Mgr_C.E. Unterberg, Towbin</td>\n      <td>1.336996</td>\n    </tr>\n    <tr>\n      <th>2</th>\n      <td>Lead Mgr_ J.P. Morgan</td>\n      <td>1.144883</td>\n    </tr>\n    <tr>\n      <th>3</th>\n      <td>Lead Mgr_Joseph Gunnar</td>\n      <td>1.066812</td>\n    </tr>\n    <tr>\n      <th>4</th>\n      <td>Lead Mgr_Laidlaw &amp; Company (UK) Ltd.</td>\n      <td>1.054225</td>\n    </tr>\n    <tr>\n      <th>5</th>\n      <td>Lead Mgr_EarlyBridCapital</td>\n      <td>1.010957</td>\n    </tr>\n    <tr>\n      <th>6</th>\n      <td>Lead Mgr_Keefe, Bruyette &amp; Woods</td>\n      <td>0.910935</td>\n    </tr>\n    <tr>\n      <th>7</th>\n      <td>Lead Mgr_Sandler ONeill &amp; Partners</td>\n      <td>0.910414</td>\n    </tr>\n    <tr>\n      <th>8</th>\n      <td>Lead Mgr_Deutsche Banc Alex Brown</td>\n      <td>0.909036</td>\n    </tr>\n    <tr>\n      <th>9</th>\n      <td>Lead Mgr_Deutsche Banc Alex. Brown</td>\n      <td>0.897878</td>\n    </tr>\n  </tbody>\n</table>\n</div>"
     },
     "execution_count": 57,
     "metadata": {},
     "output_type": "execute_result"
    }
   ],
   "source": [
    "df3 = pd.DataFrame(zip(X_train.columns, np.transpose(clf.coef_.tolist()[0])), columns=['features', 'coefficient']) # create a dataframe\n",
    "df3 = df3.sort_values('coefficient', ascending=0).reset_index(drop=True) # sort data frame according to 'coefficient' values\n",
    "df3 = df3.append({'features':'intercept','coefficient' : clf.intercept_.tolist()[0]}, ignore_index=True) # append a new row\n",
    "df3.head(10)"
   ]
  },
  {
   "cell_type": "code",
   "execution_count": 58,
   "metadata": {
    "execution": {
     "iopub.execute_input": "2022-01-15T11:28:20.190744Z",
     "iopub.status.busy": "2022-01-15T11:28:20.189739Z",
     "iopub.status.idle": "2022-01-15T11:28:20.200862Z",
     "shell.execute_reply": "2022-01-15T11:28:20.201441Z"
    },
    "papermill": {
     "duration": 0.106944,
     "end_time": "2022-01-15T11:28:20.201611",
     "exception": false,
     "start_time": "2022-01-15T11:28:20.094667",
     "status": "completed"
    },
    "tags": []
   },
   "outputs": [
    {
     "data": {
      "text/plain": "                                              features  coefficient\n354                                      Lead Mgr_Citi    -0.769986\n355                              Lead Mgr_B. Riley FBR    -0.883309\n356                   Lead Mgr_Chardan Capital Markets    -0.894055\n357                           Lead Mgr_Maxim Group LLC    -0.926583\n358                                    Lead Mgr_Cantor    -0.937876\n359                          Lead Mgr_EarlyBirdCapital    -1.040040\n360                             Lead Mgr_Morgan Joseph    -1.193040\n361                                   Lead Mgr_Chardan    -1.227673\n362  Lead Mgr_Keefe, Bruyette & Woods (A Stifel Com...    -1.240262\n363                                          intercept    -0.817420",
      "text/html": "<div>\n<style scoped>\n    .dataframe tbody tr th:only-of-type {\n        vertical-align: middle;\n    }\n\n    .dataframe tbody tr th {\n        vertical-align: top;\n    }\n\n    .dataframe thead th {\n        text-align: right;\n    }\n</style>\n<table border=\"1\" class=\"dataframe\">\n  <thead>\n    <tr style=\"text-align: right;\">\n      <th></th>\n      <th>features</th>\n      <th>coefficient</th>\n    </tr>\n  </thead>\n  <tbody>\n    <tr>\n      <th>354</th>\n      <td>Lead Mgr_Citi</td>\n      <td>-0.769986</td>\n    </tr>\n    <tr>\n      <th>355</th>\n      <td>Lead Mgr_B. Riley FBR</td>\n      <td>-0.883309</td>\n    </tr>\n    <tr>\n      <th>356</th>\n      <td>Lead Mgr_Chardan Capital Markets</td>\n      <td>-0.894055</td>\n    </tr>\n    <tr>\n      <th>357</th>\n      <td>Lead Mgr_Maxim Group LLC</td>\n      <td>-0.926583</td>\n    </tr>\n    <tr>\n      <th>358</th>\n      <td>Lead Mgr_Cantor</td>\n      <td>-0.937876</td>\n    </tr>\n    <tr>\n      <th>359</th>\n      <td>Lead Mgr_EarlyBirdCapital</td>\n      <td>-1.040040</td>\n    </tr>\n    <tr>\n      <th>360</th>\n      <td>Lead Mgr_Morgan Joseph</td>\n      <td>-1.193040</td>\n    </tr>\n    <tr>\n      <th>361</th>\n      <td>Lead Mgr_Chardan</td>\n      <td>-1.227673</td>\n    </tr>\n    <tr>\n      <th>362</th>\n      <td>Lead Mgr_Keefe, Bruyette &amp; Woods (A Stifel Com...</td>\n      <td>-1.240262</td>\n    </tr>\n    <tr>\n      <th>363</th>\n      <td>intercept</td>\n      <td>-0.817420</td>\n    </tr>\n  </tbody>\n</table>\n</div>"
     },
     "execution_count": 58,
     "metadata": {},
     "output_type": "execute_result"
    }
   ],
   "source": [
    "df3.tail(10)"
   ]
  },
  {
   "cell_type": "markdown",
   "metadata": {
    "papermill": {
     "duration": 0.093166,
     "end_time": "2022-01-15T11:28:20.386080",
     "exception": false,
     "start_time": "2022-01-15T11:28:20.292914",
     "status": "completed"
    },
    "tags": []
   },
   "source": [
    "## Summary\n",
    "* Apply CRISP-DM to the real-world IPO data \n",
    "* Understanding business\n",
    "    * identify business purpose of this IPO project \n",
    "* Data understading and prepareion \n",
    "    * Read Excel spreadsheet through `xlrd` library\n",
    "    * Convert float dates into the normal date format \n",
    "    * EDA of the IPO market\n",
    "    * Data cleansing (drop penny IPO) \n",
    "    * Feature engineering (add new features) \n",
    "    * Dummy encoding of categorical features using `patsy` library\n",
    "* Model building\n",
    "    * Binary classification with logistic regression\n",
    "* Model evaluation:\n",
    "    * based on Expectancy rather than accuracy"
   ]
  }
 ],
 "metadata": {
  "kernelspec": {
   "display_name": "Python 3",
   "language": "python",
   "name": "python3"
  },
  "language_info": {
   "codemirror_mode": {
    "name": "ipython",
    "version": 3
   },
   "file_extension": ".py",
   "mimetype": "text/x-python",
   "name": "python",
   "nbconvert_exporter": "python",
   "pygments_lexer": "ipython3",
   "version": "3.7.6"
  },
  "papermill": {
   "duration": 28.754195,
   "end_time": "2022-01-15T11:28:20.587108",
   "environment_variables": {},
   "exception": null,
   "input_path": "__notebook__.ipynb",
   "output_path": "__notebook__.ipynb",
   "parameters": {},
   "start_time": "2022-01-15T11:27:51.832913",
   "version": "2.1.0"
  }
 },
 "nbformat": 4,
 "nbformat_minor": 4
}